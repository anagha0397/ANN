{
 "cells": [
  {
   "cell_type": "markdown",
   "id": "3470737d",
   "metadata": {},
   "source": [
    "Problem Statement: PREDICT THE BURNED AREA OF FOREST FIRES WITH NEURAL NETWORKS\n"
   ]
  },
  {
   "cell_type": "code",
   "execution_count": 47,
   "id": "38d0c76a",
   "metadata": {},
   "outputs": [],
   "source": [
    "import pandas as pd\n",
    "import numpy as np \n",
    "from keras.layers import Dense \n",
    "from keras.models import Sequential"
   ]
  },
  {
   "cell_type": "code",
   "execution_count": 48,
   "id": "be913119",
   "metadata": {},
   "outputs": [],
   "source": [
    "forest = pd.read_csv(\"G:/data sceince/Assignments/Neural Networks/forestfires.csv\")"
   ]
  },
  {
   "cell_type": "code",
   "execution_count": 49,
   "id": "7bef83ed",
   "metadata": {},
   "outputs": [
    {
     "data": {
      "text/html": [
       "<div>\n",
       "<style scoped>\n",
       "    .dataframe tbody tr th:only-of-type {\n",
       "        vertical-align: middle;\n",
       "    }\n",
       "\n",
       "    .dataframe tbody tr th {\n",
       "        vertical-align: top;\n",
       "    }\n",
       "\n",
       "    .dataframe thead th {\n",
       "        text-align: right;\n",
       "    }\n",
       "</style>\n",
       "<table border=\"1\" class=\"dataframe\">\n",
       "  <thead>\n",
       "    <tr style=\"text-align: right;\">\n",
       "      <th></th>\n",
       "      <th>month</th>\n",
       "      <th>day</th>\n",
       "      <th>FFMC</th>\n",
       "      <th>DMC</th>\n",
       "      <th>DC</th>\n",
       "      <th>ISI</th>\n",
       "      <th>temp</th>\n",
       "      <th>RH</th>\n",
       "      <th>wind</th>\n",
       "      <th>rain</th>\n",
       "      <th>...</th>\n",
       "      <th>monthfeb</th>\n",
       "      <th>monthjan</th>\n",
       "      <th>monthjul</th>\n",
       "      <th>monthjun</th>\n",
       "      <th>monthmar</th>\n",
       "      <th>monthmay</th>\n",
       "      <th>monthnov</th>\n",
       "      <th>monthoct</th>\n",
       "      <th>monthsep</th>\n",
       "      <th>size_category</th>\n",
       "    </tr>\n",
       "  </thead>\n",
       "  <tbody>\n",
       "    <tr>\n",
       "      <th>0</th>\n",
       "      <td>mar</td>\n",
       "      <td>fri</td>\n",
       "      <td>86.2</td>\n",
       "      <td>26.2</td>\n",
       "      <td>94.3</td>\n",
       "      <td>5.1</td>\n",
       "      <td>8.2</td>\n",
       "      <td>51</td>\n",
       "      <td>6.7</td>\n",
       "      <td>0.0</td>\n",
       "      <td>...</td>\n",
       "      <td>0</td>\n",
       "      <td>0</td>\n",
       "      <td>0</td>\n",
       "      <td>0</td>\n",
       "      <td>1</td>\n",
       "      <td>0</td>\n",
       "      <td>0</td>\n",
       "      <td>0</td>\n",
       "      <td>0</td>\n",
       "      <td>small</td>\n",
       "    </tr>\n",
       "    <tr>\n",
       "      <th>1</th>\n",
       "      <td>oct</td>\n",
       "      <td>tue</td>\n",
       "      <td>90.6</td>\n",
       "      <td>35.4</td>\n",
       "      <td>669.1</td>\n",
       "      <td>6.7</td>\n",
       "      <td>18.0</td>\n",
       "      <td>33</td>\n",
       "      <td>0.9</td>\n",
       "      <td>0.0</td>\n",
       "      <td>...</td>\n",
       "      <td>0</td>\n",
       "      <td>0</td>\n",
       "      <td>0</td>\n",
       "      <td>0</td>\n",
       "      <td>0</td>\n",
       "      <td>0</td>\n",
       "      <td>0</td>\n",
       "      <td>1</td>\n",
       "      <td>0</td>\n",
       "      <td>small</td>\n",
       "    </tr>\n",
       "    <tr>\n",
       "      <th>2</th>\n",
       "      <td>oct</td>\n",
       "      <td>sat</td>\n",
       "      <td>90.6</td>\n",
       "      <td>43.7</td>\n",
       "      <td>686.9</td>\n",
       "      <td>6.7</td>\n",
       "      <td>14.6</td>\n",
       "      <td>33</td>\n",
       "      <td>1.3</td>\n",
       "      <td>0.0</td>\n",
       "      <td>...</td>\n",
       "      <td>0</td>\n",
       "      <td>0</td>\n",
       "      <td>0</td>\n",
       "      <td>0</td>\n",
       "      <td>0</td>\n",
       "      <td>0</td>\n",
       "      <td>0</td>\n",
       "      <td>1</td>\n",
       "      <td>0</td>\n",
       "      <td>small</td>\n",
       "    </tr>\n",
       "    <tr>\n",
       "      <th>3</th>\n",
       "      <td>mar</td>\n",
       "      <td>fri</td>\n",
       "      <td>91.7</td>\n",
       "      <td>33.3</td>\n",
       "      <td>77.5</td>\n",
       "      <td>9.0</td>\n",
       "      <td>8.3</td>\n",
       "      <td>97</td>\n",
       "      <td>4.0</td>\n",
       "      <td>0.2</td>\n",
       "      <td>...</td>\n",
       "      <td>0</td>\n",
       "      <td>0</td>\n",
       "      <td>0</td>\n",
       "      <td>0</td>\n",
       "      <td>1</td>\n",
       "      <td>0</td>\n",
       "      <td>0</td>\n",
       "      <td>0</td>\n",
       "      <td>0</td>\n",
       "      <td>small</td>\n",
       "    </tr>\n",
       "    <tr>\n",
       "      <th>4</th>\n",
       "      <td>mar</td>\n",
       "      <td>sun</td>\n",
       "      <td>89.3</td>\n",
       "      <td>51.3</td>\n",
       "      <td>102.2</td>\n",
       "      <td>9.6</td>\n",
       "      <td>11.4</td>\n",
       "      <td>99</td>\n",
       "      <td>1.8</td>\n",
       "      <td>0.0</td>\n",
       "      <td>...</td>\n",
       "      <td>0</td>\n",
       "      <td>0</td>\n",
       "      <td>0</td>\n",
       "      <td>0</td>\n",
       "      <td>1</td>\n",
       "      <td>0</td>\n",
       "      <td>0</td>\n",
       "      <td>0</td>\n",
       "      <td>0</td>\n",
       "      <td>small</td>\n",
       "    </tr>\n",
       "  </tbody>\n",
       "</table>\n",
       "<p>5 rows × 31 columns</p>\n",
       "</div>"
      ],
      "text/plain": [
       "  month  day  FFMC   DMC     DC  ISI  temp  RH  wind  rain  ...  monthfeb  \\\n",
       "0   mar  fri  86.2  26.2   94.3  5.1   8.2  51   6.7   0.0  ...         0   \n",
       "1   oct  tue  90.6  35.4  669.1  6.7  18.0  33   0.9   0.0  ...         0   \n",
       "2   oct  sat  90.6  43.7  686.9  6.7  14.6  33   1.3   0.0  ...         0   \n",
       "3   mar  fri  91.7  33.3   77.5  9.0   8.3  97   4.0   0.2  ...         0   \n",
       "4   mar  sun  89.3  51.3  102.2  9.6  11.4  99   1.8   0.0  ...         0   \n",
       "\n",
       "   monthjan  monthjul  monthjun  monthmar  monthmay  monthnov  monthoct  \\\n",
       "0         0         0         0         1         0         0         0   \n",
       "1         0         0         0         0         0         0         1   \n",
       "2         0         0         0         0         0         0         1   \n",
       "3         0         0         0         1         0         0         0   \n",
       "4         0         0         0         1         0         0         0   \n",
       "\n",
       "   monthsep  size_category  \n",
       "0         0          small  \n",
       "1         0          small  \n",
       "2         0          small  \n",
       "3         0          small  \n",
       "4         0          small  \n",
       "\n",
       "[5 rows x 31 columns]"
      ]
     },
     "execution_count": 49,
     "metadata": {},
     "output_type": "execute_result"
    }
   ],
   "source": [
    "forest.head()"
   ]
  },
  {
   "cell_type": "code",
   "execution_count": 50,
   "id": "c93136aa",
   "metadata": {},
   "outputs": [
    {
     "data": {
      "text/plain": [
       "(517, 31)"
      ]
     },
     "execution_count": 50,
     "metadata": {},
     "output_type": "execute_result"
    }
   ],
   "source": [
    "forest.shape"
   ]
  },
  {
   "cell_type": "code",
   "execution_count": 51,
   "id": "71f64dbd",
   "metadata": {},
   "outputs": [
    {
     "name": "stdout",
     "output_type": "stream",
     "text": [
      "<class 'pandas.core.frame.DataFrame'>\n",
      "RangeIndex: 517 entries, 0 to 516\n",
      "Data columns (total 31 columns):\n",
      " #   Column         Non-Null Count  Dtype  \n",
      "---  ------         --------------  -----  \n",
      " 0   month          517 non-null    object \n",
      " 1   day            517 non-null    object \n",
      " 2   FFMC           517 non-null    float64\n",
      " 3   DMC            517 non-null    float64\n",
      " 4   DC             517 non-null    float64\n",
      " 5   ISI            517 non-null    float64\n",
      " 6   temp           517 non-null    float64\n",
      " 7   RH             517 non-null    int64  \n",
      " 8   wind           517 non-null    float64\n",
      " 9   rain           517 non-null    float64\n",
      " 10  area           517 non-null    float64\n",
      " 11  dayfri         517 non-null    int64  \n",
      " 12  daymon         517 non-null    int64  \n",
      " 13  daysat         517 non-null    int64  \n",
      " 14  daysun         517 non-null    int64  \n",
      " 15  daythu         517 non-null    int64  \n",
      " 16  daytue         517 non-null    int64  \n",
      " 17  daywed         517 non-null    int64  \n",
      " 18  monthapr       517 non-null    int64  \n",
      " 19  monthaug       517 non-null    int64  \n",
      " 20  monthdec       517 non-null    int64  \n",
      " 21  monthfeb       517 non-null    int64  \n",
      " 22  monthjan       517 non-null    int64  \n",
      " 23  monthjul       517 non-null    int64  \n",
      " 24  monthjun       517 non-null    int64  \n",
      " 25  monthmar       517 non-null    int64  \n",
      " 26  monthmay       517 non-null    int64  \n",
      " 27  monthnov       517 non-null    int64  \n",
      " 28  monthoct       517 non-null    int64  \n",
      " 29  monthsep       517 non-null    int64  \n",
      " 30  size_category  517 non-null    object \n",
      "dtypes: float64(8), int64(20), object(3)\n",
      "memory usage: 125.3+ KB\n"
     ]
    }
   ],
   "source": [
    "forest.info()"
   ]
  },
  {
   "cell_type": "code",
   "execution_count": 52,
   "id": "906a749d",
   "metadata": {},
   "outputs": [],
   "source": [
    "from sklearn.preprocessing import LabelEncoder"
   ]
  },
  {
   "cell_type": "code",
   "execution_count": 53,
   "id": "4afc6dcf",
   "metadata": {},
   "outputs": [],
   "source": [
    "# convering the size_category column into Labels by using label encoder\n",
    "\n",
    "label_encoder = LabelEncoder()\n",
    "forest['size_category'] = label_encoder.fit_transform(forest.size_category)"
   ]
  },
  {
   "cell_type": "code",
   "execution_count": 54,
   "id": "a57ff039",
   "metadata": {},
   "outputs": [],
   "source": [
    "forest = forest.drop(['month','day'], axis = 1)"
   ]
  },
  {
   "cell_type": "code",
   "execution_count": 55,
   "id": "2dfcbabf",
   "metadata": {},
   "outputs": [
    {
     "data": {
      "text/html": [
       "<div>\n",
       "<style scoped>\n",
       "    .dataframe tbody tr th:only-of-type {\n",
       "        vertical-align: middle;\n",
       "    }\n",
       "\n",
       "    .dataframe tbody tr th {\n",
       "        vertical-align: top;\n",
       "    }\n",
       "\n",
       "    .dataframe thead th {\n",
       "        text-align: right;\n",
       "    }\n",
       "</style>\n",
       "<table border=\"1\" class=\"dataframe\">\n",
       "  <thead>\n",
       "    <tr style=\"text-align: right;\">\n",
       "      <th></th>\n",
       "      <th>FFMC</th>\n",
       "      <th>DMC</th>\n",
       "      <th>DC</th>\n",
       "      <th>ISI</th>\n",
       "      <th>temp</th>\n",
       "      <th>RH</th>\n",
       "      <th>wind</th>\n",
       "      <th>rain</th>\n",
       "      <th>area</th>\n",
       "      <th>dayfri</th>\n",
       "      <th>...</th>\n",
       "      <th>monthfeb</th>\n",
       "      <th>monthjan</th>\n",
       "      <th>monthjul</th>\n",
       "      <th>monthjun</th>\n",
       "      <th>monthmar</th>\n",
       "      <th>monthmay</th>\n",
       "      <th>monthnov</th>\n",
       "      <th>monthoct</th>\n",
       "      <th>monthsep</th>\n",
       "      <th>size_category</th>\n",
       "    </tr>\n",
       "  </thead>\n",
       "  <tbody>\n",
       "    <tr>\n",
       "      <th>0</th>\n",
       "      <td>86.2</td>\n",
       "      <td>26.2</td>\n",
       "      <td>94.3</td>\n",
       "      <td>5.1</td>\n",
       "      <td>8.2</td>\n",
       "      <td>51</td>\n",
       "      <td>6.7</td>\n",
       "      <td>0.0</td>\n",
       "      <td>0.0</td>\n",
       "      <td>1</td>\n",
       "      <td>...</td>\n",
       "      <td>0</td>\n",
       "      <td>0</td>\n",
       "      <td>0</td>\n",
       "      <td>0</td>\n",
       "      <td>1</td>\n",
       "      <td>0</td>\n",
       "      <td>0</td>\n",
       "      <td>0</td>\n",
       "      <td>0</td>\n",
       "      <td>1</td>\n",
       "    </tr>\n",
       "    <tr>\n",
       "      <th>1</th>\n",
       "      <td>90.6</td>\n",
       "      <td>35.4</td>\n",
       "      <td>669.1</td>\n",
       "      <td>6.7</td>\n",
       "      <td>18.0</td>\n",
       "      <td>33</td>\n",
       "      <td>0.9</td>\n",
       "      <td>0.0</td>\n",
       "      <td>0.0</td>\n",
       "      <td>0</td>\n",
       "      <td>...</td>\n",
       "      <td>0</td>\n",
       "      <td>0</td>\n",
       "      <td>0</td>\n",
       "      <td>0</td>\n",
       "      <td>0</td>\n",
       "      <td>0</td>\n",
       "      <td>0</td>\n",
       "      <td>1</td>\n",
       "      <td>0</td>\n",
       "      <td>1</td>\n",
       "    </tr>\n",
       "    <tr>\n",
       "      <th>2</th>\n",
       "      <td>90.6</td>\n",
       "      <td>43.7</td>\n",
       "      <td>686.9</td>\n",
       "      <td>6.7</td>\n",
       "      <td>14.6</td>\n",
       "      <td>33</td>\n",
       "      <td>1.3</td>\n",
       "      <td>0.0</td>\n",
       "      <td>0.0</td>\n",
       "      <td>0</td>\n",
       "      <td>...</td>\n",
       "      <td>0</td>\n",
       "      <td>0</td>\n",
       "      <td>0</td>\n",
       "      <td>0</td>\n",
       "      <td>0</td>\n",
       "      <td>0</td>\n",
       "      <td>0</td>\n",
       "      <td>1</td>\n",
       "      <td>0</td>\n",
       "      <td>1</td>\n",
       "    </tr>\n",
       "    <tr>\n",
       "      <th>3</th>\n",
       "      <td>91.7</td>\n",
       "      <td>33.3</td>\n",
       "      <td>77.5</td>\n",
       "      <td>9.0</td>\n",
       "      <td>8.3</td>\n",
       "      <td>97</td>\n",
       "      <td>4.0</td>\n",
       "      <td>0.2</td>\n",
       "      <td>0.0</td>\n",
       "      <td>1</td>\n",
       "      <td>...</td>\n",
       "      <td>0</td>\n",
       "      <td>0</td>\n",
       "      <td>0</td>\n",
       "      <td>0</td>\n",
       "      <td>1</td>\n",
       "      <td>0</td>\n",
       "      <td>0</td>\n",
       "      <td>0</td>\n",
       "      <td>0</td>\n",
       "      <td>1</td>\n",
       "    </tr>\n",
       "    <tr>\n",
       "      <th>4</th>\n",
       "      <td>89.3</td>\n",
       "      <td>51.3</td>\n",
       "      <td>102.2</td>\n",
       "      <td>9.6</td>\n",
       "      <td>11.4</td>\n",
       "      <td>99</td>\n",
       "      <td>1.8</td>\n",
       "      <td>0.0</td>\n",
       "      <td>0.0</td>\n",
       "      <td>0</td>\n",
       "      <td>...</td>\n",
       "      <td>0</td>\n",
       "      <td>0</td>\n",
       "      <td>0</td>\n",
       "      <td>0</td>\n",
       "      <td>1</td>\n",
       "      <td>0</td>\n",
       "      <td>0</td>\n",
       "      <td>0</td>\n",
       "      <td>0</td>\n",
       "      <td>1</td>\n",
       "    </tr>\n",
       "  </tbody>\n",
       "</table>\n",
       "<p>5 rows × 29 columns</p>\n",
       "</div>"
      ],
      "text/plain": [
       "   FFMC   DMC     DC  ISI  temp  RH  wind  rain  area  dayfri  ...  monthfeb  \\\n",
       "0  86.2  26.2   94.3  5.1   8.2  51   6.7   0.0   0.0       1  ...         0   \n",
       "1  90.6  35.4  669.1  6.7  18.0  33   0.9   0.0   0.0       0  ...         0   \n",
       "2  90.6  43.7  686.9  6.7  14.6  33   1.3   0.0   0.0       0  ...         0   \n",
       "3  91.7  33.3   77.5  9.0   8.3  97   4.0   0.2   0.0       1  ...         0   \n",
       "4  89.3  51.3  102.2  9.6  11.4  99   1.8   0.0   0.0       0  ...         0   \n",
       "\n",
       "   monthjan  monthjul  monthjun  monthmar  monthmay  monthnov  monthoct  \\\n",
       "0         0         0         0         1         0         0         0   \n",
       "1         0         0         0         0         0         0         1   \n",
       "2         0         0         0         0         0         0         1   \n",
       "3         0         0         0         1         0         0         0   \n",
       "4         0         0         0         1         0         0         0   \n",
       "\n",
       "   monthsep  size_category  \n",
       "0         0              1  \n",
       "1         0              1  \n",
       "2         0              1  \n",
       "3         0              1  \n",
       "4         0              1  \n",
       "\n",
       "[5 rows x 29 columns]"
      ]
     },
     "execution_count": 55,
     "metadata": {},
     "output_type": "execute_result"
    }
   ],
   "source": [
    "forest.head()"
   ]
  },
  {
   "cell_type": "code",
   "execution_count": 56,
   "id": "cf96e8cc",
   "metadata": {},
   "outputs": [
    {
     "data": {
      "text/html": [
       "<div>\n",
       "<style scoped>\n",
       "    .dataframe tbody tr th:only-of-type {\n",
       "        vertical-align: middle;\n",
       "    }\n",
       "\n",
       "    .dataframe tbody tr th {\n",
       "        vertical-align: top;\n",
       "    }\n",
       "\n",
       "    .dataframe thead th {\n",
       "        text-align: right;\n",
       "    }\n",
       "</style>\n",
       "<table border=\"1\" class=\"dataframe\">\n",
       "  <thead>\n",
       "    <tr style=\"text-align: right;\">\n",
       "      <th></th>\n",
       "      <th>FFMC</th>\n",
       "      <th>DMC</th>\n",
       "      <th>DC</th>\n",
       "      <th>ISI</th>\n",
       "      <th>temp</th>\n",
       "      <th>RH</th>\n",
       "      <th>wind</th>\n",
       "      <th>rain</th>\n",
       "      <th>area</th>\n",
       "      <th>dayfri</th>\n",
       "      <th>...</th>\n",
       "      <th>monthfeb</th>\n",
       "      <th>monthjan</th>\n",
       "      <th>monthjul</th>\n",
       "      <th>monthjun</th>\n",
       "      <th>monthmar</th>\n",
       "      <th>monthmay</th>\n",
       "      <th>monthnov</th>\n",
       "      <th>monthoct</th>\n",
       "      <th>monthsep</th>\n",
       "      <th>size_category</th>\n",
       "    </tr>\n",
       "  </thead>\n",
       "  <tbody>\n",
       "    <tr>\n",
       "      <th>count</th>\n",
       "      <td>517.000000</td>\n",
       "      <td>517.000000</td>\n",
       "      <td>517.000000</td>\n",
       "      <td>517.000000</td>\n",
       "      <td>517.000000</td>\n",
       "      <td>517.000000</td>\n",
       "      <td>517.000000</td>\n",
       "      <td>517.000000</td>\n",
       "      <td>517.000000</td>\n",
       "      <td>517.000000</td>\n",
       "      <td>...</td>\n",
       "      <td>517.000000</td>\n",
       "      <td>517.000000</td>\n",
       "      <td>517.000000</td>\n",
       "      <td>517.000000</td>\n",
       "      <td>517.000000</td>\n",
       "      <td>517.000000</td>\n",
       "      <td>517.000000</td>\n",
       "      <td>517.000000</td>\n",
       "      <td>517.000000</td>\n",
       "      <td>517.000000</td>\n",
       "    </tr>\n",
       "    <tr>\n",
       "      <th>mean</th>\n",
       "      <td>90.644681</td>\n",
       "      <td>110.872340</td>\n",
       "      <td>547.940039</td>\n",
       "      <td>9.021663</td>\n",
       "      <td>18.889168</td>\n",
       "      <td>44.288201</td>\n",
       "      <td>4.017602</td>\n",
       "      <td>0.021663</td>\n",
       "      <td>12.847292</td>\n",
       "      <td>0.164410</td>\n",
       "      <td>...</td>\n",
       "      <td>0.038685</td>\n",
       "      <td>0.003868</td>\n",
       "      <td>0.061896</td>\n",
       "      <td>0.032882</td>\n",
       "      <td>0.104449</td>\n",
       "      <td>0.003868</td>\n",
       "      <td>0.001934</td>\n",
       "      <td>0.029014</td>\n",
       "      <td>0.332689</td>\n",
       "      <td>0.731141</td>\n",
       "    </tr>\n",
       "    <tr>\n",
       "      <th>std</th>\n",
       "      <td>5.520111</td>\n",
       "      <td>64.046482</td>\n",
       "      <td>248.066192</td>\n",
       "      <td>4.559477</td>\n",
       "      <td>5.806625</td>\n",
       "      <td>16.317469</td>\n",
       "      <td>1.791653</td>\n",
       "      <td>0.295959</td>\n",
       "      <td>63.655818</td>\n",
       "      <td>0.371006</td>\n",
       "      <td>...</td>\n",
       "      <td>0.193029</td>\n",
       "      <td>0.062137</td>\n",
       "      <td>0.241199</td>\n",
       "      <td>0.178500</td>\n",
       "      <td>0.306138</td>\n",
       "      <td>0.062137</td>\n",
       "      <td>0.043980</td>\n",
       "      <td>0.168007</td>\n",
       "      <td>0.471632</td>\n",
       "      <td>0.443796</td>\n",
       "    </tr>\n",
       "    <tr>\n",
       "      <th>min</th>\n",
       "      <td>18.700000</td>\n",
       "      <td>1.100000</td>\n",
       "      <td>7.900000</td>\n",
       "      <td>0.000000</td>\n",
       "      <td>2.200000</td>\n",
       "      <td>15.000000</td>\n",
       "      <td>0.400000</td>\n",
       "      <td>0.000000</td>\n",
       "      <td>0.000000</td>\n",
       "      <td>0.000000</td>\n",
       "      <td>...</td>\n",
       "      <td>0.000000</td>\n",
       "      <td>0.000000</td>\n",
       "      <td>0.000000</td>\n",
       "      <td>0.000000</td>\n",
       "      <td>0.000000</td>\n",
       "      <td>0.000000</td>\n",
       "      <td>0.000000</td>\n",
       "      <td>0.000000</td>\n",
       "      <td>0.000000</td>\n",
       "      <td>0.000000</td>\n",
       "    </tr>\n",
       "    <tr>\n",
       "      <th>25%</th>\n",
       "      <td>90.200000</td>\n",
       "      <td>68.600000</td>\n",
       "      <td>437.700000</td>\n",
       "      <td>6.500000</td>\n",
       "      <td>15.500000</td>\n",
       "      <td>33.000000</td>\n",
       "      <td>2.700000</td>\n",
       "      <td>0.000000</td>\n",
       "      <td>0.000000</td>\n",
       "      <td>0.000000</td>\n",
       "      <td>...</td>\n",
       "      <td>0.000000</td>\n",
       "      <td>0.000000</td>\n",
       "      <td>0.000000</td>\n",
       "      <td>0.000000</td>\n",
       "      <td>0.000000</td>\n",
       "      <td>0.000000</td>\n",
       "      <td>0.000000</td>\n",
       "      <td>0.000000</td>\n",
       "      <td>0.000000</td>\n",
       "      <td>0.000000</td>\n",
       "    </tr>\n",
       "    <tr>\n",
       "      <th>50%</th>\n",
       "      <td>91.600000</td>\n",
       "      <td>108.300000</td>\n",
       "      <td>664.200000</td>\n",
       "      <td>8.400000</td>\n",
       "      <td>19.300000</td>\n",
       "      <td>42.000000</td>\n",
       "      <td>4.000000</td>\n",
       "      <td>0.000000</td>\n",
       "      <td>0.520000</td>\n",
       "      <td>0.000000</td>\n",
       "      <td>...</td>\n",
       "      <td>0.000000</td>\n",
       "      <td>0.000000</td>\n",
       "      <td>0.000000</td>\n",
       "      <td>0.000000</td>\n",
       "      <td>0.000000</td>\n",
       "      <td>0.000000</td>\n",
       "      <td>0.000000</td>\n",
       "      <td>0.000000</td>\n",
       "      <td>0.000000</td>\n",
       "      <td>1.000000</td>\n",
       "    </tr>\n",
       "    <tr>\n",
       "      <th>75%</th>\n",
       "      <td>92.900000</td>\n",
       "      <td>142.400000</td>\n",
       "      <td>713.900000</td>\n",
       "      <td>10.800000</td>\n",
       "      <td>22.800000</td>\n",
       "      <td>53.000000</td>\n",
       "      <td>4.900000</td>\n",
       "      <td>0.000000</td>\n",
       "      <td>6.570000</td>\n",
       "      <td>0.000000</td>\n",
       "      <td>...</td>\n",
       "      <td>0.000000</td>\n",
       "      <td>0.000000</td>\n",
       "      <td>0.000000</td>\n",
       "      <td>0.000000</td>\n",
       "      <td>0.000000</td>\n",
       "      <td>0.000000</td>\n",
       "      <td>0.000000</td>\n",
       "      <td>0.000000</td>\n",
       "      <td>1.000000</td>\n",
       "      <td>1.000000</td>\n",
       "    </tr>\n",
       "    <tr>\n",
       "      <th>max</th>\n",
       "      <td>96.200000</td>\n",
       "      <td>291.300000</td>\n",
       "      <td>860.600000</td>\n",
       "      <td>56.100000</td>\n",
       "      <td>33.300000</td>\n",
       "      <td>100.000000</td>\n",
       "      <td>9.400000</td>\n",
       "      <td>6.400000</td>\n",
       "      <td>1090.840000</td>\n",
       "      <td>1.000000</td>\n",
       "      <td>...</td>\n",
       "      <td>1.000000</td>\n",
       "      <td>1.000000</td>\n",
       "      <td>1.000000</td>\n",
       "      <td>1.000000</td>\n",
       "      <td>1.000000</td>\n",
       "      <td>1.000000</td>\n",
       "      <td>1.000000</td>\n",
       "      <td>1.000000</td>\n",
       "      <td>1.000000</td>\n",
       "      <td>1.000000</td>\n",
       "    </tr>\n",
       "  </tbody>\n",
       "</table>\n",
       "<p>8 rows × 29 columns</p>\n",
       "</div>"
      ],
      "text/plain": [
       "             FFMC         DMC          DC         ISI        temp          RH  \\\n",
       "count  517.000000  517.000000  517.000000  517.000000  517.000000  517.000000   \n",
       "mean    90.644681  110.872340  547.940039    9.021663   18.889168   44.288201   \n",
       "std      5.520111   64.046482  248.066192    4.559477    5.806625   16.317469   \n",
       "min     18.700000    1.100000    7.900000    0.000000    2.200000   15.000000   \n",
       "25%     90.200000   68.600000  437.700000    6.500000   15.500000   33.000000   \n",
       "50%     91.600000  108.300000  664.200000    8.400000   19.300000   42.000000   \n",
       "75%     92.900000  142.400000  713.900000   10.800000   22.800000   53.000000   \n",
       "max     96.200000  291.300000  860.600000   56.100000   33.300000  100.000000   \n",
       "\n",
       "             wind        rain         area      dayfri  ...    monthfeb  \\\n",
       "count  517.000000  517.000000   517.000000  517.000000  ...  517.000000   \n",
       "mean     4.017602    0.021663    12.847292    0.164410  ...    0.038685   \n",
       "std      1.791653    0.295959    63.655818    0.371006  ...    0.193029   \n",
       "min      0.400000    0.000000     0.000000    0.000000  ...    0.000000   \n",
       "25%      2.700000    0.000000     0.000000    0.000000  ...    0.000000   \n",
       "50%      4.000000    0.000000     0.520000    0.000000  ...    0.000000   \n",
       "75%      4.900000    0.000000     6.570000    0.000000  ...    0.000000   \n",
       "max      9.400000    6.400000  1090.840000    1.000000  ...    1.000000   \n",
       "\n",
       "         monthjan    monthjul    monthjun    monthmar    monthmay    monthnov  \\\n",
       "count  517.000000  517.000000  517.000000  517.000000  517.000000  517.000000   \n",
       "mean     0.003868    0.061896    0.032882    0.104449    0.003868    0.001934   \n",
       "std      0.062137    0.241199    0.178500    0.306138    0.062137    0.043980   \n",
       "min      0.000000    0.000000    0.000000    0.000000    0.000000    0.000000   \n",
       "25%      0.000000    0.000000    0.000000    0.000000    0.000000    0.000000   \n",
       "50%      0.000000    0.000000    0.000000    0.000000    0.000000    0.000000   \n",
       "75%      0.000000    0.000000    0.000000    0.000000    0.000000    0.000000   \n",
       "max      1.000000    1.000000    1.000000    1.000000    1.000000    1.000000   \n",
       "\n",
       "         monthoct    monthsep  size_category  \n",
       "count  517.000000  517.000000     517.000000  \n",
       "mean     0.029014    0.332689       0.731141  \n",
       "std      0.168007    0.471632       0.443796  \n",
       "min      0.000000    0.000000       0.000000  \n",
       "25%      0.000000    0.000000       0.000000  \n",
       "50%      0.000000    0.000000       1.000000  \n",
       "75%      0.000000    1.000000       1.000000  \n",
       "max      1.000000    1.000000       1.000000  \n",
       "\n",
       "[8 rows x 29 columns]"
      ]
     },
     "execution_count": 56,
     "metadata": {},
     "output_type": "execute_result"
    }
   ],
   "source": [
    "forest.describe()"
   ]
  },
  {
   "cell_type": "code",
   "execution_count": 57,
   "id": "8f9754e9",
   "metadata": {},
   "outputs": [
    {
     "data": {
      "text/plain": [
       "1    378\n",
       "0    139\n",
       "Name: size_category, dtype: int64"
      ]
     },
     "execution_count": 57,
     "metadata": {},
     "output_type": "execute_result"
    }
   ],
   "source": [
    "forest['size_category'].value_counts()"
   ]
  },
  {
   "cell_type": "code",
   "execution_count": 58,
   "id": "b0c862a2",
   "metadata": {},
   "outputs": [
    {
     "data": {
      "text/plain": [
       "FFMC             float64\n",
       "DMC              float64\n",
       "DC               float64\n",
       "ISI              float64\n",
       "temp             float64\n",
       "RH                 int64\n",
       "wind             float64\n",
       "rain             float64\n",
       "area             float64\n",
       "dayfri             int64\n",
       "daymon             int64\n",
       "daysat             int64\n",
       "daysun             int64\n",
       "daythu             int64\n",
       "daytue             int64\n",
       "daywed             int64\n",
       "monthapr           int64\n",
       "monthaug           int64\n",
       "monthdec           int64\n",
       "monthfeb           int64\n",
       "monthjan           int64\n",
       "monthjul           int64\n",
       "monthjun           int64\n",
       "monthmar           int64\n",
       "monthmay           int64\n",
       "monthnov           int64\n",
       "monthoct           int64\n",
       "monthsep           int64\n",
       "size_category      int32\n",
       "dtype: object"
      ]
     },
     "execution_count": 58,
     "metadata": {},
     "output_type": "execute_result"
    }
   ],
   "source": [
    "forest.dtypes"
   ]
  },
  {
   "cell_type": "code",
   "execution_count": 59,
   "id": "2a11701d",
   "metadata": {},
   "outputs": [],
   "source": [
    "x = forest.iloc[:,0:28]\n",
    "y = forest.iloc[:,28]"
   ]
  },
  {
   "cell_type": "code",
   "execution_count": 60,
   "id": "d50059aa",
   "metadata": {},
   "outputs": [
    {
     "data": {
      "text/html": [
       "<div>\n",
       "<style scoped>\n",
       "    .dataframe tbody tr th:only-of-type {\n",
       "        vertical-align: middle;\n",
       "    }\n",
       "\n",
       "    .dataframe tbody tr th {\n",
       "        vertical-align: top;\n",
       "    }\n",
       "\n",
       "    .dataframe thead th {\n",
       "        text-align: right;\n",
       "    }\n",
       "</style>\n",
       "<table border=\"1\" class=\"dataframe\">\n",
       "  <thead>\n",
       "    <tr style=\"text-align: right;\">\n",
       "      <th></th>\n",
       "      <th>FFMC</th>\n",
       "      <th>DMC</th>\n",
       "      <th>DC</th>\n",
       "      <th>ISI</th>\n",
       "      <th>temp</th>\n",
       "      <th>RH</th>\n",
       "      <th>wind</th>\n",
       "      <th>rain</th>\n",
       "      <th>area</th>\n",
       "      <th>dayfri</th>\n",
       "      <th>...</th>\n",
       "      <th>monthdec</th>\n",
       "      <th>monthfeb</th>\n",
       "      <th>monthjan</th>\n",
       "      <th>monthjul</th>\n",
       "      <th>monthjun</th>\n",
       "      <th>monthmar</th>\n",
       "      <th>monthmay</th>\n",
       "      <th>monthnov</th>\n",
       "      <th>monthoct</th>\n",
       "      <th>monthsep</th>\n",
       "    </tr>\n",
       "  </thead>\n",
       "  <tbody>\n",
       "    <tr>\n",
       "      <th>0</th>\n",
       "      <td>86.2</td>\n",
       "      <td>26.2</td>\n",
       "      <td>94.3</td>\n",
       "      <td>5.1</td>\n",
       "      <td>8.2</td>\n",
       "      <td>51</td>\n",
       "      <td>6.7</td>\n",
       "      <td>0.0</td>\n",
       "      <td>0.00</td>\n",
       "      <td>1</td>\n",
       "      <td>...</td>\n",
       "      <td>0</td>\n",
       "      <td>0</td>\n",
       "      <td>0</td>\n",
       "      <td>0</td>\n",
       "      <td>0</td>\n",
       "      <td>1</td>\n",
       "      <td>0</td>\n",
       "      <td>0</td>\n",
       "      <td>0</td>\n",
       "      <td>0</td>\n",
       "    </tr>\n",
       "    <tr>\n",
       "      <th>1</th>\n",
       "      <td>90.6</td>\n",
       "      <td>35.4</td>\n",
       "      <td>669.1</td>\n",
       "      <td>6.7</td>\n",
       "      <td>18.0</td>\n",
       "      <td>33</td>\n",
       "      <td>0.9</td>\n",
       "      <td>0.0</td>\n",
       "      <td>0.00</td>\n",
       "      <td>0</td>\n",
       "      <td>...</td>\n",
       "      <td>0</td>\n",
       "      <td>0</td>\n",
       "      <td>0</td>\n",
       "      <td>0</td>\n",
       "      <td>0</td>\n",
       "      <td>0</td>\n",
       "      <td>0</td>\n",
       "      <td>0</td>\n",
       "      <td>1</td>\n",
       "      <td>0</td>\n",
       "    </tr>\n",
       "    <tr>\n",
       "      <th>2</th>\n",
       "      <td>90.6</td>\n",
       "      <td>43.7</td>\n",
       "      <td>686.9</td>\n",
       "      <td>6.7</td>\n",
       "      <td>14.6</td>\n",
       "      <td>33</td>\n",
       "      <td>1.3</td>\n",
       "      <td>0.0</td>\n",
       "      <td>0.00</td>\n",
       "      <td>0</td>\n",
       "      <td>...</td>\n",
       "      <td>0</td>\n",
       "      <td>0</td>\n",
       "      <td>0</td>\n",
       "      <td>0</td>\n",
       "      <td>0</td>\n",
       "      <td>0</td>\n",
       "      <td>0</td>\n",
       "      <td>0</td>\n",
       "      <td>1</td>\n",
       "      <td>0</td>\n",
       "    </tr>\n",
       "    <tr>\n",
       "      <th>3</th>\n",
       "      <td>91.7</td>\n",
       "      <td>33.3</td>\n",
       "      <td>77.5</td>\n",
       "      <td>9.0</td>\n",
       "      <td>8.3</td>\n",
       "      <td>97</td>\n",
       "      <td>4.0</td>\n",
       "      <td>0.2</td>\n",
       "      <td>0.00</td>\n",
       "      <td>1</td>\n",
       "      <td>...</td>\n",
       "      <td>0</td>\n",
       "      <td>0</td>\n",
       "      <td>0</td>\n",
       "      <td>0</td>\n",
       "      <td>0</td>\n",
       "      <td>1</td>\n",
       "      <td>0</td>\n",
       "      <td>0</td>\n",
       "      <td>0</td>\n",
       "      <td>0</td>\n",
       "    </tr>\n",
       "    <tr>\n",
       "      <th>4</th>\n",
       "      <td>89.3</td>\n",
       "      <td>51.3</td>\n",
       "      <td>102.2</td>\n",
       "      <td>9.6</td>\n",
       "      <td>11.4</td>\n",
       "      <td>99</td>\n",
       "      <td>1.8</td>\n",
       "      <td>0.0</td>\n",
       "      <td>0.00</td>\n",
       "      <td>0</td>\n",
       "      <td>...</td>\n",
       "      <td>0</td>\n",
       "      <td>0</td>\n",
       "      <td>0</td>\n",
       "      <td>0</td>\n",
       "      <td>0</td>\n",
       "      <td>1</td>\n",
       "      <td>0</td>\n",
       "      <td>0</td>\n",
       "      <td>0</td>\n",
       "      <td>0</td>\n",
       "    </tr>\n",
       "    <tr>\n",
       "      <th>...</th>\n",
       "      <td>...</td>\n",
       "      <td>...</td>\n",
       "      <td>...</td>\n",
       "      <td>...</td>\n",
       "      <td>...</td>\n",
       "      <td>...</td>\n",
       "      <td>...</td>\n",
       "      <td>...</td>\n",
       "      <td>...</td>\n",
       "      <td>...</td>\n",
       "      <td>...</td>\n",
       "      <td>...</td>\n",
       "      <td>...</td>\n",
       "      <td>...</td>\n",
       "      <td>...</td>\n",
       "      <td>...</td>\n",
       "      <td>...</td>\n",
       "      <td>...</td>\n",
       "      <td>...</td>\n",
       "      <td>...</td>\n",
       "      <td>...</td>\n",
       "    </tr>\n",
       "    <tr>\n",
       "      <th>512</th>\n",
       "      <td>81.6</td>\n",
       "      <td>56.7</td>\n",
       "      <td>665.6</td>\n",
       "      <td>1.9</td>\n",
       "      <td>27.8</td>\n",
       "      <td>32</td>\n",
       "      <td>2.7</td>\n",
       "      <td>0.0</td>\n",
       "      <td>6.44</td>\n",
       "      <td>0</td>\n",
       "      <td>...</td>\n",
       "      <td>0</td>\n",
       "      <td>0</td>\n",
       "      <td>0</td>\n",
       "      <td>0</td>\n",
       "      <td>0</td>\n",
       "      <td>0</td>\n",
       "      <td>0</td>\n",
       "      <td>0</td>\n",
       "      <td>0</td>\n",
       "      <td>0</td>\n",
       "    </tr>\n",
       "    <tr>\n",
       "      <th>513</th>\n",
       "      <td>81.6</td>\n",
       "      <td>56.7</td>\n",
       "      <td>665.6</td>\n",
       "      <td>1.9</td>\n",
       "      <td>21.9</td>\n",
       "      <td>71</td>\n",
       "      <td>5.8</td>\n",
       "      <td>0.0</td>\n",
       "      <td>54.29</td>\n",
       "      <td>0</td>\n",
       "      <td>...</td>\n",
       "      <td>0</td>\n",
       "      <td>0</td>\n",
       "      <td>0</td>\n",
       "      <td>0</td>\n",
       "      <td>0</td>\n",
       "      <td>0</td>\n",
       "      <td>0</td>\n",
       "      <td>0</td>\n",
       "      <td>0</td>\n",
       "      <td>0</td>\n",
       "    </tr>\n",
       "    <tr>\n",
       "      <th>514</th>\n",
       "      <td>81.6</td>\n",
       "      <td>56.7</td>\n",
       "      <td>665.6</td>\n",
       "      <td>1.9</td>\n",
       "      <td>21.2</td>\n",
       "      <td>70</td>\n",
       "      <td>6.7</td>\n",
       "      <td>0.0</td>\n",
       "      <td>11.16</td>\n",
       "      <td>0</td>\n",
       "      <td>...</td>\n",
       "      <td>0</td>\n",
       "      <td>0</td>\n",
       "      <td>0</td>\n",
       "      <td>0</td>\n",
       "      <td>0</td>\n",
       "      <td>0</td>\n",
       "      <td>0</td>\n",
       "      <td>0</td>\n",
       "      <td>0</td>\n",
       "      <td>0</td>\n",
       "    </tr>\n",
       "    <tr>\n",
       "      <th>515</th>\n",
       "      <td>94.4</td>\n",
       "      <td>146.0</td>\n",
       "      <td>614.7</td>\n",
       "      <td>11.3</td>\n",
       "      <td>25.6</td>\n",
       "      <td>42</td>\n",
       "      <td>4.0</td>\n",
       "      <td>0.0</td>\n",
       "      <td>0.00</td>\n",
       "      <td>0</td>\n",
       "      <td>...</td>\n",
       "      <td>0</td>\n",
       "      <td>0</td>\n",
       "      <td>0</td>\n",
       "      <td>0</td>\n",
       "      <td>0</td>\n",
       "      <td>0</td>\n",
       "      <td>0</td>\n",
       "      <td>0</td>\n",
       "      <td>0</td>\n",
       "      <td>0</td>\n",
       "    </tr>\n",
       "    <tr>\n",
       "      <th>516</th>\n",
       "      <td>79.5</td>\n",
       "      <td>3.0</td>\n",
       "      <td>106.7</td>\n",
       "      <td>1.1</td>\n",
       "      <td>11.8</td>\n",
       "      <td>31</td>\n",
       "      <td>4.5</td>\n",
       "      <td>0.0</td>\n",
       "      <td>0.00</td>\n",
       "      <td>0</td>\n",
       "      <td>...</td>\n",
       "      <td>0</td>\n",
       "      <td>0</td>\n",
       "      <td>0</td>\n",
       "      <td>0</td>\n",
       "      <td>0</td>\n",
       "      <td>0</td>\n",
       "      <td>0</td>\n",
       "      <td>1</td>\n",
       "      <td>0</td>\n",
       "      <td>0</td>\n",
       "    </tr>\n",
       "  </tbody>\n",
       "</table>\n",
       "<p>517 rows × 28 columns</p>\n",
       "</div>"
      ],
      "text/plain": [
       "     FFMC    DMC     DC   ISI  temp  RH  wind  rain   area  dayfri  ...  \\\n",
       "0    86.2   26.2   94.3   5.1   8.2  51   6.7   0.0   0.00       1  ...   \n",
       "1    90.6   35.4  669.1   6.7  18.0  33   0.9   0.0   0.00       0  ...   \n",
       "2    90.6   43.7  686.9   6.7  14.6  33   1.3   0.0   0.00       0  ...   \n",
       "3    91.7   33.3   77.5   9.0   8.3  97   4.0   0.2   0.00       1  ...   \n",
       "4    89.3   51.3  102.2   9.6  11.4  99   1.8   0.0   0.00       0  ...   \n",
       "..    ...    ...    ...   ...   ...  ..   ...   ...    ...     ...  ...   \n",
       "512  81.6   56.7  665.6   1.9  27.8  32   2.7   0.0   6.44       0  ...   \n",
       "513  81.6   56.7  665.6   1.9  21.9  71   5.8   0.0  54.29       0  ...   \n",
       "514  81.6   56.7  665.6   1.9  21.2  70   6.7   0.0  11.16       0  ...   \n",
       "515  94.4  146.0  614.7  11.3  25.6  42   4.0   0.0   0.00       0  ...   \n",
       "516  79.5    3.0  106.7   1.1  11.8  31   4.5   0.0   0.00       0  ...   \n",
       "\n",
       "     monthdec  monthfeb  monthjan  monthjul  monthjun  monthmar  monthmay  \\\n",
       "0           0         0         0         0         0         1         0   \n",
       "1           0         0         0         0         0         0         0   \n",
       "2           0         0         0         0         0         0         0   \n",
       "3           0         0         0         0         0         1         0   \n",
       "4           0         0         0         0         0         1         0   \n",
       "..        ...       ...       ...       ...       ...       ...       ...   \n",
       "512         0         0         0         0         0         0         0   \n",
       "513         0         0         0         0         0         0         0   \n",
       "514         0         0         0         0         0         0         0   \n",
       "515         0         0         0         0         0         0         0   \n",
       "516         0         0         0         0         0         0         0   \n",
       "\n",
       "     monthnov  monthoct  monthsep  \n",
       "0           0         0         0  \n",
       "1           0         1         0  \n",
       "2           0         1         0  \n",
       "3           0         0         0  \n",
       "4           0         0         0  \n",
       "..        ...       ...       ...  \n",
       "512         0         0         0  \n",
       "513         0         0         0  \n",
       "514         0         0         0  \n",
       "515         0         0         0  \n",
       "516         1         0         0  \n",
       "\n",
       "[517 rows x 28 columns]"
      ]
     },
     "execution_count": 60,
     "metadata": {},
     "output_type": "execute_result"
    }
   ],
   "source": [
    "x"
   ]
  },
  {
   "cell_type": "code",
   "execution_count": 61,
   "id": "3fee5fcf",
   "metadata": {},
   "outputs": [
    {
     "data": {
      "text/plain": [
       "0      1\n",
       "1      1\n",
       "2      1\n",
       "3      1\n",
       "4      1\n",
       "      ..\n",
       "512    0\n",
       "513    0\n",
       "514    0\n",
       "515    1\n",
       "516    1\n",
       "Name: size_category, Length: 517, dtype: int32"
      ]
     },
     "execution_count": 61,
     "metadata": {},
     "output_type": "execute_result"
    }
   ],
   "source": [
    "y"
   ]
  },
  {
   "cell_type": "code",
   "execution_count": 62,
   "id": "4a762558",
   "metadata": {},
   "outputs": [],
   "source": [
    "from sklearn.preprocessing import StandardScaler"
   ]
  },
  {
   "cell_type": "code",
   "execution_count": 63,
   "id": "812cb3ca",
   "metadata": {},
   "outputs": [],
   "source": [
    "std = StandardScaler()\n",
    "x_std = std.fit_transform(x)"
   ]
  },
  {
   "cell_type": "markdown",
   "id": "06a94aad",
   "metadata": {},
   "source": [
    "#### Hyper tuning of parameters"
   ]
  },
  {
   "cell_type": "code",
   "execution_count": 18,
   "id": "e637d706",
   "metadata": {},
   "outputs": [],
   "source": [
    "from sklearn.model_selection import GridSearchCV,KFold\n",
    "from keras.wrappers.scikit_learn import KerasRegressor      # As the task is Regression\n",
    "from tensorflow.keras.optimizers import Adam"
   ]
  },
  {
   "cell_type": "markdown",
   "id": "9f4b92ca",
   "metadata": {},
   "source": [
    "#### Creating a framework"
   ]
  },
  {
   "cell_type": "code",
   "execution_count": 19,
   "id": "ce126e98",
   "metadata": {},
   "outputs": [],
   "source": [
    "def create_model():\n",
    "    model = Sequential()\n",
    "    model.add(Dense(15,input_dim = 28,kernel_initializer = 'uniform', activation = 'relu'))\n",
    "    model.add(Dense(10,kernel_initializer = 'uniform', activation = 'relu'))\n",
    "    model.add(Dense(1,kernel_initializer = 'uniform', activation = 'sigmoid'))\n",
    "    \n",
    "    adam = Adam(lr = 0.01)\n",
    "    model.compile(loss = 'binary_crossentropy', optimizer = 'adam', metrics = ['accuracy'])\n",
    "    return model"
   ]
  },
  {
   "cell_type": "markdown",
   "id": "9aa9d7c2",
   "metadata": {},
   "source": [
    "##### Creating the model"
   ]
  },
  {
   "cell_type": "markdown",
   "id": "70cd8622",
   "metadata": {},
   "source": [
    "##### Tuning for batch size and epochs"
   ]
  },
  {
   "cell_type": "code",
   "execution_count": 20,
   "id": "e3400ee3",
   "metadata": {},
   "outputs": [
    {
     "name": "stdout",
     "output_type": "stream",
     "text": [
      "Fitting 5 folds for each of 16 candidates, totalling 80 fits\n",
      "[CV 1/5; 1/16] START batch_size=20, epochs=10...................................\n"
     ]
    },
    {
     "name": "stderr",
     "output_type": "stream",
     "text": [
      "C:\\Users\\dell\\anaconda3\\lib\\site-packages\\keras\\optimizer_v2\\optimizer_v2.py:355: UserWarning: The `lr` argument is deprecated, use `learning_rate` instead.\n",
      "  warnings.warn(\n"
     ]
    },
    {
     "name": "stdout",
     "output_type": "stream",
     "text": [
      "[CV 1/5; 1/16] END .................batch_size=20, epochs=10; total time=   1.9s\n",
      "[CV 2/5; 1/16] START batch_size=20, epochs=10...................................\n"
     ]
    },
    {
     "name": "stderr",
     "output_type": "stream",
     "text": [
      "C:\\Users\\dell\\anaconda3\\lib\\site-packages\\keras\\optimizer_v2\\optimizer_v2.py:355: UserWarning: The `lr` argument is deprecated, use `learning_rate` instead.\n",
      "  warnings.warn(\n"
     ]
    },
    {
     "name": "stdout",
     "output_type": "stream",
     "text": [
      "[CV 2/5; 1/16] END .................batch_size=20, epochs=10; total time=   0.9s\n",
      "[CV 3/5; 1/16] START batch_size=20, epochs=10...................................\n"
     ]
    },
    {
     "name": "stderr",
     "output_type": "stream",
     "text": [
      "C:\\Users\\dell\\anaconda3\\lib\\site-packages\\keras\\optimizer_v2\\optimizer_v2.py:355: UserWarning: The `lr` argument is deprecated, use `learning_rate` instead.\n",
      "  warnings.warn(\n"
     ]
    },
    {
     "name": "stdout",
     "output_type": "stream",
     "text": [
      "[CV 3/5; 1/16] END .................batch_size=20, epochs=10; total time=   0.8s\n",
      "[CV 4/5; 1/16] START batch_size=20, epochs=10...................................\n"
     ]
    },
    {
     "name": "stderr",
     "output_type": "stream",
     "text": [
      "C:\\Users\\dell\\anaconda3\\lib\\site-packages\\keras\\optimizer_v2\\optimizer_v2.py:355: UserWarning: The `lr` argument is deprecated, use `learning_rate` instead.\n",
      "  warnings.warn(\n"
     ]
    },
    {
     "name": "stdout",
     "output_type": "stream",
     "text": [
      "[CV 4/5; 1/16] END .................batch_size=20, epochs=10; total time=   1.1s\n",
      "[CV 5/5; 1/16] START batch_size=20, epochs=10...................................\n"
     ]
    },
    {
     "name": "stderr",
     "output_type": "stream",
     "text": [
      "C:\\Users\\dell\\anaconda3\\lib\\site-packages\\keras\\optimizer_v2\\optimizer_v2.py:355: UserWarning: The `lr` argument is deprecated, use `learning_rate` instead.\n",
      "  warnings.warn(\n"
     ]
    },
    {
     "name": "stdout",
     "output_type": "stream",
     "text": [
      "[CV 5/5; 1/16] END .................batch_size=20, epochs=10; total time=   1.2s\n",
      "[CV 1/5; 2/16] START batch_size=20, epochs=40...................................\n"
     ]
    },
    {
     "name": "stderr",
     "output_type": "stream",
     "text": [
      "C:\\Users\\dell\\anaconda3\\lib\\site-packages\\keras\\optimizer_v2\\optimizer_v2.py:355: UserWarning: The `lr` argument is deprecated, use `learning_rate` instead.\n",
      "  warnings.warn(\n"
     ]
    },
    {
     "name": "stdout",
     "output_type": "stream",
     "text": [
      "[CV 1/5; 2/16] END .................batch_size=20, epochs=40; total time=   1.8s\n",
      "[CV 2/5; 2/16] START batch_size=20, epochs=40...................................\n"
     ]
    },
    {
     "name": "stderr",
     "output_type": "stream",
     "text": [
      "C:\\Users\\dell\\anaconda3\\lib\\site-packages\\keras\\optimizer_v2\\optimizer_v2.py:355: UserWarning: The `lr` argument is deprecated, use `learning_rate` instead.\n",
      "  warnings.warn(\n"
     ]
    },
    {
     "name": "stdout",
     "output_type": "stream",
     "text": [
      "[CV 2/5; 2/16] END .................batch_size=20, epochs=40; total time=   2.2s\n",
      "[CV 3/5; 2/16] START batch_size=20, epochs=40...................................\n"
     ]
    },
    {
     "name": "stderr",
     "output_type": "stream",
     "text": [
      "C:\\Users\\dell\\anaconda3\\lib\\site-packages\\keras\\optimizer_v2\\optimizer_v2.py:355: UserWarning: The `lr` argument is deprecated, use `learning_rate` instead.\n",
      "  warnings.warn(\n"
     ]
    },
    {
     "name": "stdout",
     "output_type": "stream",
     "text": [
      "[CV 3/5; 2/16] END .................batch_size=20, epochs=40; total time=   3.1s\n",
      "[CV 4/5; 2/16] START batch_size=20, epochs=40...................................\n"
     ]
    },
    {
     "name": "stderr",
     "output_type": "stream",
     "text": [
      "C:\\Users\\dell\\anaconda3\\lib\\site-packages\\keras\\optimizer_v2\\optimizer_v2.py:355: UserWarning: The `lr` argument is deprecated, use `learning_rate` instead.\n",
      "  warnings.warn(\n"
     ]
    },
    {
     "name": "stdout",
     "output_type": "stream",
     "text": [
      "[CV 4/5; 2/16] END .................batch_size=20, epochs=40; total time=   1.9s\n",
      "[CV 5/5; 2/16] START batch_size=20, epochs=40...................................\n"
     ]
    },
    {
     "name": "stderr",
     "output_type": "stream",
     "text": [
      "C:\\Users\\dell\\anaconda3\\lib\\site-packages\\keras\\optimizer_v2\\optimizer_v2.py:355: UserWarning: The `lr` argument is deprecated, use `learning_rate` instead.\n",
      "  warnings.warn(\n"
     ]
    },
    {
     "name": "stdout",
     "output_type": "stream",
     "text": [
      "[CV 5/5; 2/16] END .................batch_size=20, epochs=40; total time=   1.6s\n",
      "[CV 1/5; 3/16] START batch_size=20, epochs=60...................................\n"
     ]
    },
    {
     "name": "stderr",
     "output_type": "stream",
     "text": [
      "C:\\Users\\dell\\anaconda3\\lib\\site-packages\\keras\\optimizer_v2\\optimizer_v2.py:355: UserWarning: The `lr` argument is deprecated, use `learning_rate` instead.\n",
      "  warnings.warn(\n"
     ]
    },
    {
     "name": "stdout",
     "output_type": "stream",
     "text": [
      "[CV 1/5; 3/16] END .................batch_size=20, epochs=60; total time=   2.0s\n",
      "[CV 2/5; 3/16] START batch_size=20, epochs=60...................................\n"
     ]
    },
    {
     "name": "stderr",
     "output_type": "stream",
     "text": [
      "C:\\Users\\dell\\anaconda3\\lib\\site-packages\\keras\\optimizer_v2\\optimizer_v2.py:355: UserWarning: The `lr` argument is deprecated, use `learning_rate` instead.\n",
      "  warnings.warn(\n"
     ]
    },
    {
     "name": "stdout",
     "output_type": "stream",
     "text": [
      "[CV 2/5; 3/16] END .................batch_size=20, epochs=60; total time=   2.3s\n",
      "[CV 3/5; 3/16] START batch_size=20, epochs=60...................................\n"
     ]
    },
    {
     "name": "stderr",
     "output_type": "stream",
     "text": [
      "C:\\Users\\dell\\anaconda3\\lib\\site-packages\\keras\\optimizer_v2\\optimizer_v2.py:355: UserWarning: The `lr` argument is deprecated, use `learning_rate` instead.\n",
      "  warnings.warn(\n"
     ]
    },
    {
     "name": "stdout",
     "output_type": "stream",
     "text": [
      "[CV 3/5; 3/16] END .................batch_size=20, epochs=60; total time=   2.5s\n",
      "[CV 4/5; 3/16] START batch_size=20, epochs=60...................................\n"
     ]
    },
    {
     "name": "stderr",
     "output_type": "stream",
     "text": [
      "C:\\Users\\dell\\anaconda3\\lib\\site-packages\\keras\\optimizer_v2\\optimizer_v2.py:355: UserWarning: The `lr` argument is deprecated, use `learning_rate` instead.\n",
      "  warnings.warn(\n"
     ]
    },
    {
     "name": "stdout",
     "output_type": "stream",
     "text": [
      "[CV 4/5; 3/16] END .................batch_size=20, epochs=60; total time=   2.0s\n",
      "[CV 5/5; 3/16] START batch_size=20, epochs=60...................................\n"
     ]
    },
    {
     "name": "stderr",
     "output_type": "stream",
     "text": [
      "C:\\Users\\dell\\anaconda3\\lib\\site-packages\\keras\\optimizer_v2\\optimizer_v2.py:355: UserWarning: The `lr` argument is deprecated, use `learning_rate` instead.\n",
      "  warnings.warn(\n"
     ]
    },
    {
     "name": "stdout",
     "output_type": "stream",
     "text": [
      "[CV 5/5; 3/16] END .................batch_size=20, epochs=60; total time=   2.0s\n",
      "[CV 1/5; 4/16] START batch_size=20, epochs=70...................................\n"
     ]
    },
    {
     "name": "stderr",
     "output_type": "stream",
     "text": [
      "C:\\Users\\dell\\anaconda3\\lib\\site-packages\\keras\\optimizer_v2\\optimizer_v2.py:355: UserWarning: The `lr` argument is deprecated, use `learning_rate` instead.\n",
      "  warnings.warn(\n"
     ]
    },
    {
     "name": "stdout",
     "output_type": "stream",
     "text": [
      "[CV 1/5; 4/16] END .................batch_size=20, epochs=70; total time=   2.5s\n",
      "[CV 2/5; 4/16] START batch_size=20, epochs=70...................................\n"
     ]
    },
    {
     "name": "stderr",
     "output_type": "stream",
     "text": [
      "C:\\Users\\dell\\anaconda3\\lib\\site-packages\\keras\\optimizer_v2\\optimizer_v2.py:355: UserWarning: The `lr` argument is deprecated, use `learning_rate` instead.\n",
      "  warnings.warn(\n"
     ]
    },
    {
     "name": "stdout",
     "output_type": "stream",
     "text": [
      "[CV 2/5; 4/16] END .................batch_size=20, epochs=70; total time=   2.7s\n",
      "[CV 3/5; 4/16] START batch_size=20, epochs=70...................................\n"
     ]
    },
    {
     "name": "stderr",
     "output_type": "stream",
     "text": [
      "C:\\Users\\dell\\anaconda3\\lib\\site-packages\\keras\\optimizer_v2\\optimizer_v2.py:355: UserWarning: The `lr` argument is deprecated, use `learning_rate` instead.\n",
      "  warnings.warn(\n"
     ]
    },
    {
     "name": "stdout",
     "output_type": "stream",
     "text": [
      "[CV 3/5; 4/16] END .................batch_size=20, epochs=70; total time=   2.2s\n",
      "[CV 4/5; 4/16] START batch_size=20, epochs=70...................................\n"
     ]
    },
    {
     "name": "stderr",
     "output_type": "stream",
     "text": [
      "C:\\Users\\dell\\anaconda3\\lib\\site-packages\\keras\\optimizer_v2\\optimizer_v2.py:355: UserWarning: The `lr` argument is deprecated, use `learning_rate` instead.\n",
      "  warnings.warn(\n"
     ]
    },
    {
     "name": "stdout",
     "output_type": "stream",
     "text": [
      "[CV 4/5; 4/16] END .................batch_size=20, epochs=70; total time=   2.3s\n",
      "[CV 5/5; 4/16] START batch_size=20, epochs=70...................................\n"
     ]
    },
    {
     "name": "stderr",
     "output_type": "stream",
     "text": [
      "C:\\Users\\dell\\anaconda3\\lib\\site-packages\\keras\\optimizer_v2\\optimizer_v2.py:355: UserWarning: The `lr` argument is deprecated, use `learning_rate` instead.\n",
      "  warnings.warn(\n"
     ]
    },
    {
     "name": "stdout",
     "output_type": "stream",
     "text": [
      "[CV 5/5; 4/16] END .................batch_size=20, epochs=70; total time=   2.8s\n",
      "[CV 1/5; 5/16] START batch_size=30, epochs=10...................................\n"
     ]
    },
    {
     "name": "stderr",
     "output_type": "stream",
     "text": [
      "C:\\Users\\dell\\anaconda3\\lib\\site-packages\\keras\\optimizer_v2\\optimizer_v2.py:355: UserWarning: The `lr` argument is deprecated, use `learning_rate` instead.\n",
      "  warnings.warn(\n"
     ]
    },
    {
     "name": "stdout",
     "output_type": "stream",
     "text": [
      "[CV 1/5; 5/16] END .................batch_size=30, epochs=10; total time=   1.1s\n",
      "[CV 2/5; 5/16] START batch_size=30, epochs=10...................................\n"
     ]
    },
    {
     "name": "stderr",
     "output_type": "stream",
     "text": [
      "C:\\Users\\dell\\anaconda3\\lib\\site-packages\\keras\\optimizer_v2\\optimizer_v2.py:355: UserWarning: The `lr` argument is deprecated, use `learning_rate` instead.\n",
      "  warnings.warn(\n"
     ]
    },
    {
     "name": "stdout",
     "output_type": "stream",
     "text": [
      "[CV 2/5; 5/16] END .................batch_size=30, epochs=10; total time=   1.0s\n",
      "[CV 3/5; 5/16] START batch_size=30, epochs=10...................................\n"
     ]
    },
    {
     "name": "stderr",
     "output_type": "stream",
     "text": [
      "C:\\Users\\dell\\anaconda3\\lib\\site-packages\\keras\\optimizer_v2\\optimizer_v2.py:355: UserWarning: The `lr` argument is deprecated, use `learning_rate` instead.\n",
      "  warnings.warn(\n"
     ]
    },
    {
     "name": "stdout",
     "output_type": "stream",
     "text": [
      "[CV 3/5; 5/16] END .................batch_size=30, epochs=10; total time=   0.8s\n",
      "[CV 4/5; 5/16] START batch_size=30, epochs=10...................................\n"
     ]
    },
    {
     "name": "stderr",
     "output_type": "stream",
     "text": [
      "C:\\Users\\dell\\anaconda3\\lib\\site-packages\\keras\\optimizer_v2\\optimizer_v2.py:355: UserWarning: The `lr` argument is deprecated, use `learning_rate` instead.\n",
      "  warnings.warn(\n"
     ]
    },
    {
     "name": "stdout",
     "output_type": "stream",
     "text": [
      "[CV 4/5; 5/16] END .................batch_size=30, epochs=10; total time=   0.8s\n",
      "[CV 5/5; 5/16] START batch_size=30, epochs=10...................................\n"
     ]
    },
    {
     "name": "stderr",
     "output_type": "stream",
     "text": [
      "C:\\Users\\dell\\anaconda3\\lib\\site-packages\\keras\\optimizer_v2\\optimizer_v2.py:355: UserWarning: The `lr` argument is deprecated, use `learning_rate` instead.\n",
      "  warnings.warn(\n"
     ]
    },
    {
     "name": "stdout",
     "output_type": "stream",
     "text": [
      "[CV 5/5; 5/16] END .................batch_size=30, epochs=10; total time=   0.8s\n",
      "[CV 1/5; 6/16] START batch_size=30, epochs=40...................................\n"
     ]
    },
    {
     "name": "stderr",
     "output_type": "stream",
     "text": [
      "C:\\Users\\dell\\anaconda3\\lib\\site-packages\\keras\\optimizer_v2\\optimizer_v2.py:355: UserWarning: The `lr` argument is deprecated, use `learning_rate` instead.\n",
      "  warnings.warn(\n"
     ]
    },
    {
     "name": "stdout",
     "output_type": "stream",
     "text": [
      "[CV 1/5; 6/16] END .................batch_size=30, epochs=40; total time=   1.2s\n",
      "[CV 2/5; 6/16] START batch_size=30, epochs=40...................................\n"
     ]
    },
    {
     "name": "stderr",
     "output_type": "stream",
     "text": [
      "C:\\Users\\dell\\anaconda3\\lib\\site-packages\\keras\\optimizer_v2\\optimizer_v2.py:355: UserWarning: The `lr` argument is deprecated, use `learning_rate` instead.\n",
      "  warnings.warn(\n"
     ]
    },
    {
     "name": "stdout",
     "output_type": "stream",
     "text": [
      "[CV 2/5; 6/16] END .................batch_size=30, epochs=40; total time=   1.2s\n",
      "[CV 3/5; 6/16] START batch_size=30, epochs=40...................................\n"
     ]
    },
    {
     "name": "stderr",
     "output_type": "stream",
     "text": [
      "C:\\Users\\dell\\anaconda3\\lib\\site-packages\\keras\\optimizer_v2\\optimizer_v2.py:355: UserWarning: The `lr` argument is deprecated, use `learning_rate` instead.\n",
      "  warnings.warn(\n"
     ]
    },
    {
     "name": "stdout",
     "output_type": "stream",
     "text": [
      "[CV 3/5; 6/16] END .................batch_size=30, epochs=40; total time=   1.2s\n",
      "[CV 4/5; 6/16] START batch_size=30, epochs=40...................................\n"
     ]
    },
    {
     "name": "stderr",
     "output_type": "stream",
     "text": [
      "C:\\Users\\dell\\anaconda3\\lib\\site-packages\\keras\\optimizer_v2\\optimizer_v2.py:355: UserWarning: The `lr` argument is deprecated, use `learning_rate` instead.\n",
      "  warnings.warn(\n"
     ]
    },
    {
     "name": "stdout",
     "output_type": "stream",
     "text": [
      "[CV 4/5; 6/16] END .................batch_size=30, epochs=40; total time=   1.3s\n",
      "[CV 5/5; 6/16] START batch_size=30, epochs=40...................................\n"
     ]
    },
    {
     "name": "stderr",
     "output_type": "stream",
     "text": [
      "C:\\Users\\dell\\anaconda3\\lib\\site-packages\\keras\\optimizer_v2\\optimizer_v2.py:355: UserWarning: The `lr` argument is deprecated, use `learning_rate` instead.\n",
      "  warnings.warn(\n"
     ]
    },
    {
     "name": "stdout",
     "output_type": "stream",
     "text": [
      "[CV 5/5; 6/16] END .................batch_size=30, epochs=40; total time=   1.5s\n",
      "[CV 1/5; 7/16] START batch_size=30, epochs=60...................................\n"
     ]
    },
    {
     "name": "stderr",
     "output_type": "stream",
     "text": [
      "C:\\Users\\dell\\anaconda3\\lib\\site-packages\\keras\\optimizer_v2\\optimizer_v2.py:355: UserWarning: The `lr` argument is deprecated, use `learning_rate` instead.\n",
      "  warnings.warn(\n"
     ]
    },
    {
     "name": "stdout",
     "output_type": "stream",
     "text": [
      "[CV 1/5; 7/16] END .................batch_size=30, epochs=60; total time=   1.9s\n",
      "[CV 2/5; 7/16] START batch_size=30, epochs=60...................................\n"
     ]
    },
    {
     "name": "stderr",
     "output_type": "stream",
     "text": [
      "C:\\Users\\dell\\anaconda3\\lib\\site-packages\\keras\\optimizer_v2\\optimizer_v2.py:355: UserWarning: The `lr` argument is deprecated, use `learning_rate` instead.\n",
      "  warnings.warn(\n"
     ]
    },
    {
     "name": "stdout",
     "output_type": "stream",
     "text": [
      "[CV 2/5; 7/16] END .................batch_size=30, epochs=60; total time=   1.6s\n",
      "[CV 3/5; 7/16] START batch_size=30, epochs=60...................................\n"
     ]
    },
    {
     "name": "stderr",
     "output_type": "stream",
     "text": [
      "C:\\Users\\dell\\anaconda3\\lib\\site-packages\\keras\\optimizer_v2\\optimizer_v2.py:355: UserWarning: The `lr` argument is deprecated, use `learning_rate` instead.\n",
      "  warnings.warn(\n"
     ]
    },
    {
     "name": "stdout",
     "output_type": "stream",
     "text": [
      "[CV 3/5; 7/16] END .................batch_size=30, epochs=60; total time=   1.5s\n",
      "[CV 4/5; 7/16] START batch_size=30, epochs=60...................................\n"
     ]
    },
    {
     "name": "stderr",
     "output_type": "stream",
     "text": [
      "C:\\Users\\dell\\anaconda3\\lib\\site-packages\\keras\\optimizer_v2\\optimizer_v2.py:355: UserWarning: The `lr` argument is deprecated, use `learning_rate` instead.\n",
      "  warnings.warn(\n"
     ]
    },
    {
     "name": "stdout",
     "output_type": "stream",
     "text": [
      "[CV 4/5; 7/16] END .................batch_size=30, epochs=60; total time=   1.5s\n",
      "[CV 5/5; 7/16] START batch_size=30, epochs=60...................................\n"
     ]
    },
    {
     "name": "stderr",
     "output_type": "stream",
     "text": [
      "C:\\Users\\dell\\anaconda3\\lib\\site-packages\\keras\\optimizer_v2\\optimizer_v2.py:355: UserWarning: The `lr` argument is deprecated, use `learning_rate` instead.\n",
      "  warnings.warn(\n"
     ]
    },
    {
     "name": "stdout",
     "output_type": "stream",
     "text": [
      "[CV 5/5; 7/16] END .................batch_size=30, epochs=60; total time=   1.5s\n",
      "[CV 1/5; 8/16] START batch_size=30, epochs=70...................................\n"
     ]
    },
    {
     "name": "stderr",
     "output_type": "stream",
     "text": [
      "C:\\Users\\dell\\anaconda3\\lib\\site-packages\\keras\\optimizer_v2\\optimizer_v2.py:355: UserWarning: The `lr` argument is deprecated, use `learning_rate` instead.\n",
      "  warnings.warn(\n"
     ]
    },
    {
     "name": "stdout",
     "output_type": "stream",
     "text": [
      "[CV 1/5; 8/16] END .................batch_size=30, epochs=70; total time=   1.7s\n",
      "[CV 2/5; 8/16] START batch_size=30, epochs=70...................................\n"
     ]
    },
    {
     "name": "stderr",
     "output_type": "stream",
     "text": [
      "C:\\Users\\dell\\anaconda3\\lib\\site-packages\\keras\\optimizer_v2\\optimizer_v2.py:355: UserWarning: The `lr` argument is deprecated, use `learning_rate` instead.\n",
      "  warnings.warn(\n"
     ]
    },
    {
     "name": "stdout",
     "output_type": "stream",
     "text": [
      "[CV 2/5; 8/16] END .................batch_size=30, epochs=70; total time=   1.7s\n",
      "[CV 3/5; 8/16] START batch_size=30, epochs=70...................................\n"
     ]
    },
    {
     "name": "stderr",
     "output_type": "stream",
     "text": [
      "C:\\Users\\dell\\anaconda3\\lib\\site-packages\\keras\\optimizer_v2\\optimizer_v2.py:355: UserWarning: The `lr` argument is deprecated, use `learning_rate` instead.\n",
      "  warnings.warn(\n"
     ]
    },
    {
     "name": "stdout",
     "output_type": "stream",
     "text": [
      "[CV 3/5; 8/16] END .................batch_size=30, epochs=70; total time=   1.9s\n",
      "[CV 4/5; 8/16] START batch_size=30, epochs=70...................................\n"
     ]
    },
    {
     "name": "stderr",
     "output_type": "stream",
     "text": [
      "C:\\Users\\dell\\anaconda3\\lib\\site-packages\\keras\\optimizer_v2\\optimizer_v2.py:355: UserWarning: The `lr` argument is deprecated, use `learning_rate` instead.\n",
      "  warnings.warn(\n"
     ]
    },
    {
     "name": "stdout",
     "output_type": "stream",
     "text": [
      "[CV 4/5; 8/16] END .................batch_size=30, epochs=70; total time=   1.7s\n",
      "[CV 5/5; 8/16] START batch_size=30, epochs=70...................................\n"
     ]
    },
    {
     "name": "stderr",
     "output_type": "stream",
     "text": [
      "C:\\Users\\dell\\anaconda3\\lib\\site-packages\\keras\\optimizer_v2\\optimizer_v2.py:355: UserWarning: The `lr` argument is deprecated, use `learning_rate` instead.\n",
      "  warnings.warn(\n"
     ]
    },
    {
     "name": "stdout",
     "output_type": "stream",
     "text": [
      "[CV 5/5; 8/16] END .................batch_size=30, epochs=70; total time=   1.9s\n",
      "[CV 1/5; 9/16] START batch_size=40, epochs=10...................................\n"
     ]
    },
    {
     "name": "stderr",
     "output_type": "stream",
     "text": [
      "C:\\Users\\dell\\anaconda3\\lib\\site-packages\\keras\\optimizer_v2\\optimizer_v2.py:355: UserWarning: The `lr` argument is deprecated, use `learning_rate` instead.\n",
      "  warnings.warn(\n"
     ]
    },
    {
     "name": "stdout",
     "output_type": "stream",
     "text": [
      "[CV 1/5; 9/16] END .................batch_size=40, epochs=10; total time=   0.7s\n",
      "[CV 2/5; 9/16] START batch_size=40, epochs=10...................................\n"
     ]
    },
    {
     "name": "stderr",
     "output_type": "stream",
     "text": [
      "C:\\Users\\dell\\anaconda3\\lib\\site-packages\\keras\\optimizer_v2\\optimizer_v2.py:355: UserWarning: The `lr` argument is deprecated, use `learning_rate` instead.\n",
      "  warnings.warn(\n"
     ]
    },
    {
     "name": "stdout",
     "output_type": "stream",
     "text": [
      "[CV 2/5; 9/16] END .................batch_size=40, epochs=10; total time=   0.7s\n",
      "[CV 3/5; 9/16] START batch_size=40, epochs=10...................................\n"
     ]
    },
    {
     "name": "stderr",
     "output_type": "stream",
     "text": [
      "C:\\Users\\dell\\anaconda3\\lib\\site-packages\\keras\\optimizer_v2\\optimizer_v2.py:355: UserWarning: The `lr` argument is deprecated, use `learning_rate` instead.\n",
      "  warnings.warn(\n"
     ]
    },
    {
     "name": "stdout",
     "output_type": "stream",
     "text": [
      "[CV 3/5; 9/16] END .................batch_size=40, epochs=10; total time=   0.8s\n",
      "[CV 4/5; 9/16] START batch_size=40, epochs=10...................................\n"
     ]
    },
    {
     "name": "stderr",
     "output_type": "stream",
     "text": [
      "C:\\Users\\dell\\anaconda3\\lib\\site-packages\\keras\\optimizer_v2\\optimizer_v2.py:355: UserWarning: The `lr` argument is deprecated, use `learning_rate` instead.\n",
      "  warnings.warn(\n"
     ]
    },
    {
     "name": "stdout",
     "output_type": "stream",
     "text": [
      "WARNING:tensorflow:5 out of the last 14 calls to <function Model.make_test_function.<locals>.test_function at 0x00000214C1CAC310> triggered tf.function retracing. Tracing is expensive and the excessive number of tracings could be due to (1) creating @tf.function repeatedly in a loop, (2) passing tensors with different shapes, (3) passing Python objects instead of tensors. For (1), please define your @tf.function outside of the loop. For (2), @tf.function has experimental_relax_shapes=True option that relaxes argument shapes that can avoid unnecessary retracing. For (3), please refer to https://www.tensorflow.org/guide/function#controlling_retracing and https://www.tensorflow.org/api_docs/python/tf/function for  more details.\n",
      "[CV 4/5; 9/16] END .................batch_size=40, epochs=10; total time=   0.7s\n",
      "[CV 5/5; 9/16] START batch_size=40, epochs=10...................................\n"
     ]
    },
    {
     "name": "stderr",
     "output_type": "stream",
     "text": [
      "C:\\Users\\dell\\anaconda3\\lib\\site-packages\\keras\\optimizer_v2\\optimizer_v2.py:355: UserWarning: The `lr` argument is deprecated, use `learning_rate` instead.\n",
      "  warnings.warn(\n"
     ]
    },
    {
     "name": "stdout",
     "output_type": "stream",
     "text": [
      "WARNING:tensorflow:5 out of the last 13 calls to <function Model.make_test_function.<locals>.test_function at 0x00000214C1B85160> triggered tf.function retracing. Tracing is expensive and the excessive number of tracings could be due to (1) creating @tf.function repeatedly in a loop, (2) passing tensors with different shapes, (3) passing Python objects instead of tensors. For (1), please define your @tf.function outside of the loop. For (2), @tf.function has experimental_relax_shapes=True option that relaxes argument shapes that can avoid unnecessary retracing. For (3), please refer to https://www.tensorflow.org/guide/function#controlling_retracing and https://www.tensorflow.org/api_docs/python/tf/function for  more details.\n",
      "[CV 5/5; 9/16] END .................batch_size=40, epochs=10; total time=   0.7s\n",
      "[CV 1/5; 10/16] START batch_size=40, epochs=40..................................\n"
     ]
    },
    {
     "name": "stderr",
     "output_type": "stream",
     "text": [
      "C:\\Users\\dell\\anaconda3\\lib\\site-packages\\keras\\optimizer_v2\\optimizer_v2.py:355: UserWarning: The `lr` argument is deprecated, use `learning_rate` instead.\n",
      "  warnings.warn(\n"
     ]
    },
    {
     "name": "stdout",
     "output_type": "stream",
     "text": [
      "[CV 1/5; 10/16] END ................batch_size=40, epochs=40; total time=   1.1s\n",
      "[CV 2/5; 10/16] START batch_size=40, epochs=40..................................\n"
     ]
    },
    {
     "name": "stderr",
     "output_type": "stream",
     "text": [
      "C:\\Users\\dell\\anaconda3\\lib\\site-packages\\keras\\optimizer_v2\\optimizer_v2.py:355: UserWarning: The `lr` argument is deprecated, use `learning_rate` instead.\n",
      "  warnings.warn(\n"
     ]
    },
    {
     "name": "stdout",
     "output_type": "stream",
     "text": [
      "[CV 2/5; 10/16] END ................batch_size=40, epochs=40; total time=   1.3s\n",
      "[CV 3/5; 10/16] START batch_size=40, epochs=40..................................\n"
     ]
    },
    {
     "name": "stderr",
     "output_type": "stream",
     "text": [
      "C:\\Users\\dell\\anaconda3\\lib\\site-packages\\keras\\optimizer_v2\\optimizer_v2.py:355: UserWarning: The `lr` argument is deprecated, use `learning_rate` instead.\n",
      "  warnings.warn(\n"
     ]
    },
    {
     "name": "stdout",
     "output_type": "stream",
     "text": [
      "[CV 3/5; 10/16] END ................batch_size=40, epochs=40; total time=   1.1s\n",
      "[CV 4/5; 10/16] START batch_size=40, epochs=40..................................\n"
     ]
    },
    {
     "name": "stderr",
     "output_type": "stream",
     "text": [
      "C:\\Users\\dell\\anaconda3\\lib\\site-packages\\keras\\optimizer_v2\\optimizer_v2.py:355: UserWarning: The `lr` argument is deprecated, use `learning_rate` instead.\n",
      "  warnings.warn(\n"
     ]
    },
    {
     "name": "stdout",
     "output_type": "stream",
     "text": [
      "[CV 4/5; 10/16] END ................batch_size=40, epochs=40; total time=   1.1s\n",
      "[CV 5/5; 10/16] START batch_size=40, epochs=40..................................\n"
     ]
    },
    {
     "name": "stderr",
     "output_type": "stream",
     "text": [
      "C:\\Users\\dell\\anaconda3\\lib\\site-packages\\keras\\optimizer_v2\\optimizer_v2.py:355: UserWarning: The `lr` argument is deprecated, use `learning_rate` instead.\n",
      "  warnings.warn(\n"
     ]
    },
    {
     "name": "stdout",
     "output_type": "stream",
     "text": [
      "[CV 5/5; 10/16] END ................batch_size=40, epochs=40; total time=   1.1s\n",
      "[CV 1/5; 11/16] START batch_size=40, epochs=60..................................\n"
     ]
    },
    {
     "name": "stderr",
     "output_type": "stream",
     "text": [
      "C:\\Users\\dell\\anaconda3\\lib\\site-packages\\keras\\optimizer_v2\\optimizer_v2.py:355: UserWarning: The `lr` argument is deprecated, use `learning_rate` instead.\n",
      "  warnings.warn(\n"
     ]
    },
    {
     "name": "stdout",
     "output_type": "stream",
     "text": [
      "[CV 1/5; 11/16] END ................batch_size=40, epochs=60; total time=   1.4s\n",
      "[CV 2/5; 11/16] START batch_size=40, epochs=60..................................\n"
     ]
    },
    {
     "name": "stderr",
     "output_type": "stream",
     "text": [
      "C:\\Users\\dell\\anaconda3\\lib\\site-packages\\keras\\optimizer_v2\\optimizer_v2.py:355: UserWarning: The `lr` argument is deprecated, use `learning_rate` instead.\n",
      "  warnings.warn(\n"
     ]
    },
    {
     "name": "stdout",
     "output_type": "stream",
     "text": [
      "[CV 2/5; 11/16] END ................batch_size=40, epochs=60; total time=   1.4s\n",
      "[CV 3/5; 11/16] START batch_size=40, epochs=60..................................\n"
     ]
    },
    {
     "name": "stderr",
     "output_type": "stream",
     "text": [
      "C:\\Users\\dell\\anaconda3\\lib\\site-packages\\keras\\optimizer_v2\\optimizer_v2.py:355: UserWarning: The `lr` argument is deprecated, use `learning_rate` instead.\n",
      "  warnings.warn(\n"
     ]
    },
    {
     "name": "stdout",
     "output_type": "stream",
     "text": [
      "[CV 3/5; 11/16] END ................batch_size=40, epochs=60; total time=   1.4s\n",
      "[CV 4/5; 11/16] START batch_size=40, epochs=60..................................\n"
     ]
    },
    {
     "name": "stderr",
     "output_type": "stream",
     "text": [
      "C:\\Users\\dell\\anaconda3\\lib\\site-packages\\keras\\optimizer_v2\\optimizer_v2.py:355: UserWarning: The `lr` argument is deprecated, use `learning_rate` instead.\n",
      "  warnings.warn(\n"
     ]
    },
    {
     "name": "stdout",
     "output_type": "stream",
     "text": [
      "[CV 4/5; 11/16] END ................batch_size=40, epochs=60; total time=   1.6s\n",
      "[CV 5/5; 11/16] START batch_size=40, epochs=60..................................\n"
     ]
    },
    {
     "name": "stderr",
     "output_type": "stream",
     "text": [
      "C:\\Users\\dell\\anaconda3\\lib\\site-packages\\keras\\optimizer_v2\\optimizer_v2.py:355: UserWarning: The `lr` argument is deprecated, use `learning_rate` instead.\n",
      "  warnings.warn(\n"
     ]
    },
    {
     "name": "stdout",
     "output_type": "stream",
     "text": [
      "[CV 5/5; 11/16] END ................batch_size=40, epochs=60; total time=   1.3s\n",
      "[CV 1/5; 12/16] START batch_size=40, epochs=70..................................\n"
     ]
    },
    {
     "name": "stderr",
     "output_type": "stream",
     "text": [
      "C:\\Users\\dell\\anaconda3\\lib\\site-packages\\keras\\optimizer_v2\\optimizer_v2.py:355: UserWarning: The `lr` argument is deprecated, use `learning_rate` instead.\n",
      "  warnings.warn(\n"
     ]
    },
    {
     "name": "stdout",
     "output_type": "stream",
     "text": [
      "[CV 1/5; 12/16] END ................batch_size=40, epochs=70; total time=   1.7s\n",
      "[CV 2/5; 12/16] START batch_size=40, epochs=70..................................\n"
     ]
    },
    {
     "name": "stderr",
     "output_type": "stream",
     "text": [
      "C:\\Users\\dell\\anaconda3\\lib\\site-packages\\keras\\optimizer_v2\\optimizer_v2.py:355: UserWarning: The `lr` argument is deprecated, use `learning_rate` instead.\n",
      "  warnings.warn(\n"
     ]
    },
    {
     "name": "stdout",
     "output_type": "stream",
     "text": [
      "[CV 2/5; 12/16] END ................batch_size=40, epochs=70; total time=   1.5s\n",
      "[CV 3/5; 12/16] START batch_size=40, epochs=70..................................\n"
     ]
    },
    {
     "name": "stderr",
     "output_type": "stream",
     "text": [
      "C:\\Users\\dell\\anaconda3\\lib\\site-packages\\keras\\optimizer_v2\\optimizer_v2.py:355: UserWarning: The `lr` argument is deprecated, use `learning_rate` instead.\n",
      "  warnings.warn(\n"
     ]
    },
    {
     "name": "stdout",
     "output_type": "stream",
     "text": [
      "[CV 3/5; 12/16] END ................batch_size=40, epochs=70; total time=   1.5s\n",
      "[CV 4/5; 12/16] START batch_size=40, epochs=70..................................\n"
     ]
    },
    {
     "name": "stderr",
     "output_type": "stream",
     "text": [
      "C:\\Users\\dell\\anaconda3\\lib\\site-packages\\keras\\optimizer_v2\\optimizer_v2.py:355: UserWarning: The `lr` argument is deprecated, use `learning_rate` instead.\n",
      "  warnings.warn(\n"
     ]
    },
    {
     "name": "stdout",
     "output_type": "stream",
     "text": [
      "[CV 4/5; 12/16] END ................batch_size=40, epochs=70; total time=   1.5s\n",
      "[CV 5/5; 12/16] START batch_size=40, epochs=70..................................\n"
     ]
    },
    {
     "name": "stderr",
     "output_type": "stream",
     "text": [
      "C:\\Users\\dell\\anaconda3\\lib\\site-packages\\keras\\optimizer_v2\\optimizer_v2.py:355: UserWarning: The `lr` argument is deprecated, use `learning_rate` instead.\n",
      "  warnings.warn(\n"
     ]
    },
    {
     "name": "stdout",
     "output_type": "stream",
     "text": [
      "[CV 5/5; 12/16] END ................batch_size=40, epochs=70; total time=   1.5s\n",
      "[CV 1/5; 13/16] START batch_size=50, epochs=10..................................\n"
     ]
    },
    {
     "name": "stderr",
     "output_type": "stream",
     "text": [
      "C:\\Users\\dell\\anaconda3\\lib\\site-packages\\keras\\optimizer_v2\\optimizer_v2.py:355: UserWarning: The `lr` argument is deprecated, use `learning_rate` instead.\n",
      "  warnings.warn(\n"
     ]
    },
    {
     "name": "stdout",
     "output_type": "stream",
     "text": [
      "[CV 1/5; 13/16] END ................batch_size=50, epochs=10; total time=   0.7s\n",
      "[CV 2/5; 13/16] START batch_size=50, epochs=10..................................\n"
     ]
    },
    {
     "name": "stderr",
     "output_type": "stream",
     "text": [
      "C:\\Users\\dell\\anaconda3\\lib\\site-packages\\keras\\optimizer_v2\\optimizer_v2.py:355: UserWarning: The `lr` argument is deprecated, use `learning_rate` instead.\n",
      "  warnings.warn(\n"
     ]
    },
    {
     "name": "stdout",
     "output_type": "stream",
     "text": [
      "[CV 2/5; 13/16] END ................batch_size=50, epochs=10; total time=   0.9s\n",
      "[CV 3/5; 13/16] START batch_size=50, epochs=10..................................\n"
     ]
    },
    {
     "name": "stderr",
     "output_type": "stream",
     "text": [
      "C:\\Users\\dell\\anaconda3\\lib\\site-packages\\keras\\optimizer_v2\\optimizer_v2.py:355: UserWarning: The `lr` argument is deprecated, use `learning_rate` instead.\n",
      "  warnings.warn(\n"
     ]
    },
    {
     "name": "stdout",
     "output_type": "stream",
     "text": [
      "[CV 3/5; 13/16] END ................batch_size=50, epochs=10; total time=   0.8s\n",
      "[CV 4/5; 13/16] START batch_size=50, epochs=10..................................\n"
     ]
    },
    {
     "name": "stderr",
     "output_type": "stream",
     "text": [
      "C:\\Users\\dell\\anaconda3\\lib\\site-packages\\keras\\optimizer_v2\\optimizer_v2.py:355: UserWarning: The `lr` argument is deprecated, use `learning_rate` instead.\n",
      "  warnings.warn(\n"
     ]
    },
    {
     "name": "stdout",
     "output_type": "stream",
     "text": [
      "[CV 4/5; 13/16] END ................batch_size=50, epochs=10; total time=   0.8s\n",
      "[CV 5/5; 13/16] START batch_size=50, epochs=10..................................\n"
     ]
    },
    {
     "name": "stderr",
     "output_type": "stream",
     "text": [
      "C:\\Users\\dell\\anaconda3\\lib\\site-packages\\keras\\optimizer_v2\\optimizer_v2.py:355: UserWarning: The `lr` argument is deprecated, use `learning_rate` instead.\n",
      "  warnings.warn(\n"
     ]
    },
    {
     "name": "stdout",
     "output_type": "stream",
     "text": [
      "[CV 5/5; 13/16] END ................batch_size=50, epochs=10; total time=   1.2s\n",
      "[CV 1/5; 14/16] START batch_size=50, epochs=40..................................\n"
     ]
    },
    {
     "name": "stderr",
     "output_type": "stream",
     "text": [
      "C:\\Users\\dell\\anaconda3\\lib\\site-packages\\keras\\optimizer_v2\\optimizer_v2.py:355: UserWarning: The `lr` argument is deprecated, use `learning_rate` instead.\n",
      "  warnings.warn(\n"
     ]
    },
    {
     "name": "stdout",
     "output_type": "stream",
     "text": [
      "[CV 1/5; 14/16] END ................batch_size=50, epochs=40; total time=   1.3s\n",
      "[CV 2/5; 14/16] START batch_size=50, epochs=40..................................\n"
     ]
    },
    {
     "name": "stderr",
     "output_type": "stream",
     "text": [
      "C:\\Users\\dell\\anaconda3\\lib\\site-packages\\keras\\optimizer_v2\\optimizer_v2.py:355: UserWarning: The `lr` argument is deprecated, use `learning_rate` instead.\n",
      "  warnings.warn(\n"
     ]
    },
    {
     "name": "stdout",
     "output_type": "stream",
     "text": [
      "[CV 2/5; 14/16] END ................batch_size=50, epochs=40; total time=   1.1s\n",
      "[CV 3/5; 14/16] START batch_size=50, epochs=40..................................\n"
     ]
    },
    {
     "name": "stderr",
     "output_type": "stream",
     "text": [
      "C:\\Users\\dell\\anaconda3\\lib\\site-packages\\keras\\optimizer_v2\\optimizer_v2.py:355: UserWarning: The `lr` argument is deprecated, use `learning_rate` instead.\n",
      "  warnings.warn(\n"
     ]
    },
    {
     "name": "stdout",
     "output_type": "stream",
     "text": [
      "[CV 3/5; 14/16] END ................batch_size=50, epochs=40; total time=   1.0s\n",
      "[CV 4/5; 14/16] START batch_size=50, epochs=40..................................\n"
     ]
    },
    {
     "name": "stderr",
     "output_type": "stream",
     "text": [
      "C:\\Users\\dell\\anaconda3\\lib\\site-packages\\keras\\optimizer_v2\\optimizer_v2.py:355: UserWarning: The `lr` argument is deprecated, use `learning_rate` instead.\n",
      "  warnings.warn(\n"
     ]
    },
    {
     "name": "stdout",
     "output_type": "stream",
     "text": [
      "[CV 4/5; 14/16] END ................batch_size=50, epochs=40; total time=   1.0s\n",
      "[CV 5/5; 14/16] START batch_size=50, epochs=40..................................\n"
     ]
    },
    {
     "name": "stderr",
     "output_type": "stream",
     "text": [
      "C:\\Users\\dell\\anaconda3\\lib\\site-packages\\keras\\optimizer_v2\\optimizer_v2.py:355: UserWarning: The `lr` argument is deprecated, use `learning_rate` instead.\n",
      "  warnings.warn(\n"
     ]
    },
    {
     "name": "stdout",
     "output_type": "stream",
     "text": [
      "[CV 5/5; 14/16] END ................batch_size=50, epochs=40; total time=   1.0s\n",
      "[CV 1/5; 15/16] START batch_size=50, epochs=60..................................\n"
     ]
    },
    {
     "name": "stderr",
     "output_type": "stream",
     "text": [
      "C:\\Users\\dell\\anaconda3\\lib\\site-packages\\keras\\optimizer_v2\\optimizer_v2.py:355: UserWarning: The `lr` argument is deprecated, use `learning_rate` instead.\n",
      "  warnings.warn(\n"
     ]
    },
    {
     "name": "stdout",
     "output_type": "stream",
     "text": [
      "[CV 1/5; 15/16] END ................batch_size=50, epochs=60; total time=   1.2s\n",
      "[CV 2/5; 15/16] START batch_size=50, epochs=60..................................\n"
     ]
    },
    {
     "name": "stderr",
     "output_type": "stream",
     "text": [
      "C:\\Users\\dell\\anaconda3\\lib\\site-packages\\keras\\optimizer_v2\\optimizer_v2.py:355: UserWarning: The `lr` argument is deprecated, use `learning_rate` instead.\n",
      "  warnings.warn(\n"
     ]
    },
    {
     "name": "stdout",
     "output_type": "stream",
     "text": [
      "[CV 2/5; 15/16] END ................batch_size=50, epochs=60; total time=   1.2s\n",
      "[CV 3/5; 15/16] START batch_size=50, epochs=60..................................\n"
     ]
    },
    {
     "name": "stderr",
     "output_type": "stream",
     "text": [
      "C:\\Users\\dell\\anaconda3\\lib\\site-packages\\keras\\optimizer_v2\\optimizer_v2.py:355: UserWarning: The `lr` argument is deprecated, use `learning_rate` instead.\n",
      "  warnings.warn(\n"
     ]
    },
    {
     "name": "stdout",
     "output_type": "stream",
     "text": [
      "[CV 3/5; 15/16] END ................batch_size=50, epochs=60; total time=   1.4s\n",
      "[CV 4/5; 15/16] START batch_size=50, epochs=60..................................\n"
     ]
    },
    {
     "name": "stderr",
     "output_type": "stream",
     "text": [
      "C:\\Users\\dell\\anaconda3\\lib\\site-packages\\keras\\optimizer_v2\\optimizer_v2.py:355: UserWarning: The `lr` argument is deprecated, use `learning_rate` instead.\n",
      "  warnings.warn(\n"
     ]
    },
    {
     "name": "stdout",
     "output_type": "stream",
     "text": [
      "[CV 4/5; 15/16] END ................batch_size=50, epochs=60; total time=   1.2s\n",
      "[CV 5/5; 15/16] START batch_size=50, epochs=60..................................\n"
     ]
    },
    {
     "name": "stderr",
     "output_type": "stream",
     "text": [
      "C:\\Users\\dell\\anaconda3\\lib\\site-packages\\keras\\optimizer_v2\\optimizer_v2.py:355: UserWarning: The `lr` argument is deprecated, use `learning_rate` instead.\n",
      "  warnings.warn(\n"
     ]
    },
    {
     "name": "stdout",
     "output_type": "stream",
     "text": [
      "[CV 5/5; 15/16] END ................batch_size=50, epochs=60; total time=   1.3s\n",
      "[CV 1/5; 16/16] START batch_size=50, epochs=70..................................\n"
     ]
    },
    {
     "name": "stderr",
     "output_type": "stream",
     "text": [
      "C:\\Users\\dell\\anaconda3\\lib\\site-packages\\keras\\optimizer_v2\\optimizer_v2.py:355: UserWarning: The `lr` argument is deprecated, use `learning_rate` instead.\n",
      "  warnings.warn(\n"
     ]
    },
    {
     "name": "stdout",
     "output_type": "stream",
     "text": [
      "[CV 1/5; 16/16] END ................batch_size=50, epochs=70; total time=   1.3s\n",
      "[CV 2/5; 16/16] START batch_size=50, epochs=70..................................\n"
     ]
    },
    {
     "name": "stderr",
     "output_type": "stream",
     "text": [
      "C:\\Users\\dell\\anaconda3\\lib\\site-packages\\keras\\optimizer_v2\\optimizer_v2.py:355: UserWarning: The `lr` argument is deprecated, use `learning_rate` instead.\n",
      "  warnings.warn(\n"
     ]
    },
    {
     "name": "stdout",
     "output_type": "stream",
     "text": [
      "[CV 2/5; 16/16] END ................batch_size=50, epochs=70; total time=   1.4s\n",
      "[CV 3/5; 16/16] START batch_size=50, epochs=70..................................\n"
     ]
    },
    {
     "name": "stderr",
     "output_type": "stream",
     "text": [
      "C:\\Users\\dell\\anaconda3\\lib\\site-packages\\keras\\optimizer_v2\\optimizer_v2.py:355: UserWarning: The `lr` argument is deprecated, use `learning_rate` instead.\n",
      "  warnings.warn(\n"
     ]
    },
    {
     "name": "stdout",
     "output_type": "stream",
     "text": [
      "[CV 3/5; 16/16] END ................batch_size=50, epochs=70; total time=   1.6s\n",
      "[CV 4/5; 16/16] START batch_size=50, epochs=70..................................\n"
     ]
    },
    {
     "name": "stderr",
     "output_type": "stream",
     "text": [
      "C:\\Users\\dell\\anaconda3\\lib\\site-packages\\keras\\optimizer_v2\\optimizer_v2.py:355: UserWarning: The `lr` argument is deprecated, use `learning_rate` instead.\n",
      "  warnings.warn(\n"
     ]
    },
    {
     "name": "stdout",
     "output_type": "stream",
     "text": [
      "[CV 4/5; 16/16] END ................batch_size=50, epochs=70; total time=   1.3s\n",
      "[CV 5/5; 16/16] START batch_size=50, epochs=70..................................\n"
     ]
    },
    {
     "name": "stderr",
     "output_type": "stream",
     "text": [
      "C:\\Users\\dell\\anaconda3\\lib\\site-packages\\keras\\optimizer_v2\\optimizer_v2.py:355: UserWarning: The `lr` argument is deprecated, use `learning_rate` instead.\n",
      "  warnings.warn(\n"
     ]
    },
    {
     "name": "stdout",
     "output_type": "stream",
     "text": [
      "[CV 5/5; 16/16] END ................batch_size=50, epochs=70; total time=   1.3s\n"
     ]
    },
    {
     "data": {
      "text/plain": [
       "GridSearchCV(cv=KFold(n_splits=5, random_state=None, shuffle=False),\n",
       "             estimator=<keras.wrappers.scikit_learn.KerasRegressor object at 0x00000214BCF8EDF0>,\n",
       "             param_grid={'batch_size': [20, 30, 40, 50],\n",
       "                         'epochs': [10, 40, 60, 70]},\n",
       "             verbose=10)"
      ]
     },
     "execution_count": 20,
     "metadata": {},
     "output_type": "execute_result"
    }
   ],
   "source": [
    "model = KerasRegressor(build_fn = create_model, verbose = 0)\n",
    "\n",
    "batch_size = [20,30,40,50]\n",
    "epochs = [10,40,60,70]\n",
    "\n",
    "param_grid = dict(batch_size = batch_size, epochs = epochs)\n",
    "\n",
    "grid = GridSearchCV(estimator = model, param_grid = param_grid, cv = KFold(), verbose = 10)\n",
    "grid.fit(x_std,y)"
   ]
  },
  {
   "cell_type": "code",
   "execution_count": 21,
   "id": "1bd9db7b",
   "metadata": {},
   "outputs": [
    {
     "name": "stdout",
     "output_type": "stream",
     "text": [
      "Best: -0.3702536430209875 with: {'batch_size': 30, 'epochs': 70}\n",
      "-0.5934700012207031 0.13394593728558982 with : {'batch_size': 20, 'epochs': 10}\n",
      "-0.38718259185552595 0.17271277304817084 with : {'batch_size': 20, 'epochs': 40}\n",
      "-0.5198528416454792 0.35094010770415995 with : {'batch_size': 20, 'epochs': 60}\n",
      "-0.5328638419508934 0.5455766563305958 with : {'batch_size': 20, 'epochs': 70}\n",
      "-0.5995655119419098 0.1228944673262816 with : {'batch_size': 30, 'epochs': 10}\n",
      "-0.47591584324836733 0.15352073129483548 with : {'batch_size': 30, 'epochs': 40}\n",
      "-0.3815214619040489 0.16474678542588708 with : {'batch_size': 30, 'epochs': 60}\n",
      "-0.3702536430209875 0.2140591835975942 with : {'batch_size': 30, 'epochs': 70}\n",
      "-0.6100983262062073 0.07049230230017384 with : {'batch_size': 40, 'epochs': 10}\n",
      "-0.523179367184639 0.15865174244740232 with : {'batch_size': 40, 'epochs': 40}\n",
      "-0.44226178526878357 0.15842839190078212 with : {'batch_size': 40, 'epochs': 60}\n",
      "-0.4800052806735039 0.30118932475241533 with : {'batch_size': 40, 'epochs': 70}\n",
      "-0.6166679859161377 0.05400939085745313 with : {'batch_size': 50, 'epochs': 10}\n",
      "-0.5445243895053864 0.15009731271940932 with : {'batch_size': 50, 'epochs': 40}\n",
      "-0.5023664355278015 0.17952497907690684 with : {'batch_size': 50, 'epochs': 60}\n",
      "-0.44802157282829286 0.18686921358821684 with : {'batch_size': 50, 'epochs': 70}\n"
     ]
    }
   ],
   "source": [
    "print('Best: {} with: {}'.format(grid.best_score_ , grid.best_params_))\n",
    "\n",
    "means = grid.cv_results_['mean_test_score']\n",
    "std = grid.cv_results_['std_test_score']\n",
    "params = grid.cv_results_['params']\n",
    "\n",
    "for mean,stdev,param in zip(means,std,params):\n",
    "       print('{} {} with : {}'.format(mean,stdev,param))\n",
    "   "
   ]
  },
  {
   "cell_type": "markdown",
   "id": "f6c28c3d",
   "metadata": {},
   "source": [
    "##### Tuning for dropout rate and learning rate"
   ]
  },
  {
   "cell_type": "code",
   "execution_count": 23,
   "id": "bd12b865",
   "metadata": {},
   "outputs": [],
   "source": [
    "from keras.layers import Dropout"
   ]
  },
  {
   "cell_type": "code",
   "execution_count": 24,
   "id": "d2cb0176",
   "metadata": {},
   "outputs": [
    {
     "name": "stdout",
     "output_type": "stream",
     "text": [
      "Fitting 5 folds for each of 16 candidates, totalling 80 fits\n",
      "[CV 1/5; 1/16] START dropout_rate=0.1, learning_rate=0.1........................\n"
     ]
    },
    {
     "name": "stderr",
     "output_type": "stream",
     "text": [
      "C:\\Users\\dell\\anaconda3\\lib\\site-packages\\keras\\optimizer_v2\\optimizer_v2.py:355: UserWarning: The `lr` argument is deprecated, use `learning_rate` instead.\n",
      "  warnings.warn(\n"
     ]
    },
    {
     "name": "stdout",
     "output_type": "stream",
     "text": [
      "[CV 1/5; 1/16] END ......dropout_rate=0.1, learning_rate=0.1; total time=   2.0s\n",
      "[CV 2/5; 1/16] START dropout_rate=0.1, learning_rate=0.1........................\n"
     ]
    },
    {
     "name": "stderr",
     "output_type": "stream",
     "text": [
      "C:\\Users\\dell\\anaconda3\\lib\\site-packages\\keras\\optimizer_v2\\optimizer_v2.py:355: UserWarning: The `lr` argument is deprecated, use `learning_rate` instead.\n",
      "  warnings.warn(\n"
     ]
    },
    {
     "name": "stdout",
     "output_type": "stream",
     "text": [
      "[CV 2/5; 1/16] END ......dropout_rate=0.1, learning_rate=0.1; total time=   2.0s\n",
      "[CV 3/5; 1/16] START dropout_rate=0.1, learning_rate=0.1........................\n"
     ]
    },
    {
     "name": "stderr",
     "output_type": "stream",
     "text": [
      "C:\\Users\\dell\\anaconda3\\lib\\site-packages\\keras\\optimizer_v2\\optimizer_v2.py:355: UserWarning: The `lr` argument is deprecated, use `learning_rate` instead.\n",
      "  warnings.warn(\n"
     ]
    },
    {
     "name": "stdout",
     "output_type": "stream",
     "text": [
      "[CV 3/5; 1/16] END ......dropout_rate=0.1, learning_rate=0.1; total time=   2.1s\n",
      "[CV 4/5; 1/16] START dropout_rate=0.1, learning_rate=0.1........................\n"
     ]
    },
    {
     "name": "stderr",
     "output_type": "stream",
     "text": [
      "C:\\Users\\dell\\anaconda3\\lib\\site-packages\\keras\\optimizer_v2\\optimizer_v2.py:355: UserWarning: The `lr` argument is deprecated, use `learning_rate` instead.\n",
      "  warnings.warn(\n"
     ]
    },
    {
     "name": "stdout",
     "output_type": "stream",
     "text": [
      "[CV 4/5; 1/16] END ......dropout_rate=0.1, learning_rate=0.1; total time=   1.8s\n",
      "[CV 5/5; 1/16] START dropout_rate=0.1, learning_rate=0.1........................\n"
     ]
    },
    {
     "name": "stderr",
     "output_type": "stream",
     "text": [
      "C:\\Users\\dell\\anaconda3\\lib\\site-packages\\keras\\optimizer_v2\\optimizer_v2.py:355: UserWarning: The `lr` argument is deprecated, use `learning_rate` instead.\n",
      "  warnings.warn(\n"
     ]
    },
    {
     "name": "stdout",
     "output_type": "stream",
     "text": [
      "[CV 5/5; 1/16] END ......dropout_rate=0.1, learning_rate=0.1; total time=   1.8s\n",
      "[CV 1/5; 2/16] START dropout_rate=0.1, learning_rate=0.01.......................\n"
     ]
    },
    {
     "name": "stderr",
     "output_type": "stream",
     "text": [
      "C:\\Users\\dell\\anaconda3\\lib\\site-packages\\keras\\optimizer_v2\\optimizer_v2.py:355: UserWarning: The `lr` argument is deprecated, use `learning_rate` instead.\n",
      "  warnings.warn(\n"
     ]
    },
    {
     "name": "stdout",
     "output_type": "stream",
     "text": [
      "[CV 1/5; 2/16] END .....dropout_rate=0.1, learning_rate=0.01; total time=   1.9s\n",
      "[CV 2/5; 2/16] START dropout_rate=0.1, learning_rate=0.01.......................\n"
     ]
    },
    {
     "name": "stderr",
     "output_type": "stream",
     "text": [
      "C:\\Users\\dell\\anaconda3\\lib\\site-packages\\keras\\optimizer_v2\\optimizer_v2.py:355: UserWarning: The `lr` argument is deprecated, use `learning_rate` instead.\n",
      "  warnings.warn(\n"
     ]
    },
    {
     "name": "stdout",
     "output_type": "stream",
     "text": [
      "[CV 2/5; 2/16] END .....dropout_rate=0.1, learning_rate=0.01; total time=   1.9s\n",
      "[CV 3/5; 2/16] START dropout_rate=0.1, learning_rate=0.01.......................\n"
     ]
    },
    {
     "name": "stderr",
     "output_type": "stream",
     "text": [
      "C:\\Users\\dell\\anaconda3\\lib\\site-packages\\keras\\optimizer_v2\\optimizer_v2.py:355: UserWarning: The `lr` argument is deprecated, use `learning_rate` instead.\n",
      "  warnings.warn(\n"
     ]
    },
    {
     "name": "stdout",
     "output_type": "stream",
     "text": [
      "[CV 3/5; 2/16] END .....dropout_rate=0.1, learning_rate=0.01; total time=   1.8s\n",
      "[CV 4/5; 2/16] START dropout_rate=0.1, learning_rate=0.01.......................\n"
     ]
    },
    {
     "name": "stderr",
     "output_type": "stream",
     "text": [
      "C:\\Users\\dell\\anaconda3\\lib\\site-packages\\keras\\optimizer_v2\\optimizer_v2.py:355: UserWarning: The `lr` argument is deprecated, use `learning_rate` instead.\n",
      "  warnings.warn(\n"
     ]
    },
    {
     "name": "stdout",
     "output_type": "stream",
     "text": [
      "[CV 4/5; 2/16] END .....dropout_rate=0.1, learning_rate=0.01; total time=   2.1s\n",
      "[CV 5/5; 2/16] START dropout_rate=0.1, learning_rate=0.01.......................\n"
     ]
    },
    {
     "name": "stderr",
     "output_type": "stream",
     "text": [
      "C:\\Users\\dell\\anaconda3\\lib\\site-packages\\keras\\optimizer_v2\\optimizer_v2.py:355: UserWarning: The `lr` argument is deprecated, use `learning_rate` instead.\n",
      "  warnings.warn(\n"
     ]
    },
    {
     "name": "stdout",
     "output_type": "stream",
     "text": [
      "[CV 5/5; 2/16] END .....dropout_rate=0.1, learning_rate=0.01; total time=   1.8s\n",
      "[CV 1/5; 3/16] START dropout_rate=0.1, learning_rate=0.001......................\n"
     ]
    },
    {
     "name": "stderr",
     "output_type": "stream",
     "text": [
      "C:\\Users\\dell\\anaconda3\\lib\\site-packages\\keras\\optimizer_v2\\optimizer_v2.py:355: UserWarning: The `lr` argument is deprecated, use `learning_rate` instead.\n",
      "  warnings.warn(\n"
     ]
    },
    {
     "name": "stdout",
     "output_type": "stream",
     "text": [
      "[CV 1/5; 3/16] END ....dropout_rate=0.1, learning_rate=0.001; total time=   2.1s\n",
      "[CV 2/5; 3/16] START dropout_rate=0.1, learning_rate=0.001......................\n"
     ]
    },
    {
     "name": "stderr",
     "output_type": "stream",
     "text": [
      "C:\\Users\\dell\\anaconda3\\lib\\site-packages\\keras\\optimizer_v2\\optimizer_v2.py:355: UserWarning: The `lr` argument is deprecated, use `learning_rate` instead.\n",
      "  warnings.warn(\n"
     ]
    },
    {
     "name": "stdout",
     "output_type": "stream",
     "text": [
      "[CV 2/5; 3/16] END ....dropout_rate=0.1, learning_rate=0.001; total time=   2.1s\n",
      "[CV 3/5; 3/16] START dropout_rate=0.1, learning_rate=0.001......................\n"
     ]
    },
    {
     "name": "stderr",
     "output_type": "stream",
     "text": [
      "C:\\Users\\dell\\anaconda3\\lib\\site-packages\\keras\\optimizer_v2\\optimizer_v2.py:355: UserWarning: The `lr` argument is deprecated, use `learning_rate` instead.\n",
      "  warnings.warn(\n"
     ]
    },
    {
     "name": "stdout",
     "output_type": "stream",
     "text": [
      "[CV 3/5; 3/16] END ....dropout_rate=0.1, learning_rate=0.001; total time=   1.9s\n",
      "[CV 4/5; 3/16] START dropout_rate=0.1, learning_rate=0.001......................\n"
     ]
    },
    {
     "name": "stderr",
     "output_type": "stream",
     "text": [
      "C:\\Users\\dell\\anaconda3\\lib\\site-packages\\keras\\optimizer_v2\\optimizer_v2.py:355: UserWarning: The `lr` argument is deprecated, use `learning_rate` instead.\n",
      "  warnings.warn(\n"
     ]
    },
    {
     "name": "stdout",
     "output_type": "stream",
     "text": [
      "[CV 4/5; 3/16] END ....dropout_rate=0.1, learning_rate=0.001; total time=   1.9s\n",
      "[CV 5/5; 3/16] START dropout_rate=0.1, learning_rate=0.001......................\n"
     ]
    },
    {
     "name": "stderr",
     "output_type": "stream",
     "text": [
      "C:\\Users\\dell\\anaconda3\\lib\\site-packages\\keras\\optimizer_v2\\optimizer_v2.py:355: UserWarning: The `lr` argument is deprecated, use `learning_rate` instead.\n",
      "  warnings.warn(\n"
     ]
    },
    {
     "name": "stdout",
     "output_type": "stream",
     "text": [
      "[CV 5/5; 3/16] END ....dropout_rate=0.1, learning_rate=0.001; total time=   2.3s\n",
      "[CV 1/5; 4/16] START dropout_rate=0.1, learning_rate=0.0001.....................\n"
     ]
    },
    {
     "name": "stderr",
     "output_type": "stream",
     "text": [
      "C:\\Users\\dell\\anaconda3\\lib\\site-packages\\keras\\optimizer_v2\\optimizer_v2.py:355: UserWarning: The `lr` argument is deprecated, use `learning_rate` instead.\n",
      "  warnings.warn(\n"
     ]
    },
    {
     "name": "stdout",
     "output_type": "stream",
     "text": [
      "[CV 1/5; 4/16] END ...dropout_rate=0.1, learning_rate=0.0001; total time=   2.4s\n",
      "[CV 2/5; 4/16] START dropout_rate=0.1, learning_rate=0.0001.....................\n"
     ]
    },
    {
     "name": "stderr",
     "output_type": "stream",
     "text": [
      "C:\\Users\\dell\\anaconda3\\lib\\site-packages\\keras\\optimizer_v2\\optimizer_v2.py:355: UserWarning: The `lr` argument is deprecated, use `learning_rate` instead.\n",
      "  warnings.warn(\n"
     ]
    },
    {
     "name": "stdout",
     "output_type": "stream",
     "text": [
      "[CV 2/5; 4/16] END ...dropout_rate=0.1, learning_rate=0.0001; total time=   2.2s\n",
      "[CV 3/5; 4/16] START dropout_rate=0.1, learning_rate=0.0001.....................\n"
     ]
    },
    {
     "name": "stderr",
     "output_type": "stream",
     "text": [
      "C:\\Users\\dell\\anaconda3\\lib\\site-packages\\keras\\optimizer_v2\\optimizer_v2.py:355: UserWarning: The `lr` argument is deprecated, use `learning_rate` instead.\n",
      "  warnings.warn(\n"
     ]
    },
    {
     "name": "stdout",
     "output_type": "stream",
     "text": [
      "[CV 3/5; 4/16] END ...dropout_rate=0.1, learning_rate=0.0001; total time=   2.6s\n",
      "[CV 4/5; 4/16] START dropout_rate=0.1, learning_rate=0.0001.....................\n"
     ]
    },
    {
     "name": "stderr",
     "output_type": "stream",
     "text": [
      "C:\\Users\\dell\\anaconda3\\lib\\site-packages\\keras\\optimizer_v2\\optimizer_v2.py:355: UserWarning: The `lr` argument is deprecated, use `learning_rate` instead.\n",
      "  warnings.warn(\n"
     ]
    },
    {
     "name": "stdout",
     "output_type": "stream",
     "text": [
      "[CV 4/5; 4/16] END ...dropout_rate=0.1, learning_rate=0.0001; total time=   2.4s\n",
      "[CV 5/5; 4/16] START dropout_rate=0.1, learning_rate=0.0001.....................\n"
     ]
    },
    {
     "name": "stderr",
     "output_type": "stream",
     "text": [
      "C:\\Users\\dell\\anaconda3\\lib\\site-packages\\keras\\optimizer_v2\\optimizer_v2.py:355: UserWarning: The `lr` argument is deprecated, use `learning_rate` instead.\n",
      "  warnings.warn(\n"
     ]
    },
    {
     "name": "stdout",
     "output_type": "stream",
     "text": [
      "[CV 5/5; 4/16] END ...dropout_rate=0.1, learning_rate=0.0001; total time=   2.0s\n",
      "[CV 1/5; 5/16] START dropout_rate=0.2, learning_rate=0.1........................\n"
     ]
    },
    {
     "name": "stderr",
     "output_type": "stream",
     "text": [
      "C:\\Users\\dell\\anaconda3\\lib\\site-packages\\keras\\optimizer_v2\\optimizer_v2.py:355: UserWarning: The `lr` argument is deprecated, use `learning_rate` instead.\n",
      "  warnings.warn(\n"
     ]
    },
    {
     "name": "stdout",
     "output_type": "stream",
     "text": [
      "[CV 1/5; 5/16] END ......dropout_rate=0.2, learning_rate=0.1; total time=   2.0s\n",
      "[CV 2/5; 5/16] START dropout_rate=0.2, learning_rate=0.1........................\n"
     ]
    },
    {
     "name": "stderr",
     "output_type": "stream",
     "text": [
      "C:\\Users\\dell\\anaconda3\\lib\\site-packages\\keras\\optimizer_v2\\optimizer_v2.py:355: UserWarning: The `lr` argument is deprecated, use `learning_rate` instead.\n",
      "  warnings.warn(\n"
     ]
    },
    {
     "name": "stdout",
     "output_type": "stream",
     "text": [
      "[CV 2/5; 5/16] END ......dropout_rate=0.2, learning_rate=0.1; total time=   2.2s\n",
      "[CV 3/5; 5/16] START dropout_rate=0.2, learning_rate=0.1........................\n"
     ]
    },
    {
     "name": "stderr",
     "output_type": "stream",
     "text": [
      "C:\\Users\\dell\\anaconda3\\lib\\site-packages\\keras\\optimizer_v2\\optimizer_v2.py:355: UserWarning: The `lr` argument is deprecated, use `learning_rate` instead.\n",
      "  warnings.warn(\n"
     ]
    },
    {
     "name": "stdout",
     "output_type": "stream",
     "text": [
      "[CV 3/5; 5/16] END ......dropout_rate=0.2, learning_rate=0.1; total time=   2.0s\n",
      "[CV 4/5; 5/16] START dropout_rate=0.2, learning_rate=0.1........................\n"
     ]
    },
    {
     "name": "stderr",
     "output_type": "stream",
     "text": [
      "C:\\Users\\dell\\anaconda3\\lib\\site-packages\\keras\\optimizer_v2\\optimizer_v2.py:355: UserWarning: The `lr` argument is deprecated, use `learning_rate` instead.\n",
      "  warnings.warn(\n"
     ]
    },
    {
     "name": "stdout",
     "output_type": "stream",
     "text": [
      "[CV 4/5; 5/16] END ......dropout_rate=0.2, learning_rate=0.1; total time=   2.3s\n",
      "[CV 5/5; 5/16] START dropout_rate=0.2, learning_rate=0.1........................\n"
     ]
    },
    {
     "name": "stderr",
     "output_type": "stream",
     "text": [
      "C:\\Users\\dell\\anaconda3\\lib\\site-packages\\keras\\optimizer_v2\\optimizer_v2.py:355: UserWarning: The `lr` argument is deprecated, use `learning_rate` instead.\n",
      "  warnings.warn(\n"
     ]
    },
    {
     "name": "stdout",
     "output_type": "stream",
     "text": [
      "[CV 5/5; 5/16] END ......dropout_rate=0.2, learning_rate=0.1; total time=   2.3s\n",
      "[CV 1/5; 6/16] START dropout_rate=0.2, learning_rate=0.01.......................\n"
     ]
    },
    {
     "name": "stderr",
     "output_type": "stream",
     "text": [
      "C:\\Users\\dell\\anaconda3\\lib\\site-packages\\keras\\optimizer_v2\\optimizer_v2.py:355: UserWarning: The `lr` argument is deprecated, use `learning_rate` instead.\n",
      "  warnings.warn(\n"
     ]
    },
    {
     "name": "stdout",
     "output_type": "stream",
     "text": [
      "[CV 1/5; 6/16] END .....dropout_rate=0.2, learning_rate=0.01; total time=   1.9s\n",
      "[CV 2/5; 6/16] START dropout_rate=0.2, learning_rate=0.01.......................\n"
     ]
    },
    {
     "name": "stderr",
     "output_type": "stream",
     "text": [
      "C:\\Users\\dell\\anaconda3\\lib\\site-packages\\keras\\optimizer_v2\\optimizer_v2.py:355: UserWarning: The `lr` argument is deprecated, use `learning_rate` instead.\n",
      "  warnings.warn(\n"
     ]
    },
    {
     "name": "stdout",
     "output_type": "stream",
     "text": [
      "[CV 2/5; 6/16] END .....dropout_rate=0.2, learning_rate=0.01; total time=   1.9s\n",
      "[CV 3/5; 6/16] START dropout_rate=0.2, learning_rate=0.01.......................\n"
     ]
    },
    {
     "name": "stderr",
     "output_type": "stream",
     "text": [
      "C:\\Users\\dell\\anaconda3\\lib\\site-packages\\keras\\optimizer_v2\\optimizer_v2.py:355: UserWarning: The `lr` argument is deprecated, use `learning_rate` instead.\n",
      "  warnings.warn(\n"
     ]
    },
    {
     "name": "stdout",
     "output_type": "stream",
     "text": [
      "[CV 3/5; 6/16] END .....dropout_rate=0.2, learning_rate=0.01; total time=   1.8s\n",
      "[CV 4/5; 6/16] START dropout_rate=0.2, learning_rate=0.01.......................\n"
     ]
    },
    {
     "name": "stderr",
     "output_type": "stream",
     "text": [
      "C:\\Users\\dell\\anaconda3\\lib\\site-packages\\keras\\optimizer_v2\\optimizer_v2.py:355: UserWarning: The `lr` argument is deprecated, use `learning_rate` instead.\n",
      "  warnings.warn(\n"
     ]
    },
    {
     "name": "stdout",
     "output_type": "stream",
     "text": [
      "[CV 4/5; 6/16] END .....dropout_rate=0.2, learning_rate=0.01; total time=   1.9s\n",
      "[CV 5/5; 6/16] START dropout_rate=0.2, learning_rate=0.01.......................\n"
     ]
    },
    {
     "name": "stderr",
     "output_type": "stream",
     "text": [
      "C:\\Users\\dell\\anaconda3\\lib\\site-packages\\keras\\optimizer_v2\\optimizer_v2.py:355: UserWarning: The `lr` argument is deprecated, use `learning_rate` instead.\n",
      "  warnings.warn(\n"
     ]
    },
    {
     "name": "stdout",
     "output_type": "stream",
     "text": [
      "[CV 5/5; 6/16] END .....dropout_rate=0.2, learning_rate=0.01; total time=   1.9s\n",
      "[CV 1/5; 7/16] START dropout_rate=0.2, learning_rate=0.001......................\n"
     ]
    },
    {
     "name": "stderr",
     "output_type": "stream",
     "text": [
      "C:\\Users\\dell\\anaconda3\\lib\\site-packages\\keras\\optimizer_v2\\optimizer_v2.py:355: UserWarning: The `lr` argument is deprecated, use `learning_rate` instead.\n",
      "  warnings.warn(\n"
     ]
    },
    {
     "name": "stdout",
     "output_type": "stream",
     "text": [
      "[CV 1/5; 7/16] END ....dropout_rate=0.2, learning_rate=0.001; total time=   2.0s\n",
      "[CV 2/5; 7/16] START dropout_rate=0.2, learning_rate=0.001......................\n"
     ]
    },
    {
     "name": "stderr",
     "output_type": "stream",
     "text": [
      "C:\\Users\\dell\\anaconda3\\lib\\site-packages\\keras\\optimizer_v2\\optimizer_v2.py:355: UserWarning: The `lr` argument is deprecated, use `learning_rate` instead.\n",
      "  warnings.warn(\n"
     ]
    },
    {
     "name": "stdout",
     "output_type": "stream",
     "text": [
      "[CV 2/5; 7/16] END ....dropout_rate=0.2, learning_rate=0.001; total time=   2.4s\n",
      "[CV 3/5; 7/16] START dropout_rate=0.2, learning_rate=0.001......................\n"
     ]
    },
    {
     "name": "stderr",
     "output_type": "stream",
     "text": [
      "C:\\Users\\dell\\anaconda3\\lib\\site-packages\\keras\\optimizer_v2\\optimizer_v2.py:355: UserWarning: The `lr` argument is deprecated, use `learning_rate` instead.\n",
      "  warnings.warn(\n"
     ]
    },
    {
     "name": "stdout",
     "output_type": "stream",
     "text": [
      "[CV 3/5; 7/16] END ....dropout_rate=0.2, learning_rate=0.001; total time=   2.2s\n",
      "[CV 4/5; 7/16] START dropout_rate=0.2, learning_rate=0.001......................\n"
     ]
    },
    {
     "name": "stderr",
     "output_type": "stream",
     "text": [
      "C:\\Users\\dell\\anaconda3\\lib\\site-packages\\keras\\optimizer_v2\\optimizer_v2.py:355: UserWarning: The `lr` argument is deprecated, use `learning_rate` instead.\n",
      "  warnings.warn(\n"
     ]
    },
    {
     "name": "stdout",
     "output_type": "stream",
     "text": [
      "[CV 4/5; 7/16] END ....dropout_rate=0.2, learning_rate=0.001; total time=   1.9s\n",
      "[CV 5/5; 7/16] START dropout_rate=0.2, learning_rate=0.001......................\n"
     ]
    },
    {
     "name": "stderr",
     "output_type": "stream",
     "text": [
      "C:\\Users\\dell\\anaconda3\\lib\\site-packages\\keras\\optimizer_v2\\optimizer_v2.py:355: UserWarning: The `lr` argument is deprecated, use `learning_rate` instead.\n",
      "  warnings.warn(\n"
     ]
    },
    {
     "name": "stdout",
     "output_type": "stream",
     "text": [
      "[CV 5/5; 7/16] END ....dropout_rate=0.2, learning_rate=0.001; total time=   1.9s\n",
      "[CV 1/5; 8/16] START dropout_rate=0.2, learning_rate=0.0001.....................\n"
     ]
    },
    {
     "name": "stderr",
     "output_type": "stream",
     "text": [
      "C:\\Users\\dell\\anaconda3\\lib\\site-packages\\keras\\optimizer_v2\\optimizer_v2.py:355: UserWarning: The `lr` argument is deprecated, use `learning_rate` instead.\n",
      "  warnings.warn(\n"
     ]
    },
    {
     "name": "stdout",
     "output_type": "stream",
     "text": [
      "[CV 1/5; 8/16] END ...dropout_rate=0.2, learning_rate=0.0001; total time=   1.8s\n",
      "[CV 2/5; 8/16] START dropout_rate=0.2, learning_rate=0.0001.....................\n"
     ]
    },
    {
     "name": "stderr",
     "output_type": "stream",
     "text": [
      "C:\\Users\\dell\\anaconda3\\lib\\site-packages\\keras\\optimizer_v2\\optimizer_v2.py:355: UserWarning: The `lr` argument is deprecated, use `learning_rate` instead.\n",
      "  warnings.warn(\n"
     ]
    },
    {
     "name": "stdout",
     "output_type": "stream",
     "text": [
      "[CV 2/5; 8/16] END ...dropout_rate=0.2, learning_rate=0.0001; total time=   1.8s\n",
      "[CV 3/5; 8/16] START dropout_rate=0.2, learning_rate=0.0001.....................\n"
     ]
    },
    {
     "name": "stderr",
     "output_type": "stream",
     "text": [
      "C:\\Users\\dell\\anaconda3\\lib\\site-packages\\keras\\optimizer_v2\\optimizer_v2.py:355: UserWarning: The `lr` argument is deprecated, use `learning_rate` instead.\n",
      "  warnings.warn(\n"
     ]
    },
    {
     "name": "stdout",
     "output_type": "stream",
     "text": [
      "[CV 3/5; 8/16] END ...dropout_rate=0.2, learning_rate=0.0001; total time=   2.1s\n",
      "[CV 4/5; 8/16] START dropout_rate=0.2, learning_rate=0.0001.....................\n"
     ]
    },
    {
     "name": "stderr",
     "output_type": "stream",
     "text": [
      "C:\\Users\\dell\\anaconda3\\lib\\site-packages\\keras\\optimizer_v2\\optimizer_v2.py:355: UserWarning: The `lr` argument is deprecated, use `learning_rate` instead.\n",
      "  warnings.warn(\n"
     ]
    },
    {
     "name": "stdout",
     "output_type": "stream",
     "text": [
      "[CV 4/5; 8/16] END ...dropout_rate=0.2, learning_rate=0.0001; total time=   1.8s\n",
      "[CV 5/5; 8/16] START dropout_rate=0.2, learning_rate=0.0001.....................\n"
     ]
    },
    {
     "name": "stderr",
     "output_type": "stream",
     "text": [
      "C:\\Users\\dell\\anaconda3\\lib\\site-packages\\keras\\optimizer_v2\\optimizer_v2.py:355: UserWarning: The `lr` argument is deprecated, use `learning_rate` instead.\n",
      "  warnings.warn(\n"
     ]
    },
    {
     "name": "stdout",
     "output_type": "stream",
     "text": [
      "[CV 5/5; 8/16] END ...dropout_rate=0.2, learning_rate=0.0001; total time=   2.3s\n",
      "[CV 1/5; 9/16] START dropout_rate=0.5, learning_rate=0.1........................\n"
     ]
    },
    {
     "name": "stderr",
     "output_type": "stream",
     "text": [
      "C:\\Users\\dell\\anaconda3\\lib\\site-packages\\keras\\optimizer_v2\\optimizer_v2.py:355: UserWarning: The `lr` argument is deprecated, use `learning_rate` instead.\n",
      "  warnings.warn(\n"
     ]
    },
    {
     "name": "stdout",
     "output_type": "stream",
     "text": [
      "[CV 1/5; 9/16] END ......dropout_rate=0.5, learning_rate=0.1; total time=   2.0s\n",
      "[CV 2/5; 9/16] START dropout_rate=0.5, learning_rate=0.1........................\n"
     ]
    },
    {
     "name": "stderr",
     "output_type": "stream",
     "text": [
      "C:\\Users\\dell\\anaconda3\\lib\\site-packages\\keras\\optimizer_v2\\optimizer_v2.py:355: UserWarning: The `lr` argument is deprecated, use `learning_rate` instead.\n",
      "  warnings.warn(\n"
     ]
    },
    {
     "name": "stdout",
     "output_type": "stream",
     "text": [
      "[CV 2/5; 9/16] END ......dropout_rate=0.5, learning_rate=0.1; total time=   1.9s\n",
      "[CV 3/5; 9/16] START dropout_rate=0.5, learning_rate=0.1........................\n"
     ]
    },
    {
     "name": "stderr",
     "output_type": "stream",
     "text": [
      "C:\\Users\\dell\\anaconda3\\lib\\site-packages\\keras\\optimizer_v2\\optimizer_v2.py:355: UserWarning: The `lr` argument is deprecated, use `learning_rate` instead.\n",
      "  warnings.warn(\n"
     ]
    },
    {
     "name": "stdout",
     "output_type": "stream",
     "text": [
      "[CV 3/5; 9/16] END ......dropout_rate=0.5, learning_rate=0.1; total time=   1.9s\n",
      "[CV 4/5; 9/16] START dropout_rate=0.5, learning_rate=0.1........................\n"
     ]
    },
    {
     "name": "stderr",
     "output_type": "stream",
     "text": [
      "C:\\Users\\dell\\anaconda3\\lib\\site-packages\\keras\\optimizer_v2\\optimizer_v2.py:355: UserWarning: The `lr` argument is deprecated, use `learning_rate` instead.\n",
      "  warnings.warn(\n"
     ]
    },
    {
     "name": "stdout",
     "output_type": "stream",
     "text": [
      "[CV 4/5; 9/16] END ......dropout_rate=0.5, learning_rate=0.1; total time=   1.9s\n",
      "[CV 5/5; 9/16] START dropout_rate=0.5, learning_rate=0.1........................\n"
     ]
    },
    {
     "name": "stderr",
     "output_type": "stream",
     "text": [
      "C:\\Users\\dell\\anaconda3\\lib\\site-packages\\keras\\optimizer_v2\\optimizer_v2.py:355: UserWarning: The `lr` argument is deprecated, use `learning_rate` instead.\n",
      "  warnings.warn(\n"
     ]
    },
    {
     "name": "stdout",
     "output_type": "stream",
     "text": [
      "[CV 5/5; 9/16] END ......dropout_rate=0.5, learning_rate=0.1; total time=   1.9s\n",
      "[CV 1/5; 10/16] START dropout_rate=0.5, learning_rate=0.01......................\n"
     ]
    },
    {
     "name": "stderr",
     "output_type": "stream",
     "text": [
      "C:\\Users\\dell\\anaconda3\\lib\\site-packages\\keras\\optimizer_v2\\optimizer_v2.py:355: UserWarning: The `lr` argument is deprecated, use `learning_rate` instead.\n",
      "  warnings.warn(\n"
     ]
    },
    {
     "name": "stdout",
     "output_type": "stream",
     "text": [
      "[CV 1/5; 10/16] END ....dropout_rate=0.5, learning_rate=0.01; total time=   1.8s\n",
      "[CV 2/5; 10/16] START dropout_rate=0.5, learning_rate=0.01......................\n"
     ]
    },
    {
     "name": "stderr",
     "output_type": "stream",
     "text": [
      "C:\\Users\\dell\\anaconda3\\lib\\site-packages\\keras\\optimizer_v2\\optimizer_v2.py:355: UserWarning: The `lr` argument is deprecated, use `learning_rate` instead.\n",
      "  warnings.warn(\n"
     ]
    },
    {
     "name": "stdout",
     "output_type": "stream",
     "text": [
      "[CV 2/5; 10/16] END ....dropout_rate=0.5, learning_rate=0.01; total time=   1.9s\n",
      "[CV 3/5; 10/16] START dropout_rate=0.5, learning_rate=0.01......................\n"
     ]
    },
    {
     "name": "stderr",
     "output_type": "stream",
     "text": [
      "C:\\Users\\dell\\anaconda3\\lib\\site-packages\\keras\\optimizer_v2\\optimizer_v2.py:355: UserWarning: The `lr` argument is deprecated, use `learning_rate` instead.\n",
      "  warnings.warn(\n"
     ]
    },
    {
     "name": "stdout",
     "output_type": "stream",
     "text": [
      "[CV 3/5; 10/16] END ....dropout_rate=0.5, learning_rate=0.01; total time=   2.4s\n",
      "[CV 4/5; 10/16] START dropout_rate=0.5, learning_rate=0.01......................\n"
     ]
    },
    {
     "name": "stderr",
     "output_type": "stream",
     "text": [
      "C:\\Users\\dell\\anaconda3\\lib\\site-packages\\keras\\optimizer_v2\\optimizer_v2.py:355: UserWarning: The `lr` argument is deprecated, use `learning_rate` instead.\n",
      "  warnings.warn(\n"
     ]
    },
    {
     "name": "stdout",
     "output_type": "stream",
     "text": [
      "[CV 4/5; 10/16] END ....dropout_rate=0.5, learning_rate=0.01; total time=   2.0s\n",
      "[CV 5/5; 10/16] START dropout_rate=0.5, learning_rate=0.01......................\n"
     ]
    },
    {
     "name": "stderr",
     "output_type": "stream",
     "text": [
      "C:\\Users\\dell\\anaconda3\\lib\\site-packages\\keras\\optimizer_v2\\optimizer_v2.py:355: UserWarning: The `lr` argument is deprecated, use `learning_rate` instead.\n",
      "  warnings.warn(\n"
     ]
    },
    {
     "name": "stdout",
     "output_type": "stream",
     "text": [
      "[CV 5/5; 10/16] END ....dropout_rate=0.5, learning_rate=0.01; total time=   1.8s\n",
      "[CV 1/5; 11/16] START dropout_rate=0.5, learning_rate=0.001.....................\n"
     ]
    },
    {
     "name": "stderr",
     "output_type": "stream",
     "text": [
      "C:\\Users\\dell\\anaconda3\\lib\\site-packages\\keras\\optimizer_v2\\optimizer_v2.py:355: UserWarning: The `lr` argument is deprecated, use `learning_rate` instead.\n",
      "  warnings.warn(\n"
     ]
    },
    {
     "name": "stdout",
     "output_type": "stream",
     "text": [
      "[CV 1/5; 11/16] END ...dropout_rate=0.5, learning_rate=0.001; total time=   1.8s\n",
      "[CV 2/5; 11/16] START dropout_rate=0.5, learning_rate=0.001.....................\n"
     ]
    },
    {
     "name": "stderr",
     "output_type": "stream",
     "text": [
      "C:\\Users\\dell\\anaconda3\\lib\\site-packages\\keras\\optimizer_v2\\optimizer_v2.py:355: UserWarning: The `lr` argument is deprecated, use `learning_rate` instead.\n",
      "  warnings.warn(\n"
     ]
    },
    {
     "name": "stdout",
     "output_type": "stream",
     "text": [
      "[CV 2/5; 11/16] END ...dropout_rate=0.5, learning_rate=0.001; total time=   1.8s\n",
      "[CV 3/5; 11/16] START dropout_rate=0.5, learning_rate=0.001.....................\n"
     ]
    },
    {
     "name": "stderr",
     "output_type": "stream",
     "text": [
      "C:\\Users\\dell\\anaconda3\\lib\\site-packages\\keras\\optimizer_v2\\optimizer_v2.py:355: UserWarning: The `lr` argument is deprecated, use `learning_rate` instead.\n",
      "  warnings.warn(\n"
     ]
    },
    {
     "name": "stdout",
     "output_type": "stream",
     "text": [
      "[CV 3/5; 11/16] END ...dropout_rate=0.5, learning_rate=0.001; total time=   1.9s\n",
      "[CV 4/5; 11/16] START dropout_rate=0.5, learning_rate=0.001.....................\n"
     ]
    },
    {
     "name": "stderr",
     "output_type": "stream",
     "text": [
      "C:\\Users\\dell\\anaconda3\\lib\\site-packages\\keras\\optimizer_v2\\optimizer_v2.py:355: UserWarning: The `lr` argument is deprecated, use `learning_rate` instead.\n",
      "  warnings.warn(\n"
     ]
    },
    {
     "name": "stdout",
     "output_type": "stream",
     "text": [
      "[CV 4/5; 11/16] END ...dropout_rate=0.5, learning_rate=0.001; total time=   2.7s\n",
      "[CV 5/5; 11/16] START dropout_rate=0.5, learning_rate=0.001.....................\n"
     ]
    },
    {
     "name": "stderr",
     "output_type": "stream",
     "text": [
      "C:\\Users\\dell\\anaconda3\\lib\\site-packages\\keras\\optimizer_v2\\optimizer_v2.py:355: UserWarning: The `lr` argument is deprecated, use `learning_rate` instead.\n",
      "  warnings.warn(\n"
     ]
    },
    {
     "name": "stdout",
     "output_type": "stream",
     "text": [
      "[CV 5/5; 11/16] END ...dropout_rate=0.5, learning_rate=0.001; total time=   2.0s\n",
      "[CV 1/5; 12/16] START dropout_rate=0.5, learning_rate=0.0001....................\n"
     ]
    },
    {
     "name": "stderr",
     "output_type": "stream",
     "text": [
      "C:\\Users\\dell\\anaconda3\\lib\\site-packages\\keras\\optimizer_v2\\optimizer_v2.py:355: UserWarning: The `lr` argument is deprecated, use `learning_rate` instead.\n",
      "  warnings.warn(\n"
     ]
    },
    {
     "name": "stdout",
     "output_type": "stream",
     "text": [
      "[CV 1/5; 12/16] END ..dropout_rate=0.5, learning_rate=0.0001; total time=   2.8s\n",
      "[CV 2/5; 12/16] START dropout_rate=0.5, learning_rate=0.0001....................\n"
     ]
    },
    {
     "name": "stderr",
     "output_type": "stream",
     "text": [
      "C:\\Users\\dell\\anaconda3\\lib\\site-packages\\keras\\optimizer_v2\\optimizer_v2.py:355: UserWarning: The `lr` argument is deprecated, use `learning_rate` instead.\n",
      "  warnings.warn(\n"
     ]
    },
    {
     "name": "stdout",
     "output_type": "stream",
     "text": [
      "[CV 2/5; 12/16] END ..dropout_rate=0.5, learning_rate=0.0001; total time=   2.1s\n",
      "[CV 3/5; 12/16] START dropout_rate=0.5, learning_rate=0.0001....................\n"
     ]
    },
    {
     "name": "stderr",
     "output_type": "stream",
     "text": [
      "C:\\Users\\dell\\anaconda3\\lib\\site-packages\\keras\\optimizer_v2\\optimizer_v2.py:355: UserWarning: The `lr` argument is deprecated, use `learning_rate` instead.\n",
      "  warnings.warn(\n"
     ]
    },
    {
     "name": "stdout",
     "output_type": "stream",
     "text": [
      "[CV 3/5; 12/16] END ..dropout_rate=0.5, learning_rate=0.0001; total time=   2.7s\n",
      "[CV 4/5; 12/16] START dropout_rate=0.5, learning_rate=0.0001....................\n"
     ]
    },
    {
     "name": "stderr",
     "output_type": "stream",
     "text": [
      "C:\\Users\\dell\\anaconda3\\lib\\site-packages\\keras\\optimizer_v2\\optimizer_v2.py:355: UserWarning: The `lr` argument is deprecated, use `learning_rate` instead.\n",
      "  warnings.warn(\n"
     ]
    },
    {
     "name": "stdout",
     "output_type": "stream",
     "text": [
      "[CV 4/5; 12/16] END ..dropout_rate=0.5, learning_rate=0.0001; total time=   2.0s\n",
      "[CV 5/5; 12/16] START dropout_rate=0.5, learning_rate=0.0001....................\n"
     ]
    },
    {
     "name": "stderr",
     "output_type": "stream",
     "text": [
      "C:\\Users\\dell\\anaconda3\\lib\\site-packages\\keras\\optimizer_v2\\optimizer_v2.py:355: UserWarning: The `lr` argument is deprecated, use `learning_rate` instead.\n",
      "  warnings.warn(\n"
     ]
    },
    {
     "name": "stdout",
     "output_type": "stream",
     "text": [
      "[CV 5/5; 12/16] END ..dropout_rate=0.5, learning_rate=0.0001; total time=   2.1s\n",
      "[CV 1/5; 13/16] START dropout_rate=0.7, learning_rate=0.1.......................\n"
     ]
    },
    {
     "name": "stderr",
     "output_type": "stream",
     "text": [
      "C:\\Users\\dell\\anaconda3\\lib\\site-packages\\keras\\optimizer_v2\\optimizer_v2.py:355: UserWarning: The `lr` argument is deprecated, use `learning_rate` instead.\n",
      "  warnings.warn(\n"
     ]
    },
    {
     "name": "stdout",
     "output_type": "stream",
     "text": [
      "[CV 1/5; 13/16] END .....dropout_rate=0.7, learning_rate=0.1; total time=   2.0s\n",
      "[CV 2/5; 13/16] START dropout_rate=0.7, learning_rate=0.1.......................\n"
     ]
    },
    {
     "name": "stderr",
     "output_type": "stream",
     "text": [
      "C:\\Users\\dell\\anaconda3\\lib\\site-packages\\keras\\optimizer_v2\\optimizer_v2.py:355: UserWarning: The `lr` argument is deprecated, use `learning_rate` instead.\n",
      "  warnings.warn(\n"
     ]
    },
    {
     "name": "stdout",
     "output_type": "stream",
     "text": [
      "[CV 2/5; 13/16] END .....dropout_rate=0.7, learning_rate=0.1; total time=   1.9s\n",
      "[CV 3/5; 13/16] START dropout_rate=0.7, learning_rate=0.1.......................\n"
     ]
    },
    {
     "name": "stderr",
     "output_type": "stream",
     "text": [
      "C:\\Users\\dell\\anaconda3\\lib\\site-packages\\keras\\optimizer_v2\\optimizer_v2.py:355: UserWarning: The `lr` argument is deprecated, use `learning_rate` instead.\n",
      "  warnings.warn(\n"
     ]
    },
    {
     "name": "stdout",
     "output_type": "stream",
     "text": [
      "[CV 3/5; 13/16] END .....dropout_rate=0.7, learning_rate=0.1; total time=   2.3s\n",
      "[CV 4/5; 13/16] START dropout_rate=0.7, learning_rate=0.1.......................\n"
     ]
    },
    {
     "name": "stderr",
     "output_type": "stream",
     "text": [
      "C:\\Users\\dell\\anaconda3\\lib\\site-packages\\keras\\optimizer_v2\\optimizer_v2.py:355: UserWarning: The `lr` argument is deprecated, use `learning_rate` instead.\n",
      "  warnings.warn(\n"
     ]
    },
    {
     "name": "stdout",
     "output_type": "stream",
     "text": [
      "[CV 4/5; 13/16] END .....dropout_rate=0.7, learning_rate=0.1; total time=   2.6s\n",
      "[CV 5/5; 13/16] START dropout_rate=0.7, learning_rate=0.1.......................\n"
     ]
    },
    {
     "name": "stderr",
     "output_type": "stream",
     "text": [
      "C:\\Users\\dell\\anaconda3\\lib\\site-packages\\keras\\optimizer_v2\\optimizer_v2.py:355: UserWarning: The `lr` argument is deprecated, use `learning_rate` instead.\n",
      "  warnings.warn(\n"
     ]
    },
    {
     "name": "stdout",
     "output_type": "stream",
     "text": [
      "[CV 5/5; 13/16] END .....dropout_rate=0.7, learning_rate=0.1; total time=   2.2s\n",
      "[CV 1/5; 14/16] START dropout_rate=0.7, learning_rate=0.01......................\n"
     ]
    },
    {
     "name": "stderr",
     "output_type": "stream",
     "text": [
      "C:\\Users\\dell\\anaconda3\\lib\\site-packages\\keras\\optimizer_v2\\optimizer_v2.py:355: UserWarning: The `lr` argument is deprecated, use `learning_rate` instead.\n",
      "  warnings.warn(\n"
     ]
    },
    {
     "name": "stdout",
     "output_type": "stream",
     "text": [
      "[CV 1/5; 14/16] END ....dropout_rate=0.7, learning_rate=0.01; total time=   1.8s\n",
      "[CV 2/5; 14/16] START dropout_rate=0.7, learning_rate=0.01......................\n"
     ]
    },
    {
     "name": "stderr",
     "output_type": "stream",
     "text": [
      "C:\\Users\\dell\\anaconda3\\lib\\site-packages\\keras\\optimizer_v2\\optimizer_v2.py:355: UserWarning: The `lr` argument is deprecated, use `learning_rate` instead.\n",
      "  warnings.warn(\n"
     ]
    },
    {
     "name": "stdout",
     "output_type": "stream",
     "text": [
      "[CV 2/5; 14/16] END ....dropout_rate=0.7, learning_rate=0.01; total time=   2.0s\n",
      "[CV 3/5; 14/16] START dropout_rate=0.7, learning_rate=0.01......................\n"
     ]
    },
    {
     "name": "stderr",
     "output_type": "stream",
     "text": [
      "C:\\Users\\dell\\anaconda3\\lib\\site-packages\\keras\\optimizer_v2\\optimizer_v2.py:355: UserWarning: The `lr` argument is deprecated, use `learning_rate` instead.\n",
      "  warnings.warn(\n"
     ]
    },
    {
     "name": "stdout",
     "output_type": "stream",
     "text": [
      "[CV 3/5; 14/16] END ....dropout_rate=0.7, learning_rate=0.01; total time=   2.3s\n",
      "[CV 4/5; 14/16] START dropout_rate=0.7, learning_rate=0.01......................\n"
     ]
    },
    {
     "name": "stderr",
     "output_type": "stream",
     "text": [
      "C:\\Users\\dell\\anaconda3\\lib\\site-packages\\keras\\optimizer_v2\\optimizer_v2.py:355: UserWarning: The `lr` argument is deprecated, use `learning_rate` instead.\n",
      "  warnings.warn(\n"
     ]
    },
    {
     "name": "stdout",
     "output_type": "stream",
     "text": [
      "[CV 4/5; 14/16] END ....dropout_rate=0.7, learning_rate=0.01; total time=   2.2s\n",
      "[CV 5/5; 14/16] START dropout_rate=0.7, learning_rate=0.01......................\n"
     ]
    },
    {
     "name": "stderr",
     "output_type": "stream",
     "text": [
      "C:\\Users\\dell\\anaconda3\\lib\\site-packages\\keras\\optimizer_v2\\optimizer_v2.py:355: UserWarning: The `lr` argument is deprecated, use `learning_rate` instead.\n",
      "  warnings.warn(\n"
     ]
    },
    {
     "name": "stdout",
     "output_type": "stream",
     "text": [
      "[CV 5/5; 14/16] END ....dropout_rate=0.7, learning_rate=0.01; total time=   2.0s\n",
      "[CV 1/5; 15/16] START dropout_rate=0.7, learning_rate=0.001.....................\n"
     ]
    },
    {
     "name": "stderr",
     "output_type": "stream",
     "text": [
      "C:\\Users\\dell\\anaconda3\\lib\\site-packages\\keras\\optimizer_v2\\optimizer_v2.py:355: UserWarning: The `lr` argument is deprecated, use `learning_rate` instead.\n",
      "  warnings.warn(\n"
     ]
    },
    {
     "name": "stdout",
     "output_type": "stream",
     "text": [
      "[CV 1/5; 15/16] END ...dropout_rate=0.7, learning_rate=0.001; total time=   2.1s\n",
      "[CV 2/5; 15/16] START dropout_rate=0.7, learning_rate=0.001.....................\n"
     ]
    },
    {
     "name": "stderr",
     "output_type": "stream",
     "text": [
      "C:\\Users\\dell\\anaconda3\\lib\\site-packages\\keras\\optimizer_v2\\optimizer_v2.py:355: UserWarning: The `lr` argument is deprecated, use `learning_rate` instead.\n",
      "  warnings.warn(\n"
     ]
    },
    {
     "name": "stdout",
     "output_type": "stream",
     "text": [
      "[CV 2/5; 15/16] END ...dropout_rate=0.7, learning_rate=0.001; total time=   2.4s\n",
      "[CV 3/5; 15/16] START dropout_rate=0.7, learning_rate=0.001.....................\n"
     ]
    },
    {
     "name": "stderr",
     "output_type": "stream",
     "text": [
      "C:\\Users\\dell\\anaconda3\\lib\\site-packages\\keras\\optimizer_v2\\optimizer_v2.py:355: UserWarning: The `lr` argument is deprecated, use `learning_rate` instead.\n",
      "  warnings.warn(\n"
     ]
    },
    {
     "name": "stdout",
     "output_type": "stream",
     "text": [
      "[CV 3/5; 15/16] END ...dropout_rate=0.7, learning_rate=0.001; total time=   2.0s\n",
      "[CV 4/5; 15/16] START dropout_rate=0.7, learning_rate=0.001.....................\n"
     ]
    },
    {
     "name": "stderr",
     "output_type": "stream",
     "text": [
      "C:\\Users\\dell\\anaconda3\\lib\\site-packages\\keras\\optimizer_v2\\optimizer_v2.py:355: UserWarning: The `lr` argument is deprecated, use `learning_rate` instead.\n",
      "  warnings.warn(\n"
     ]
    },
    {
     "name": "stdout",
     "output_type": "stream",
     "text": [
      "[CV 4/5; 15/16] END ...dropout_rate=0.7, learning_rate=0.001; total time=   1.9s\n",
      "[CV 5/5; 15/16] START dropout_rate=0.7, learning_rate=0.001.....................\n"
     ]
    },
    {
     "name": "stderr",
     "output_type": "stream",
     "text": [
      "C:\\Users\\dell\\anaconda3\\lib\\site-packages\\keras\\optimizer_v2\\optimizer_v2.py:355: UserWarning: The `lr` argument is deprecated, use `learning_rate` instead.\n",
      "  warnings.warn(\n"
     ]
    },
    {
     "name": "stdout",
     "output_type": "stream",
     "text": [
      "[CV 5/5; 15/16] END ...dropout_rate=0.7, learning_rate=0.001; total time=   2.6s\n",
      "[CV 1/5; 16/16] START dropout_rate=0.7, learning_rate=0.0001....................\n"
     ]
    },
    {
     "name": "stderr",
     "output_type": "stream",
     "text": [
      "C:\\Users\\dell\\anaconda3\\lib\\site-packages\\keras\\optimizer_v2\\optimizer_v2.py:355: UserWarning: The `lr` argument is deprecated, use `learning_rate` instead.\n",
      "  warnings.warn(\n"
     ]
    },
    {
     "name": "stdout",
     "output_type": "stream",
     "text": [
      "[CV 1/5; 16/16] END ..dropout_rate=0.7, learning_rate=0.0001; total time=   2.3s\n",
      "[CV 2/5; 16/16] START dropout_rate=0.7, learning_rate=0.0001....................\n"
     ]
    },
    {
     "name": "stderr",
     "output_type": "stream",
     "text": [
      "C:\\Users\\dell\\anaconda3\\lib\\site-packages\\keras\\optimizer_v2\\optimizer_v2.py:355: UserWarning: The `lr` argument is deprecated, use `learning_rate` instead.\n",
      "  warnings.warn(\n"
     ]
    },
    {
     "name": "stdout",
     "output_type": "stream",
     "text": [
      "[CV 2/5; 16/16] END ..dropout_rate=0.7, learning_rate=0.0001; total time=   2.1s\n",
      "[CV 3/5; 16/16] START dropout_rate=0.7, learning_rate=0.0001....................\n"
     ]
    },
    {
     "name": "stderr",
     "output_type": "stream",
     "text": [
      "C:\\Users\\dell\\anaconda3\\lib\\site-packages\\keras\\optimizer_v2\\optimizer_v2.py:355: UserWarning: The `lr` argument is deprecated, use `learning_rate` instead.\n",
      "  warnings.warn(\n"
     ]
    },
    {
     "name": "stdout",
     "output_type": "stream",
     "text": [
      "[CV 3/5; 16/16] END ..dropout_rate=0.7, learning_rate=0.0001; total time=   2.0s\n",
      "[CV 4/5; 16/16] START dropout_rate=0.7, learning_rate=0.0001....................\n"
     ]
    },
    {
     "name": "stderr",
     "output_type": "stream",
     "text": [
      "C:\\Users\\dell\\anaconda3\\lib\\site-packages\\keras\\optimizer_v2\\optimizer_v2.py:355: UserWarning: The `lr` argument is deprecated, use `learning_rate` instead.\n",
      "  warnings.warn(\n"
     ]
    },
    {
     "name": "stdout",
     "output_type": "stream",
     "text": [
      "[CV 4/5; 16/16] END ..dropout_rate=0.7, learning_rate=0.0001; total time=   2.4s\n",
      "[CV 5/5; 16/16] START dropout_rate=0.7, learning_rate=0.0001....................\n"
     ]
    },
    {
     "name": "stderr",
     "output_type": "stream",
     "text": [
      "C:\\Users\\dell\\anaconda3\\lib\\site-packages\\keras\\optimizer_v2\\optimizer_v2.py:355: UserWarning: The `lr` argument is deprecated, use `learning_rate` instead.\n",
      "  warnings.warn(\n"
     ]
    },
    {
     "name": "stdout",
     "output_type": "stream",
     "text": [
      "[CV 5/5; 16/16] END ..dropout_rate=0.7, learning_rate=0.0001; total time=   2.5s\n"
     ]
    },
    {
     "data": {
      "text/plain": [
       "GridSearchCV(cv=KFold(n_splits=5, random_state=None, shuffle=False),\n",
       "             estimator=<keras.wrappers.scikit_learn.KerasRegressor object at 0x00000214BCF8EAC0>,\n",
       "             param_grid={'dropout_rate': [0.1, 0.2, 0.5, 0.7],\n",
       "                         'learning_rate': [0.1, 0.01, 0.001, 0.0001]},\n",
       "             verbose=10)"
      ]
     },
     "execution_count": 24,
     "metadata": {},
     "output_type": "execute_result"
    }
   ],
   "source": [
    "\n",
    "def create_model(dropout_rate,learning_rate):\n",
    "    model = Sequential()\n",
    "    model.add(Dense(15,input_dim = 28,kernel_initializer = 'uniform', activation = 'relu'))\n",
    "    model.add(Dropout(dropout_rate))\n",
    "    model.add(Dense(10,kernel_initializer = 'uniform', activation = 'relu'))\n",
    "    model.add(Dropout(dropout_rate))\n",
    "    model.add(Dense(1,kernel_initializer = 'uniform', activation = 'sigmoid'))\n",
    "    \n",
    "    adam = Adam(lr = 0.01)\n",
    "    model.compile(loss = 'binary_crossentropy', optimizer = 'adam', metrics = ['accuracy'])\n",
    "    return model\n",
    "\n",
    "model = KerasRegressor(build_fn = create_model,batch_size = 30, epochs = 70, verbose = 0)\n",
    "\n",
    "dropout_rate = [0.1,0.2,0.5,0.7]\n",
    "learning_rate = [0.1,0.01,0.001,0.0001]\n",
    "\n",
    "param_grid = dict(dropout_rate = dropout_rate, learning_rate = learning_rate)\n",
    "\n",
    "grid = GridSearchCV(estimator = model, param_grid = param_grid, cv = KFold(), verbose = 10)\n",
    "grid.fit(x_std,y)"
   ]
  },
  {
   "cell_type": "code",
   "execution_count": 25,
   "id": "ba38ec4f",
   "metadata": {},
   "outputs": [
    {
     "name": "stdout",
     "output_type": "stream",
     "text": [
      "Best: -0.42305895686149597 with: {'dropout_rate': 0.5, 'learning_rate': 0.0001}\n",
      "-0.5550265789031983 0.39329850418336193 with : {'dropout_rate': 0.1, 'learning_rate': 0.1}\n",
      "-0.4568166047334671 0.2767589778063135 with : {'dropout_rate': 0.1, 'learning_rate': 0.01}\n",
      "-0.43387077152729037 0.2995992225102095 with : {'dropout_rate': 0.1, 'learning_rate': 0.001}\n",
      "-0.4379359155893326 0.24536487261222614 with : {'dropout_rate': 0.1, 'learning_rate': 0.0001}\n",
      "-0.47393959015607834 0.2518050030263569 with : {'dropout_rate': 0.2, 'learning_rate': 0.1}\n",
      "-0.4407588243484497 0.23829701201611922 with : {'dropout_rate': 0.2, 'learning_rate': 0.01}\n",
      "-0.5625144951045513 0.3814054072040196 with : {'dropout_rate': 0.2, 'learning_rate': 0.001}\n",
      "-0.503511980175972 0.3607765703514909 with : {'dropout_rate': 0.2, 'learning_rate': 0.0001}\n",
      "-0.45873473286628724 0.18172963027220593 with : {'dropout_rate': 0.5, 'learning_rate': 0.1}\n",
      "-0.49321253299713136 0.22507776599776724 with : {'dropout_rate': 0.5, 'learning_rate': 0.01}\n",
      "-0.4463875964283943 0.1706554230938893 with : {'dropout_rate': 0.5, 'learning_rate': 0.001}\n",
      "-0.42305895686149597 0.16594817343827922 with : {'dropout_rate': 0.5, 'learning_rate': 0.0001}\n",
      "-0.49221631288528445 0.15688163822107853 with : {'dropout_rate': 0.7, 'learning_rate': 0.1}\n",
      "-0.498227122426033 0.16640282699656153 with : {'dropout_rate': 0.7, 'learning_rate': 0.01}\n",
      "-0.5093745231628418 0.13530424572256147 with : {'dropout_rate': 0.7, 'learning_rate': 0.001}\n",
      "-0.5091984659433365 0.1733535732566753 with : {'dropout_rate': 0.7, 'learning_rate': 0.0001}\n"
     ]
    }
   ],
   "source": [
    "print('Best: {} with: {}'.format(grid.best_score_ , grid.best_params_))\n",
    "\n",
    "means = grid.cv_results_['mean_test_score']\n",
    "std = grid.cv_results_['std_test_score']\n",
    "params = grid.cv_results_['params']\n",
    "\n",
    "for mean,stdev,param in zip(means,std,params):\n",
    "       print('{} {} with : {}'.format(mean,stdev,param))"
   ]
  },
  {
   "cell_type": "markdown",
   "id": "9aa4ca3d",
   "metadata": {},
   "source": [
    "##### Tuning for Activation Function and kernel initializer"
   ]
  },
  {
   "cell_type": "code",
   "execution_count": 26,
   "id": "54a47148",
   "metadata": {},
   "outputs": [
    {
     "name": "stdout",
     "output_type": "stream",
     "text": [
      "Fitting 5 folds for each of 15 candidates, totalling 75 fits\n",
      "[CV 1/5; 1/15] START activation_function=relu, init=uniform.....................\n"
     ]
    },
    {
     "name": "stderr",
     "output_type": "stream",
     "text": [
      "C:\\Users\\dell\\anaconda3\\lib\\site-packages\\keras\\optimizer_v2\\optimizer_v2.py:355: UserWarning: The `lr` argument is deprecated, use `learning_rate` instead.\n",
      "  warnings.warn(\n"
     ]
    },
    {
     "name": "stdout",
     "output_type": "stream",
     "text": [
      "[CV 1/5; 1/15] END ...activation_function=relu, init=uniform; total time=   1.9s\n",
      "[CV 2/5; 1/15] START activation_function=relu, init=uniform.....................\n"
     ]
    },
    {
     "name": "stderr",
     "output_type": "stream",
     "text": [
      "C:\\Users\\dell\\anaconda3\\lib\\site-packages\\keras\\optimizer_v2\\optimizer_v2.py:355: UserWarning: The `lr` argument is deprecated, use `learning_rate` instead.\n",
      "  warnings.warn(\n"
     ]
    },
    {
     "name": "stdout",
     "output_type": "stream",
     "text": [
      "[CV 2/5; 1/15] END ...activation_function=relu, init=uniform; total time=   2.0s\n",
      "[CV 3/5; 1/15] START activation_function=relu, init=uniform.....................\n"
     ]
    },
    {
     "name": "stderr",
     "output_type": "stream",
     "text": [
      "C:\\Users\\dell\\anaconda3\\lib\\site-packages\\keras\\optimizer_v2\\optimizer_v2.py:355: UserWarning: The `lr` argument is deprecated, use `learning_rate` instead.\n",
      "  warnings.warn(\n"
     ]
    },
    {
     "name": "stdout",
     "output_type": "stream",
     "text": [
      "[CV 3/5; 1/15] END ...activation_function=relu, init=uniform; total time=   2.1s\n",
      "[CV 4/5; 1/15] START activation_function=relu, init=uniform.....................\n"
     ]
    },
    {
     "name": "stderr",
     "output_type": "stream",
     "text": [
      "C:\\Users\\dell\\anaconda3\\lib\\site-packages\\keras\\optimizer_v2\\optimizer_v2.py:355: UserWarning: The `lr` argument is deprecated, use `learning_rate` instead.\n",
      "  warnings.warn(\n"
     ]
    },
    {
     "name": "stdout",
     "output_type": "stream",
     "text": [
      "[CV 4/5; 1/15] END ...activation_function=relu, init=uniform; total time=   2.2s\n",
      "[CV 5/5; 1/15] START activation_function=relu, init=uniform.....................\n"
     ]
    },
    {
     "name": "stderr",
     "output_type": "stream",
     "text": [
      "C:\\Users\\dell\\anaconda3\\lib\\site-packages\\keras\\optimizer_v2\\optimizer_v2.py:355: UserWarning: The `lr` argument is deprecated, use `learning_rate` instead.\n",
      "  warnings.warn(\n"
     ]
    },
    {
     "name": "stdout",
     "output_type": "stream",
     "text": [
      "[CV 5/5; 1/15] END ...activation_function=relu, init=uniform; total time=   2.0s\n",
      "[CV 1/5; 2/15] START activation_function=relu, init=normal......................\n"
     ]
    },
    {
     "name": "stderr",
     "output_type": "stream",
     "text": [
      "C:\\Users\\dell\\anaconda3\\lib\\site-packages\\keras\\optimizer_v2\\optimizer_v2.py:355: UserWarning: The `lr` argument is deprecated, use `learning_rate` instead.\n",
      "  warnings.warn(\n"
     ]
    },
    {
     "name": "stdout",
     "output_type": "stream",
     "text": [
      "[CV 1/5; 2/15] END ....activation_function=relu, init=normal; total time=   2.0s\n",
      "[CV 2/5; 2/15] START activation_function=relu, init=normal......................\n"
     ]
    },
    {
     "name": "stderr",
     "output_type": "stream",
     "text": [
      "C:\\Users\\dell\\anaconda3\\lib\\site-packages\\keras\\optimizer_v2\\optimizer_v2.py:355: UserWarning: The `lr` argument is deprecated, use `learning_rate` instead.\n",
      "  warnings.warn(\n"
     ]
    },
    {
     "name": "stdout",
     "output_type": "stream",
     "text": [
      "[CV 2/5; 2/15] END ....activation_function=relu, init=normal; total time=   2.3s\n",
      "[CV 3/5; 2/15] START activation_function=relu, init=normal......................\n"
     ]
    },
    {
     "name": "stderr",
     "output_type": "stream",
     "text": [
      "C:\\Users\\dell\\anaconda3\\lib\\site-packages\\keras\\optimizer_v2\\optimizer_v2.py:355: UserWarning: The `lr` argument is deprecated, use `learning_rate` instead.\n",
      "  warnings.warn(\n"
     ]
    },
    {
     "name": "stdout",
     "output_type": "stream",
     "text": [
      "[CV 3/5; 2/15] END ....activation_function=relu, init=normal; total time=   2.3s\n",
      "[CV 4/5; 2/15] START activation_function=relu, init=normal......................\n"
     ]
    },
    {
     "name": "stderr",
     "output_type": "stream",
     "text": [
      "C:\\Users\\dell\\anaconda3\\lib\\site-packages\\keras\\optimizer_v2\\optimizer_v2.py:355: UserWarning: The `lr` argument is deprecated, use `learning_rate` instead.\n",
      "  warnings.warn(\n"
     ]
    },
    {
     "name": "stdout",
     "output_type": "stream",
     "text": [
      "[CV 4/5; 2/15] END ....activation_function=relu, init=normal; total time=   2.2s\n",
      "[CV 5/5; 2/15] START activation_function=relu, init=normal......................\n"
     ]
    },
    {
     "name": "stderr",
     "output_type": "stream",
     "text": [
      "C:\\Users\\dell\\anaconda3\\lib\\site-packages\\keras\\optimizer_v2\\optimizer_v2.py:355: UserWarning: The `lr` argument is deprecated, use `learning_rate` instead.\n",
      "  warnings.warn(\n"
     ]
    },
    {
     "name": "stdout",
     "output_type": "stream",
     "text": [
      "[CV 5/5; 2/15] END ....activation_function=relu, init=normal; total time=   2.0s\n",
      "[CV 1/5; 3/15] START activation_function=relu, init=zero........................\n"
     ]
    },
    {
     "name": "stderr",
     "output_type": "stream",
     "text": [
      "C:\\Users\\dell\\anaconda3\\lib\\site-packages\\keras\\optimizer_v2\\optimizer_v2.py:355: UserWarning: The `lr` argument is deprecated, use `learning_rate` instead.\n",
      "  warnings.warn(\n"
     ]
    },
    {
     "name": "stdout",
     "output_type": "stream",
     "text": [
      "[CV 1/5; 3/15] END ......activation_function=relu, init=zero; total time=   1.9s\n",
      "[CV 2/5; 3/15] START activation_function=relu, init=zero........................\n"
     ]
    },
    {
     "name": "stderr",
     "output_type": "stream",
     "text": [
      "C:\\Users\\dell\\anaconda3\\lib\\site-packages\\keras\\optimizer_v2\\optimizer_v2.py:355: UserWarning: The `lr` argument is deprecated, use `learning_rate` instead.\n",
      "  warnings.warn(\n"
     ]
    },
    {
     "name": "stdout",
     "output_type": "stream",
     "text": [
      "[CV 2/5; 3/15] END ......activation_function=relu, init=zero; total time=   2.0s\n",
      "[CV 3/5; 3/15] START activation_function=relu, init=zero........................\n"
     ]
    },
    {
     "name": "stderr",
     "output_type": "stream",
     "text": [
      "C:\\Users\\dell\\anaconda3\\lib\\site-packages\\keras\\optimizer_v2\\optimizer_v2.py:355: UserWarning: The `lr` argument is deprecated, use `learning_rate` instead.\n",
      "  warnings.warn(\n"
     ]
    },
    {
     "name": "stdout",
     "output_type": "stream",
     "text": [
      "[CV 3/5; 3/15] END ......activation_function=relu, init=zero; total time=   2.2s\n",
      "[CV 4/5; 3/15] START activation_function=relu, init=zero........................\n"
     ]
    },
    {
     "name": "stderr",
     "output_type": "stream",
     "text": [
      "C:\\Users\\dell\\anaconda3\\lib\\site-packages\\keras\\optimizer_v2\\optimizer_v2.py:355: UserWarning: The `lr` argument is deprecated, use `learning_rate` instead.\n",
      "  warnings.warn(\n"
     ]
    },
    {
     "name": "stdout",
     "output_type": "stream",
     "text": [
      "[CV 4/5; 3/15] END ......activation_function=relu, init=zero; total time=   2.4s\n",
      "[CV 5/5; 3/15] START activation_function=relu, init=zero........................\n"
     ]
    },
    {
     "name": "stderr",
     "output_type": "stream",
     "text": [
      "C:\\Users\\dell\\anaconda3\\lib\\site-packages\\keras\\optimizer_v2\\optimizer_v2.py:355: UserWarning: The `lr` argument is deprecated, use `learning_rate` instead.\n",
      "  warnings.warn(\n"
     ]
    },
    {
     "name": "stdout",
     "output_type": "stream",
     "text": [
      "[CV 5/5; 3/15] END ......activation_function=relu, init=zero; total time=   1.9s\n",
      "[CV 1/5; 4/15] START activation_function=maxout, init=uniform...................\n",
      "[CV 1/5; 4/15] END .activation_function=maxout, init=uniform; total time=   0.0s\n",
      "[CV 2/5; 4/15] START activation_function=maxout, init=uniform...................\n",
      "[CV 2/5; 4/15] END .activation_function=maxout, init=uniform; total time=   0.0s\n",
      "[CV 3/5; 4/15] START activation_function=maxout, init=uniform...................\n",
      "[CV 3/5; 4/15] END .activation_function=maxout, init=uniform; total time=   0.0s\n",
      "[CV 4/5; 4/15] START activation_function=maxout, init=uniform...................\n",
      "[CV 4/5; 4/15] END .activation_function=maxout, init=uniform; total time=   0.0s\n",
      "[CV 5/5; 4/15] START activation_function=maxout, init=uniform...................\n",
      "[CV 5/5; 4/15] END .activation_function=maxout, init=uniform; total time=   0.0s\n",
      "[CV 1/5; 5/15] START activation_function=maxout, init=normal....................\n",
      "[CV 1/5; 5/15] END ..activation_function=maxout, init=normal; total time=   0.0s\n",
      "[CV 2/5; 5/15] START activation_function=maxout, init=normal....................\n",
      "[CV 2/5; 5/15] END ..activation_function=maxout, init=normal; total time=   0.0s\n",
      "[CV 3/5; 5/15] START activation_function=maxout, init=normal....................\n",
      "[CV 3/5; 5/15] END ..activation_function=maxout, init=normal; total time=   0.0s\n",
      "[CV 4/5; 5/15] START activation_function=maxout, init=normal....................\n",
      "[CV 4/5; 5/15] END ..activation_function=maxout, init=normal; total time=   0.0s\n",
      "[CV 5/5; 5/15] START activation_function=maxout, init=normal....................\n",
      "[CV 5/5; 5/15] END ..activation_function=maxout, init=normal; total time=   0.0s\n",
      "[CV 1/5; 6/15] START activation_function=maxout, init=zero......................\n",
      "[CV 1/5; 6/15] END ....activation_function=maxout, init=zero; total time=   0.0s\n",
      "[CV 2/5; 6/15] START activation_function=maxout, init=zero......................\n",
      "[CV 2/5; 6/15] END ....activation_function=maxout, init=zero; total time=   0.0s\n",
      "[CV 3/5; 6/15] START activation_function=maxout, init=zero......................\n",
      "[CV 3/5; 6/15] END ....activation_function=maxout, init=zero; total time=   0.0s\n",
      "[CV 4/5; 6/15] START activation_function=maxout, init=zero......................\n",
      "[CV 4/5; 6/15] END ....activation_function=maxout, init=zero; total time=   0.0s\n",
      "[CV 5/5; 6/15] START activation_function=maxout, init=zero......................\n",
      "[CV 5/5; 6/15] END ....activation_function=maxout, init=zero; total time=   0.0s\n",
      "[CV 1/5; 7/15] START activation_function=elu, init=uniform......................\n"
     ]
    },
    {
     "name": "stderr",
     "output_type": "stream",
     "text": [
      "C:\\Users\\dell\\anaconda3\\lib\\site-packages\\sklearn\\model_selection\\_validation.py:610: FitFailedWarning: Estimator fit failed. The score on this train-test partition for these parameters will be set to nan. Details: \n",
      "Traceback (most recent call last):\n",
      "  File \"C:\\Users\\dell\\anaconda3\\lib\\site-packages\\sklearn\\model_selection\\_validation.py\", line 593, in _fit_and_score\n",
      "    estimator.fit(X_train, y_train, **fit_params)\n",
      "  File \"C:\\Users\\dell\\anaconda3\\lib\\site-packages\\keras\\wrappers\\scikit_learn.py\", line 153, in fit\n",
      "    self.model = self.build_fn(**self.filter_sk_params(self.build_fn))\n",
      "  File \"<ipython-input-26-7d4f5e78d2b7>\", line 3, in create_model\n",
      "    model.add(Dense(15,input_dim = 28,kernel_initializer = init, activation = activation_function))\n",
      "  File \"C:\\Users\\dell\\anaconda3\\lib\\site-packages\\keras\\layers\\core.py\", line 1154, in __init__\n",
      "    self.activation = activations.get(activation)\n",
      "  File \"C:\\Users\\dell\\anaconda3\\lib\\site-packages\\tensorflow\\python\\util\\dispatch.py\", line 206, in wrapper\n",
      "    return target(*args, **kwargs)\n",
      "  File \"C:\\Users\\dell\\anaconda3\\lib\\site-packages\\keras\\activations.py\", line 596, in get\n",
      "    return deserialize(identifier)\n",
      "  File \"C:\\Users\\dell\\anaconda3\\lib\\site-packages\\tensorflow\\python\\util\\dispatch.py\", line 206, in wrapper\n",
      "    return target(*args, **kwargs)\n",
      "  File \"C:\\Users\\dell\\anaconda3\\lib\\site-packages\\keras\\activations.py\", line 555, in deserialize\n",
      "    return deserialize_keras_object(\n",
      "  File \"C:\\Users\\dell\\anaconda3\\lib\\site-packages\\keras\\utils\\generic_utils.py\", line 704, in deserialize_keras_object\n",
      "    raise ValueError(\n",
      "ValueError: Unknown activation function: maxout. Please ensure this object is passed to the `custom_objects` argument. See https://www.tensorflow.org/guide/keras/save_and_serialize#registering_the_custom_object for details.\n",
      "\n",
      "  warnings.warn(\"Estimator fit failed. The score on this train-test\"\n",
      "C:\\Users\\dell\\anaconda3\\lib\\site-packages\\sklearn\\model_selection\\_validation.py:610: FitFailedWarning: Estimator fit failed. The score on this train-test partition for these parameters will be set to nan. Details: \n",
      "Traceback (most recent call last):\n",
      "  File \"C:\\Users\\dell\\anaconda3\\lib\\site-packages\\sklearn\\model_selection\\_validation.py\", line 593, in _fit_and_score\n",
      "    estimator.fit(X_train, y_train, **fit_params)\n",
      "  File \"C:\\Users\\dell\\anaconda3\\lib\\site-packages\\keras\\wrappers\\scikit_learn.py\", line 153, in fit\n",
      "    self.model = self.build_fn(**self.filter_sk_params(self.build_fn))\n",
      "  File \"<ipython-input-26-7d4f5e78d2b7>\", line 3, in create_model\n",
      "    model.add(Dense(15,input_dim = 28,kernel_initializer = init, activation = activation_function))\n",
      "  File \"C:\\Users\\dell\\anaconda3\\lib\\site-packages\\keras\\layers\\core.py\", line 1154, in __init__\n",
      "    self.activation = activations.get(activation)\n",
      "  File \"C:\\Users\\dell\\anaconda3\\lib\\site-packages\\tensorflow\\python\\util\\dispatch.py\", line 206, in wrapper\n",
      "    return target(*args, **kwargs)\n",
      "  File \"C:\\Users\\dell\\anaconda3\\lib\\site-packages\\keras\\activations.py\", line 596, in get\n",
      "    return deserialize(identifier)\n",
      "  File \"C:\\Users\\dell\\anaconda3\\lib\\site-packages\\tensorflow\\python\\util\\dispatch.py\", line 206, in wrapper\n",
      "    return target(*args, **kwargs)\n",
      "  File \"C:\\Users\\dell\\anaconda3\\lib\\site-packages\\keras\\activations.py\", line 555, in deserialize\n",
      "    return deserialize_keras_object(\n",
      "  File \"C:\\Users\\dell\\anaconda3\\lib\\site-packages\\keras\\utils\\generic_utils.py\", line 704, in deserialize_keras_object\n",
      "    raise ValueError(\n",
      "ValueError: Unknown activation function: maxout. Please ensure this object is passed to the `custom_objects` argument. See https://www.tensorflow.org/guide/keras/save_and_serialize#registering_the_custom_object for details.\n",
      "\n",
      "  warnings.warn(\"Estimator fit failed. The score on this train-test\"\n",
      "C:\\Users\\dell\\anaconda3\\lib\\site-packages\\sklearn\\model_selection\\_validation.py:610: FitFailedWarning: Estimator fit failed. The score on this train-test partition for these parameters will be set to nan. Details: \n",
      "Traceback (most recent call last):\n",
      "  File \"C:\\Users\\dell\\anaconda3\\lib\\site-packages\\sklearn\\model_selection\\_validation.py\", line 593, in _fit_and_score\n",
      "    estimator.fit(X_train, y_train, **fit_params)\n",
      "  File \"C:\\Users\\dell\\anaconda3\\lib\\site-packages\\keras\\wrappers\\scikit_learn.py\", line 153, in fit\n",
      "    self.model = self.build_fn(**self.filter_sk_params(self.build_fn))\n",
      "  File \"<ipython-input-26-7d4f5e78d2b7>\", line 3, in create_model\n",
      "    model.add(Dense(15,input_dim = 28,kernel_initializer = init, activation = activation_function))\n",
      "  File \"C:\\Users\\dell\\anaconda3\\lib\\site-packages\\keras\\layers\\core.py\", line 1154, in __init__\n",
      "    self.activation = activations.get(activation)\n",
      "  File \"C:\\Users\\dell\\anaconda3\\lib\\site-packages\\tensorflow\\python\\util\\dispatch.py\", line 206, in wrapper\n",
      "    return target(*args, **kwargs)\n",
      "  File \"C:\\Users\\dell\\anaconda3\\lib\\site-packages\\keras\\activations.py\", line 596, in get\n",
      "    return deserialize(identifier)\n",
      "  File \"C:\\Users\\dell\\anaconda3\\lib\\site-packages\\tensorflow\\python\\util\\dispatch.py\", line 206, in wrapper\n",
      "    return target(*args, **kwargs)\n",
      "  File \"C:\\Users\\dell\\anaconda3\\lib\\site-packages\\keras\\activations.py\", line 555, in deserialize\n",
      "    return deserialize_keras_object(\n",
      "  File \"C:\\Users\\dell\\anaconda3\\lib\\site-packages\\keras\\utils\\generic_utils.py\", line 704, in deserialize_keras_object\n",
      "    raise ValueError(\n",
      "ValueError: Unknown activation function: maxout. Please ensure this object is passed to the `custom_objects` argument. See https://www.tensorflow.org/guide/keras/save_and_serialize#registering_the_custom_object for details.\n",
      "\n",
      "  warnings.warn(\"Estimator fit failed. The score on this train-test\"\n",
      "C:\\Users\\dell\\anaconda3\\lib\\site-packages\\sklearn\\model_selection\\_validation.py:610: FitFailedWarning: Estimator fit failed. The score on this train-test partition for these parameters will be set to nan. Details: \n",
      "Traceback (most recent call last):\n",
      "  File \"C:\\Users\\dell\\anaconda3\\lib\\site-packages\\sklearn\\model_selection\\_validation.py\", line 593, in _fit_and_score\n",
      "    estimator.fit(X_train, y_train, **fit_params)\n",
      "  File \"C:\\Users\\dell\\anaconda3\\lib\\site-packages\\keras\\wrappers\\scikit_learn.py\", line 153, in fit\n",
      "    self.model = self.build_fn(**self.filter_sk_params(self.build_fn))\n",
      "  File \"<ipython-input-26-7d4f5e78d2b7>\", line 3, in create_model\n",
      "    model.add(Dense(15,input_dim = 28,kernel_initializer = init, activation = activation_function))\n",
      "  File \"C:\\Users\\dell\\anaconda3\\lib\\site-packages\\keras\\layers\\core.py\", line 1154, in __init__\n",
      "    self.activation = activations.get(activation)\n",
      "  File \"C:\\Users\\dell\\anaconda3\\lib\\site-packages\\tensorflow\\python\\util\\dispatch.py\", line 206, in wrapper\n",
      "    return target(*args, **kwargs)\n",
      "  File \"C:\\Users\\dell\\anaconda3\\lib\\site-packages\\keras\\activations.py\", line 596, in get\n",
      "    return deserialize(identifier)\n",
      "  File \"C:\\Users\\dell\\anaconda3\\lib\\site-packages\\tensorflow\\python\\util\\dispatch.py\", line 206, in wrapper\n",
      "    return target(*args, **kwargs)\n",
      "  File \"C:\\Users\\dell\\anaconda3\\lib\\site-packages\\keras\\activations.py\", line 555, in deserialize\n",
      "    return deserialize_keras_object(\n",
      "  File \"C:\\Users\\dell\\anaconda3\\lib\\site-packages\\keras\\utils\\generic_utils.py\", line 704, in deserialize_keras_object\n",
      "    raise ValueError(\n",
      "ValueError: Unknown activation function: maxout. Please ensure this object is passed to the `custom_objects` argument. See https://www.tensorflow.org/guide/keras/save_and_serialize#registering_the_custom_object for details.\n",
      "\n",
      "  warnings.warn(\"Estimator fit failed. The score on this train-test\"\n",
      "C:\\Users\\dell\\anaconda3\\lib\\site-packages\\sklearn\\model_selection\\_validation.py:610: FitFailedWarning: Estimator fit failed. The score on this train-test partition for these parameters will be set to nan. Details: \n",
      "Traceback (most recent call last):\n",
      "  File \"C:\\Users\\dell\\anaconda3\\lib\\site-packages\\sklearn\\model_selection\\_validation.py\", line 593, in _fit_and_score\n",
      "    estimator.fit(X_train, y_train, **fit_params)\n",
      "  File \"C:\\Users\\dell\\anaconda3\\lib\\site-packages\\keras\\wrappers\\scikit_learn.py\", line 153, in fit\n",
      "    self.model = self.build_fn(**self.filter_sk_params(self.build_fn))\n",
      "  File \"<ipython-input-26-7d4f5e78d2b7>\", line 3, in create_model\n",
      "    model.add(Dense(15,input_dim = 28,kernel_initializer = init, activation = activation_function))\n",
      "  File \"C:\\Users\\dell\\anaconda3\\lib\\site-packages\\keras\\layers\\core.py\", line 1154, in __init__\n",
      "    self.activation = activations.get(activation)\n",
      "  File \"C:\\Users\\dell\\anaconda3\\lib\\site-packages\\tensorflow\\python\\util\\dispatch.py\", line 206, in wrapper\n",
      "    return target(*args, **kwargs)\n",
      "  File \"C:\\Users\\dell\\anaconda3\\lib\\site-packages\\keras\\activations.py\", line 596, in get\n",
      "    return deserialize(identifier)\n",
      "  File \"C:\\Users\\dell\\anaconda3\\lib\\site-packages\\tensorflow\\python\\util\\dispatch.py\", line 206, in wrapper\n",
      "    return target(*args, **kwargs)\n",
      "  File \"C:\\Users\\dell\\anaconda3\\lib\\site-packages\\keras\\activations.py\", line 555, in deserialize\n",
      "    return deserialize_keras_object(\n",
      "  File \"C:\\Users\\dell\\anaconda3\\lib\\site-packages\\keras\\utils\\generic_utils.py\", line 704, in deserialize_keras_object\n",
      "    raise ValueError(\n",
      "ValueError: Unknown activation function: maxout. Please ensure this object is passed to the `custom_objects` argument. See https://www.tensorflow.org/guide/keras/save_and_serialize#registering_the_custom_object for details.\n",
      "\n",
      "  warnings.warn(\"Estimator fit failed. The score on this train-test\"\n",
      "C:\\Users\\dell\\anaconda3\\lib\\site-packages\\sklearn\\model_selection\\_validation.py:610: FitFailedWarning: Estimator fit failed. The score on this train-test partition for these parameters will be set to nan. Details: \n",
      "Traceback (most recent call last):\n",
      "  File \"C:\\Users\\dell\\anaconda3\\lib\\site-packages\\sklearn\\model_selection\\_validation.py\", line 593, in _fit_and_score\n",
      "    estimator.fit(X_train, y_train, **fit_params)\n",
      "  File \"C:\\Users\\dell\\anaconda3\\lib\\site-packages\\keras\\wrappers\\scikit_learn.py\", line 153, in fit\n",
      "    self.model = self.build_fn(**self.filter_sk_params(self.build_fn))\n",
      "  File \"<ipython-input-26-7d4f5e78d2b7>\", line 3, in create_model\n",
      "    model.add(Dense(15,input_dim = 28,kernel_initializer = init, activation = activation_function))\n",
      "  File \"C:\\Users\\dell\\anaconda3\\lib\\site-packages\\keras\\layers\\core.py\", line 1154, in __init__\n",
      "    self.activation = activations.get(activation)\n",
      "  File \"C:\\Users\\dell\\anaconda3\\lib\\site-packages\\tensorflow\\python\\util\\dispatch.py\", line 206, in wrapper\n",
      "    return target(*args, **kwargs)\n",
      "  File \"C:\\Users\\dell\\anaconda3\\lib\\site-packages\\keras\\activations.py\", line 596, in get\n",
      "    return deserialize(identifier)\n",
      "  File \"C:\\Users\\dell\\anaconda3\\lib\\site-packages\\tensorflow\\python\\util\\dispatch.py\", line 206, in wrapper\n",
      "    return target(*args, **kwargs)\n",
      "  File \"C:\\Users\\dell\\anaconda3\\lib\\site-packages\\keras\\activations.py\", line 555, in deserialize\n",
      "    return deserialize_keras_object(\n",
      "  File \"C:\\Users\\dell\\anaconda3\\lib\\site-packages\\keras\\utils\\generic_utils.py\", line 704, in deserialize_keras_object\n",
      "    raise ValueError(\n",
      "ValueError: Unknown activation function: maxout. Please ensure this object is passed to the `custom_objects` argument. See https://www.tensorflow.org/guide/keras/save_and_serialize#registering_the_custom_object for details.\n",
      "\n",
      "  warnings.warn(\"Estimator fit failed. The score on this train-test\"\n",
      "C:\\Users\\dell\\anaconda3\\lib\\site-packages\\sklearn\\model_selection\\_validation.py:610: FitFailedWarning: Estimator fit failed. The score on this train-test partition for these parameters will be set to nan. Details: \n",
      "Traceback (most recent call last):\n",
      "  File \"C:\\Users\\dell\\anaconda3\\lib\\site-packages\\sklearn\\model_selection\\_validation.py\", line 593, in _fit_and_score\n",
      "    estimator.fit(X_train, y_train, **fit_params)\n",
      "  File \"C:\\Users\\dell\\anaconda3\\lib\\site-packages\\keras\\wrappers\\scikit_learn.py\", line 153, in fit\n",
      "    self.model = self.build_fn(**self.filter_sk_params(self.build_fn))\n",
      "  File \"<ipython-input-26-7d4f5e78d2b7>\", line 3, in create_model\n",
      "    model.add(Dense(15,input_dim = 28,kernel_initializer = init, activation = activation_function))\n",
      "  File \"C:\\Users\\dell\\anaconda3\\lib\\site-packages\\keras\\layers\\core.py\", line 1154, in __init__\n",
      "    self.activation = activations.get(activation)\n",
      "  File \"C:\\Users\\dell\\anaconda3\\lib\\site-packages\\tensorflow\\python\\util\\dispatch.py\", line 206, in wrapper\n",
      "    return target(*args, **kwargs)\n",
      "  File \"C:\\Users\\dell\\anaconda3\\lib\\site-packages\\keras\\activations.py\", line 596, in get\n",
      "    return deserialize(identifier)\n",
      "  File \"C:\\Users\\dell\\anaconda3\\lib\\site-packages\\tensorflow\\python\\util\\dispatch.py\", line 206, in wrapper\n",
      "    return target(*args, **kwargs)\n",
      "  File \"C:\\Users\\dell\\anaconda3\\lib\\site-packages\\keras\\activations.py\", line 555, in deserialize\n",
      "    return deserialize_keras_object(\n",
      "  File \"C:\\Users\\dell\\anaconda3\\lib\\site-packages\\keras\\utils\\generic_utils.py\", line 704, in deserialize_keras_object\n",
      "    raise ValueError(\n",
      "ValueError: Unknown activation function: maxout. Please ensure this object is passed to the `custom_objects` argument. See https://www.tensorflow.org/guide/keras/save_and_serialize#registering_the_custom_object for details.\n",
      "\n",
      "  warnings.warn(\"Estimator fit failed. The score on this train-test\"\n",
      "C:\\Users\\dell\\anaconda3\\lib\\site-packages\\sklearn\\model_selection\\_validation.py:610: FitFailedWarning: Estimator fit failed. The score on this train-test partition for these parameters will be set to nan. Details: \n",
      "Traceback (most recent call last):\n",
      "  File \"C:\\Users\\dell\\anaconda3\\lib\\site-packages\\sklearn\\model_selection\\_validation.py\", line 593, in _fit_and_score\n",
      "    estimator.fit(X_train, y_train, **fit_params)\n",
      "  File \"C:\\Users\\dell\\anaconda3\\lib\\site-packages\\keras\\wrappers\\scikit_learn.py\", line 153, in fit\n",
      "    self.model = self.build_fn(**self.filter_sk_params(self.build_fn))\n",
      "  File \"<ipython-input-26-7d4f5e78d2b7>\", line 3, in create_model\n",
      "    model.add(Dense(15,input_dim = 28,kernel_initializer = init, activation = activation_function))\n",
      "  File \"C:\\Users\\dell\\anaconda3\\lib\\site-packages\\keras\\layers\\core.py\", line 1154, in __init__\n",
      "    self.activation = activations.get(activation)\n",
      "  File \"C:\\Users\\dell\\anaconda3\\lib\\site-packages\\tensorflow\\python\\util\\dispatch.py\", line 206, in wrapper\n",
      "    return target(*args, **kwargs)\n",
      "  File \"C:\\Users\\dell\\anaconda3\\lib\\site-packages\\keras\\activations.py\", line 596, in get\n",
      "    return deserialize(identifier)\n",
      "  File \"C:\\Users\\dell\\anaconda3\\lib\\site-packages\\tensorflow\\python\\util\\dispatch.py\", line 206, in wrapper\n",
      "    return target(*args, **kwargs)\n",
      "  File \"C:\\Users\\dell\\anaconda3\\lib\\site-packages\\keras\\activations.py\", line 555, in deserialize\n",
      "    return deserialize_keras_object(\n",
      "  File \"C:\\Users\\dell\\anaconda3\\lib\\site-packages\\keras\\utils\\generic_utils.py\", line 704, in deserialize_keras_object\n",
      "    raise ValueError(\n",
      "ValueError: Unknown activation function: maxout. Please ensure this object is passed to the `custom_objects` argument. See https://www.tensorflow.org/guide/keras/save_and_serialize#registering_the_custom_object for details.\n",
      "\n",
      "  warnings.warn(\"Estimator fit failed. The score on this train-test\"\n",
      "C:\\Users\\dell\\anaconda3\\lib\\site-packages\\sklearn\\model_selection\\_validation.py:610: FitFailedWarning: Estimator fit failed. The score on this train-test partition for these parameters will be set to nan. Details: \n",
      "Traceback (most recent call last):\n",
      "  File \"C:\\Users\\dell\\anaconda3\\lib\\site-packages\\sklearn\\model_selection\\_validation.py\", line 593, in _fit_and_score\n",
      "    estimator.fit(X_train, y_train, **fit_params)\n",
      "  File \"C:\\Users\\dell\\anaconda3\\lib\\site-packages\\keras\\wrappers\\scikit_learn.py\", line 153, in fit\n",
      "    self.model = self.build_fn(**self.filter_sk_params(self.build_fn))\n",
      "  File \"<ipython-input-26-7d4f5e78d2b7>\", line 3, in create_model\n",
      "    model.add(Dense(15,input_dim = 28,kernel_initializer = init, activation = activation_function))\n",
      "  File \"C:\\Users\\dell\\anaconda3\\lib\\site-packages\\keras\\layers\\core.py\", line 1154, in __init__\n",
      "    self.activation = activations.get(activation)\n",
      "  File \"C:\\Users\\dell\\anaconda3\\lib\\site-packages\\tensorflow\\python\\util\\dispatch.py\", line 206, in wrapper\n",
      "    return target(*args, **kwargs)\n",
      "  File \"C:\\Users\\dell\\anaconda3\\lib\\site-packages\\keras\\activations.py\", line 596, in get\n",
      "    return deserialize(identifier)\n",
      "  File \"C:\\Users\\dell\\anaconda3\\lib\\site-packages\\tensorflow\\python\\util\\dispatch.py\", line 206, in wrapper\n",
      "    return target(*args, **kwargs)\n",
      "  File \"C:\\Users\\dell\\anaconda3\\lib\\site-packages\\keras\\activations.py\", line 555, in deserialize\n",
      "    return deserialize_keras_object(\n",
      "  File \"C:\\Users\\dell\\anaconda3\\lib\\site-packages\\keras\\utils\\generic_utils.py\", line 704, in deserialize_keras_object\n",
      "    raise ValueError(\n",
      "ValueError: Unknown activation function: maxout. Please ensure this object is passed to the `custom_objects` argument. See https://www.tensorflow.org/guide/keras/save_and_serialize#registering_the_custom_object for details.\n",
      "\n",
      "  warnings.warn(\"Estimator fit failed. The score on this train-test\"\n",
      "C:\\Users\\dell\\anaconda3\\lib\\site-packages\\sklearn\\model_selection\\_validation.py:610: FitFailedWarning: Estimator fit failed. The score on this train-test partition for these parameters will be set to nan. Details: \n",
      "Traceback (most recent call last):\n",
      "  File \"C:\\Users\\dell\\anaconda3\\lib\\site-packages\\sklearn\\model_selection\\_validation.py\", line 593, in _fit_and_score\n",
      "    estimator.fit(X_train, y_train, **fit_params)\n",
      "  File \"C:\\Users\\dell\\anaconda3\\lib\\site-packages\\keras\\wrappers\\scikit_learn.py\", line 153, in fit\n",
      "    self.model = self.build_fn(**self.filter_sk_params(self.build_fn))\n",
      "  File \"<ipython-input-26-7d4f5e78d2b7>\", line 3, in create_model\n",
      "    model.add(Dense(15,input_dim = 28,kernel_initializer = init, activation = activation_function))\n",
      "  File \"C:\\Users\\dell\\anaconda3\\lib\\site-packages\\keras\\layers\\core.py\", line 1154, in __init__\n",
      "    self.activation = activations.get(activation)\n",
      "  File \"C:\\Users\\dell\\anaconda3\\lib\\site-packages\\tensorflow\\python\\util\\dispatch.py\", line 206, in wrapper\n",
      "    return target(*args, **kwargs)\n",
      "  File \"C:\\Users\\dell\\anaconda3\\lib\\site-packages\\keras\\activations.py\", line 596, in get\n",
      "    return deserialize(identifier)\n",
      "  File \"C:\\Users\\dell\\anaconda3\\lib\\site-packages\\tensorflow\\python\\util\\dispatch.py\", line 206, in wrapper\n",
      "    return target(*args, **kwargs)\n",
      "  File \"C:\\Users\\dell\\anaconda3\\lib\\site-packages\\keras\\activations.py\", line 555, in deserialize\n",
      "    return deserialize_keras_object(\n",
      "  File \"C:\\Users\\dell\\anaconda3\\lib\\site-packages\\keras\\utils\\generic_utils.py\", line 704, in deserialize_keras_object\n",
      "    raise ValueError(\n",
      "ValueError: Unknown activation function: maxout. Please ensure this object is passed to the `custom_objects` argument. See https://www.tensorflow.org/guide/keras/save_and_serialize#registering_the_custom_object for details.\n",
      "\n",
      "  warnings.warn(\"Estimator fit failed. The score on this train-test\"\n",
      "C:\\Users\\dell\\anaconda3\\lib\\site-packages\\sklearn\\model_selection\\_validation.py:610: FitFailedWarning: Estimator fit failed. The score on this train-test partition for these parameters will be set to nan. Details: \n",
      "Traceback (most recent call last):\n",
      "  File \"C:\\Users\\dell\\anaconda3\\lib\\site-packages\\sklearn\\model_selection\\_validation.py\", line 593, in _fit_and_score\n",
      "    estimator.fit(X_train, y_train, **fit_params)\n",
      "  File \"C:\\Users\\dell\\anaconda3\\lib\\site-packages\\keras\\wrappers\\scikit_learn.py\", line 153, in fit\n",
      "    self.model = self.build_fn(**self.filter_sk_params(self.build_fn))\n",
      "  File \"<ipython-input-26-7d4f5e78d2b7>\", line 3, in create_model\n",
      "    model.add(Dense(15,input_dim = 28,kernel_initializer = init, activation = activation_function))\n",
      "  File \"C:\\Users\\dell\\anaconda3\\lib\\site-packages\\keras\\layers\\core.py\", line 1154, in __init__\n",
      "    self.activation = activations.get(activation)\n",
      "  File \"C:\\Users\\dell\\anaconda3\\lib\\site-packages\\tensorflow\\python\\util\\dispatch.py\", line 206, in wrapper\n",
      "    return target(*args, **kwargs)\n",
      "  File \"C:\\Users\\dell\\anaconda3\\lib\\site-packages\\keras\\activations.py\", line 596, in get\n",
      "    return deserialize(identifier)\n",
      "  File \"C:\\Users\\dell\\anaconda3\\lib\\site-packages\\tensorflow\\python\\util\\dispatch.py\", line 206, in wrapper\n",
      "    return target(*args, **kwargs)\n",
      "  File \"C:\\Users\\dell\\anaconda3\\lib\\site-packages\\keras\\activations.py\", line 555, in deserialize\n",
      "    return deserialize_keras_object(\n",
      "  File \"C:\\Users\\dell\\anaconda3\\lib\\site-packages\\keras\\utils\\generic_utils.py\", line 704, in deserialize_keras_object\n",
      "    raise ValueError(\n",
      "ValueError: Unknown activation function: maxout. Please ensure this object is passed to the `custom_objects` argument. See https://www.tensorflow.org/guide/keras/save_and_serialize#registering_the_custom_object for details.\n",
      "\n",
      "  warnings.warn(\"Estimator fit failed. The score on this train-test\"\n",
      "C:\\Users\\dell\\anaconda3\\lib\\site-packages\\sklearn\\model_selection\\_validation.py:610: FitFailedWarning: Estimator fit failed. The score on this train-test partition for these parameters will be set to nan. Details: \n",
      "Traceback (most recent call last):\n",
      "  File \"C:\\Users\\dell\\anaconda3\\lib\\site-packages\\sklearn\\model_selection\\_validation.py\", line 593, in _fit_and_score\n",
      "    estimator.fit(X_train, y_train, **fit_params)\n",
      "  File \"C:\\Users\\dell\\anaconda3\\lib\\site-packages\\keras\\wrappers\\scikit_learn.py\", line 153, in fit\n",
      "    self.model = self.build_fn(**self.filter_sk_params(self.build_fn))\n",
      "  File \"<ipython-input-26-7d4f5e78d2b7>\", line 3, in create_model\n",
      "    model.add(Dense(15,input_dim = 28,kernel_initializer = init, activation = activation_function))\n",
      "  File \"C:\\Users\\dell\\anaconda3\\lib\\site-packages\\keras\\layers\\core.py\", line 1154, in __init__\n",
      "    self.activation = activations.get(activation)\n",
      "  File \"C:\\Users\\dell\\anaconda3\\lib\\site-packages\\tensorflow\\python\\util\\dispatch.py\", line 206, in wrapper\n",
      "    return target(*args, **kwargs)\n",
      "  File \"C:\\Users\\dell\\anaconda3\\lib\\site-packages\\keras\\activations.py\", line 596, in get\n",
      "    return deserialize(identifier)\n",
      "  File \"C:\\Users\\dell\\anaconda3\\lib\\site-packages\\tensorflow\\python\\util\\dispatch.py\", line 206, in wrapper\n",
      "    return target(*args, **kwargs)\n",
      "  File \"C:\\Users\\dell\\anaconda3\\lib\\site-packages\\keras\\activations.py\", line 555, in deserialize\n",
      "    return deserialize_keras_object(\n",
      "  File \"C:\\Users\\dell\\anaconda3\\lib\\site-packages\\keras\\utils\\generic_utils.py\", line 704, in deserialize_keras_object\n",
      "    raise ValueError(\n",
      "ValueError: Unknown activation function: maxout. Please ensure this object is passed to the `custom_objects` argument. See https://www.tensorflow.org/guide/keras/save_and_serialize#registering_the_custom_object for details.\n",
      "\n",
      "  warnings.warn(\"Estimator fit failed. The score on this train-test\"\n",
      "C:\\Users\\dell\\anaconda3\\lib\\site-packages\\sklearn\\model_selection\\_validation.py:610: FitFailedWarning: Estimator fit failed. The score on this train-test partition for these parameters will be set to nan. Details: \n",
      "Traceback (most recent call last):\n",
      "  File \"C:\\Users\\dell\\anaconda3\\lib\\site-packages\\sklearn\\model_selection\\_validation.py\", line 593, in _fit_and_score\n",
      "    estimator.fit(X_train, y_train, **fit_params)\n",
      "  File \"C:\\Users\\dell\\anaconda3\\lib\\site-packages\\keras\\wrappers\\scikit_learn.py\", line 153, in fit\n",
      "    self.model = self.build_fn(**self.filter_sk_params(self.build_fn))\n",
      "  File \"<ipython-input-26-7d4f5e78d2b7>\", line 3, in create_model\n",
      "    model.add(Dense(15,input_dim = 28,kernel_initializer = init, activation = activation_function))\n",
      "  File \"C:\\Users\\dell\\anaconda3\\lib\\site-packages\\keras\\layers\\core.py\", line 1154, in __init__\n",
      "    self.activation = activations.get(activation)\n",
      "  File \"C:\\Users\\dell\\anaconda3\\lib\\site-packages\\tensorflow\\python\\util\\dispatch.py\", line 206, in wrapper\n",
      "    return target(*args, **kwargs)\n",
      "  File \"C:\\Users\\dell\\anaconda3\\lib\\site-packages\\keras\\activations.py\", line 596, in get\n",
      "    return deserialize(identifier)\n",
      "  File \"C:\\Users\\dell\\anaconda3\\lib\\site-packages\\tensorflow\\python\\util\\dispatch.py\", line 206, in wrapper\n",
      "    return target(*args, **kwargs)\n",
      "  File \"C:\\Users\\dell\\anaconda3\\lib\\site-packages\\keras\\activations.py\", line 555, in deserialize\n",
      "    return deserialize_keras_object(\n",
      "  File \"C:\\Users\\dell\\anaconda3\\lib\\site-packages\\keras\\utils\\generic_utils.py\", line 704, in deserialize_keras_object\n",
      "    raise ValueError(\n",
      "ValueError: Unknown activation function: maxout. Please ensure this object is passed to the `custom_objects` argument. See https://www.tensorflow.org/guide/keras/save_and_serialize#registering_the_custom_object for details.\n",
      "\n",
      "  warnings.warn(\"Estimator fit failed. The score on this train-test\"\n",
      "C:\\Users\\dell\\anaconda3\\lib\\site-packages\\sklearn\\model_selection\\_validation.py:610: FitFailedWarning: Estimator fit failed. The score on this train-test partition for these parameters will be set to nan. Details: \n",
      "Traceback (most recent call last):\n",
      "  File \"C:\\Users\\dell\\anaconda3\\lib\\site-packages\\sklearn\\model_selection\\_validation.py\", line 593, in _fit_and_score\n",
      "    estimator.fit(X_train, y_train, **fit_params)\n",
      "  File \"C:\\Users\\dell\\anaconda3\\lib\\site-packages\\keras\\wrappers\\scikit_learn.py\", line 153, in fit\n",
      "    self.model = self.build_fn(**self.filter_sk_params(self.build_fn))\n",
      "  File \"<ipython-input-26-7d4f5e78d2b7>\", line 3, in create_model\n",
      "    model.add(Dense(15,input_dim = 28,kernel_initializer = init, activation = activation_function))\n",
      "  File \"C:\\Users\\dell\\anaconda3\\lib\\site-packages\\keras\\layers\\core.py\", line 1154, in __init__\n",
      "    self.activation = activations.get(activation)\n",
      "  File \"C:\\Users\\dell\\anaconda3\\lib\\site-packages\\tensorflow\\python\\util\\dispatch.py\", line 206, in wrapper\n",
      "    return target(*args, **kwargs)\n",
      "  File \"C:\\Users\\dell\\anaconda3\\lib\\site-packages\\keras\\activations.py\", line 596, in get\n",
      "    return deserialize(identifier)\n",
      "  File \"C:\\Users\\dell\\anaconda3\\lib\\site-packages\\tensorflow\\python\\util\\dispatch.py\", line 206, in wrapper\n",
      "    return target(*args, **kwargs)\n",
      "  File \"C:\\Users\\dell\\anaconda3\\lib\\site-packages\\keras\\activations.py\", line 555, in deserialize\n",
      "    return deserialize_keras_object(\n",
      "  File \"C:\\Users\\dell\\anaconda3\\lib\\site-packages\\keras\\utils\\generic_utils.py\", line 704, in deserialize_keras_object\n",
      "    raise ValueError(\n",
      "ValueError: Unknown activation function: maxout. Please ensure this object is passed to the `custom_objects` argument. See https://www.tensorflow.org/guide/keras/save_and_serialize#registering_the_custom_object for details.\n",
      "\n",
      "  warnings.warn(\"Estimator fit failed. The score on this train-test\"\n",
      "C:\\Users\\dell\\anaconda3\\lib\\site-packages\\sklearn\\model_selection\\_validation.py:610: FitFailedWarning: Estimator fit failed. The score on this train-test partition for these parameters will be set to nan. Details: \n",
      "Traceback (most recent call last):\n",
      "  File \"C:\\Users\\dell\\anaconda3\\lib\\site-packages\\sklearn\\model_selection\\_validation.py\", line 593, in _fit_and_score\n",
      "    estimator.fit(X_train, y_train, **fit_params)\n",
      "  File \"C:\\Users\\dell\\anaconda3\\lib\\site-packages\\keras\\wrappers\\scikit_learn.py\", line 153, in fit\n",
      "    self.model = self.build_fn(**self.filter_sk_params(self.build_fn))\n",
      "  File \"<ipython-input-26-7d4f5e78d2b7>\", line 3, in create_model\n",
      "    model.add(Dense(15,input_dim = 28,kernel_initializer = init, activation = activation_function))\n",
      "  File \"C:\\Users\\dell\\anaconda3\\lib\\site-packages\\keras\\layers\\core.py\", line 1154, in __init__\n",
      "    self.activation = activations.get(activation)\n",
      "  File \"C:\\Users\\dell\\anaconda3\\lib\\site-packages\\tensorflow\\python\\util\\dispatch.py\", line 206, in wrapper\n",
      "    return target(*args, **kwargs)\n",
      "  File \"C:\\Users\\dell\\anaconda3\\lib\\site-packages\\keras\\activations.py\", line 596, in get\n",
      "    return deserialize(identifier)\n",
      "  File \"C:\\Users\\dell\\anaconda3\\lib\\site-packages\\tensorflow\\python\\util\\dispatch.py\", line 206, in wrapper\n",
      "    return target(*args, **kwargs)\n",
      "  File \"C:\\Users\\dell\\anaconda3\\lib\\site-packages\\keras\\activations.py\", line 555, in deserialize\n",
      "    return deserialize_keras_object(\n",
      "  File \"C:\\Users\\dell\\anaconda3\\lib\\site-packages\\keras\\utils\\generic_utils.py\", line 704, in deserialize_keras_object\n",
      "    raise ValueError(\n",
      "ValueError: Unknown activation function: maxout. Please ensure this object is passed to the `custom_objects` argument. See https://www.tensorflow.org/guide/keras/save_and_serialize#registering_the_custom_object for details.\n",
      "\n",
      "  warnings.warn(\"Estimator fit failed. The score on this train-test\"\n",
      "C:\\Users\\dell\\anaconda3\\lib\\site-packages\\keras\\optimizer_v2\\optimizer_v2.py:355: UserWarning: The `lr` argument is deprecated, use `learning_rate` instead.\n",
      "  warnings.warn(\n"
     ]
    },
    {
     "name": "stdout",
     "output_type": "stream",
     "text": [
      "[CV 1/5; 7/15] END ....activation_function=elu, init=uniform; total time=   2.1s\n",
      "[CV 2/5; 7/15] START activation_function=elu, init=uniform......................\n"
     ]
    },
    {
     "name": "stderr",
     "output_type": "stream",
     "text": [
      "C:\\Users\\dell\\anaconda3\\lib\\site-packages\\keras\\optimizer_v2\\optimizer_v2.py:355: UserWarning: The `lr` argument is deprecated, use `learning_rate` instead.\n",
      "  warnings.warn(\n"
     ]
    },
    {
     "name": "stdout",
     "output_type": "stream",
     "text": [
      "[CV 2/5; 7/15] END ....activation_function=elu, init=uniform; total time=   2.2s\n",
      "[CV 3/5; 7/15] START activation_function=elu, init=uniform......................\n"
     ]
    },
    {
     "name": "stderr",
     "output_type": "stream",
     "text": [
      "C:\\Users\\dell\\anaconda3\\lib\\site-packages\\keras\\optimizer_v2\\optimizer_v2.py:355: UserWarning: The `lr` argument is deprecated, use `learning_rate` instead.\n",
      "  warnings.warn(\n"
     ]
    },
    {
     "name": "stdout",
     "output_type": "stream",
     "text": [
      "[CV 3/5; 7/15] END ....activation_function=elu, init=uniform; total time=   2.1s\n",
      "[CV 4/5; 7/15] START activation_function=elu, init=uniform......................\n"
     ]
    },
    {
     "name": "stderr",
     "output_type": "stream",
     "text": [
      "C:\\Users\\dell\\anaconda3\\lib\\site-packages\\keras\\optimizer_v2\\optimizer_v2.py:355: UserWarning: The `lr` argument is deprecated, use `learning_rate` instead.\n",
      "  warnings.warn(\n"
     ]
    },
    {
     "name": "stdout",
     "output_type": "stream",
     "text": [
      "[CV 4/5; 7/15] END ....activation_function=elu, init=uniform; total time=   2.0s\n",
      "[CV 5/5; 7/15] START activation_function=elu, init=uniform......................\n"
     ]
    },
    {
     "name": "stderr",
     "output_type": "stream",
     "text": [
      "C:\\Users\\dell\\anaconda3\\lib\\site-packages\\keras\\optimizer_v2\\optimizer_v2.py:355: UserWarning: The `lr` argument is deprecated, use `learning_rate` instead.\n",
      "  warnings.warn(\n"
     ]
    },
    {
     "name": "stdout",
     "output_type": "stream",
     "text": [
      "[CV 5/5; 7/15] END ....activation_function=elu, init=uniform; total time=   2.0s\n",
      "[CV 1/5; 8/15] START activation_function=elu, init=normal.......................\n"
     ]
    },
    {
     "name": "stderr",
     "output_type": "stream",
     "text": [
      "C:\\Users\\dell\\anaconda3\\lib\\site-packages\\keras\\optimizer_v2\\optimizer_v2.py:355: UserWarning: The `lr` argument is deprecated, use `learning_rate` instead.\n",
      "  warnings.warn(\n"
     ]
    },
    {
     "name": "stdout",
     "output_type": "stream",
     "text": [
      "[CV 1/5; 8/15] END .....activation_function=elu, init=normal; total time=   2.3s\n",
      "[CV 2/5; 8/15] START activation_function=elu, init=normal.......................\n"
     ]
    },
    {
     "name": "stderr",
     "output_type": "stream",
     "text": [
      "C:\\Users\\dell\\anaconda3\\lib\\site-packages\\keras\\optimizer_v2\\optimizer_v2.py:355: UserWarning: The `lr` argument is deprecated, use `learning_rate` instead.\n",
      "  warnings.warn(\n"
     ]
    },
    {
     "name": "stdout",
     "output_type": "stream",
     "text": [
      "[CV 2/5; 8/15] END .....activation_function=elu, init=normal; total time=   2.2s\n",
      "[CV 3/5; 8/15] START activation_function=elu, init=normal.......................\n"
     ]
    },
    {
     "name": "stderr",
     "output_type": "stream",
     "text": [
      "C:\\Users\\dell\\anaconda3\\lib\\site-packages\\keras\\optimizer_v2\\optimizer_v2.py:355: UserWarning: The `lr` argument is deprecated, use `learning_rate` instead.\n",
      "  warnings.warn(\n"
     ]
    },
    {
     "name": "stdout",
     "output_type": "stream",
     "text": [
      "[CV 3/5; 8/15] END .....activation_function=elu, init=normal; total time=   2.1s\n",
      "[CV 4/5; 8/15] START activation_function=elu, init=normal.......................\n"
     ]
    },
    {
     "name": "stderr",
     "output_type": "stream",
     "text": [
      "C:\\Users\\dell\\anaconda3\\lib\\site-packages\\keras\\optimizer_v2\\optimizer_v2.py:355: UserWarning: The `lr` argument is deprecated, use `learning_rate` instead.\n",
      "  warnings.warn(\n"
     ]
    },
    {
     "name": "stdout",
     "output_type": "stream",
     "text": [
      "[CV 4/5; 8/15] END .....activation_function=elu, init=normal; total time=   2.1s\n",
      "[CV 5/5; 8/15] START activation_function=elu, init=normal.......................\n"
     ]
    },
    {
     "name": "stderr",
     "output_type": "stream",
     "text": [
      "C:\\Users\\dell\\anaconda3\\lib\\site-packages\\keras\\optimizer_v2\\optimizer_v2.py:355: UserWarning: The `lr` argument is deprecated, use `learning_rate` instead.\n",
      "  warnings.warn(\n"
     ]
    },
    {
     "name": "stdout",
     "output_type": "stream",
     "text": [
      "[CV 5/5; 8/15] END .....activation_function=elu, init=normal; total time=   1.9s\n",
      "[CV 1/5; 9/15] START activation_function=elu, init=zero.........................\n"
     ]
    },
    {
     "name": "stderr",
     "output_type": "stream",
     "text": [
      "C:\\Users\\dell\\anaconda3\\lib\\site-packages\\keras\\optimizer_v2\\optimizer_v2.py:355: UserWarning: The `lr` argument is deprecated, use `learning_rate` instead.\n",
      "  warnings.warn(\n"
     ]
    },
    {
     "name": "stdout",
     "output_type": "stream",
     "text": [
      "[CV 1/5; 9/15] END .......activation_function=elu, init=zero; total time=   2.1s\n",
      "[CV 2/5; 9/15] START activation_function=elu, init=zero.........................\n"
     ]
    },
    {
     "name": "stderr",
     "output_type": "stream",
     "text": [
      "C:\\Users\\dell\\anaconda3\\lib\\site-packages\\keras\\optimizer_v2\\optimizer_v2.py:355: UserWarning: The `lr` argument is deprecated, use `learning_rate` instead.\n",
      "  warnings.warn(\n"
     ]
    },
    {
     "name": "stdout",
     "output_type": "stream",
     "text": [
      "[CV 2/5; 9/15] END .......activation_function=elu, init=zero; total time=   2.2s\n",
      "[CV 3/5; 9/15] START activation_function=elu, init=zero.........................\n"
     ]
    },
    {
     "name": "stderr",
     "output_type": "stream",
     "text": [
      "C:\\Users\\dell\\anaconda3\\lib\\site-packages\\keras\\optimizer_v2\\optimizer_v2.py:355: UserWarning: The `lr` argument is deprecated, use `learning_rate` instead.\n",
      "  warnings.warn(\n"
     ]
    },
    {
     "name": "stdout",
     "output_type": "stream",
     "text": [
      "[CV 3/5; 9/15] END .......activation_function=elu, init=zero; total time=   2.4s\n",
      "[CV 4/5; 9/15] START activation_function=elu, init=zero.........................\n"
     ]
    },
    {
     "name": "stderr",
     "output_type": "stream",
     "text": [
      "C:\\Users\\dell\\anaconda3\\lib\\site-packages\\keras\\optimizer_v2\\optimizer_v2.py:355: UserWarning: The `lr` argument is deprecated, use `learning_rate` instead.\n",
      "  warnings.warn(\n"
     ]
    },
    {
     "name": "stdout",
     "output_type": "stream",
     "text": [
      "[CV 4/5; 9/15] END .......activation_function=elu, init=zero; total time=   1.9s\n",
      "[CV 5/5; 9/15] START activation_function=elu, init=zero.........................\n"
     ]
    },
    {
     "name": "stderr",
     "output_type": "stream",
     "text": [
      "C:\\Users\\dell\\anaconda3\\lib\\site-packages\\keras\\optimizer_v2\\optimizer_v2.py:355: UserWarning: The `lr` argument is deprecated, use `learning_rate` instead.\n",
      "  warnings.warn(\n"
     ]
    },
    {
     "name": "stdout",
     "output_type": "stream",
     "text": [
      "[CV 5/5; 9/15] END .......activation_function=elu, init=zero; total time=   2.0s\n",
      "[CV 1/5; 10/15] START activation_function=tanh, init=uniform....................\n"
     ]
    },
    {
     "name": "stderr",
     "output_type": "stream",
     "text": [
      "C:\\Users\\dell\\anaconda3\\lib\\site-packages\\keras\\optimizer_v2\\optimizer_v2.py:355: UserWarning: The `lr` argument is deprecated, use `learning_rate` instead.\n",
      "  warnings.warn(\n"
     ]
    },
    {
     "name": "stdout",
     "output_type": "stream",
     "text": [
      "[CV 1/5; 10/15] END ..activation_function=tanh, init=uniform; total time=   2.1s\n",
      "[CV 2/5; 10/15] START activation_function=tanh, init=uniform....................\n"
     ]
    },
    {
     "name": "stderr",
     "output_type": "stream",
     "text": [
      "C:\\Users\\dell\\anaconda3\\lib\\site-packages\\keras\\optimizer_v2\\optimizer_v2.py:355: UserWarning: The `lr` argument is deprecated, use `learning_rate` instead.\n",
      "  warnings.warn(\n"
     ]
    },
    {
     "name": "stdout",
     "output_type": "stream",
     "text": [
      "[CV 2/5; 10/15] END ..activation_function=tanh, init=uniform; total time=   2.4s\n",
      "[CV 3/5; 10/15] START activation_function=tanh, init=uniform....................\n"
     ]
    },
    {
     "name": "stderr",
     "output_type": "stream",
     "text": [
      "C:\\Users\\dell\\anaconda3\\lib\\site-packages\\keras\\optimizer_v2\\optimizer_v2.py:355: UserWarning: The `lr` argument is deprecated, use `learning_rate` instead.\n",
      "  warnings.warn(\n"
     ]
    },
    {
     "name": "stdout",
     "output_type": "stream",
     "text": [
      "[CV 3/5; 10/15] END ..activation_function=tanh, init=uniform; total time=   1.9s\n",
      "[CV 4/5; 10/15] START activation_function=tanh, init=uniform....................\n"
     ]
    },
    {
     "name": "stderr",
     "output_type": "stream",
     "text": [
      "C:\\Users\\dell\\anaconda3\\lib\\site-packages\\keras\\optimizer_v2\\optimizer_v2.py:355: UserWarning: The `lr` argument is deprecated, use `learning_rate` instead.\n",
      "  warnings.warn(\n"
     ]
    },
    {
     "name": "stdout",
     "output_type": "stream",
     "text": [
      "[CV 4/5; 10/15] END ..activation_function=tanh, init=uniform; total time=   1.9s\n",
      "[CV 5/5; 10/15] START activation_function=tanh, init=uniform....................\n"
     ]
    },
    {
     "name": "stderr",
     "output_type": "stream",
     "text": [
      "C:\\Users\\dell\\anaconda3\\lib\\site-packages\\keras\\optimizer_v2\\optimizer_v2.py:355: UserWarning: The `lr` argument is deprecated, use `learning_rate` instead.\n",
      "  warnings.warn(\n"
     ]
    },
    {
     "name": "stdout",
     "output_type": "stream",
     "text": [
      "[CV 5/5; 10/15] END ..activation_function=tanh, init=uniform; total time=   2.3s\n",
      "[CV 1/5; 11/15] START activation_function=tanh, init=normal.....................\n"
     ]
    },
    {
     "name": "stderr",
     "output_type": "stream",
     "text": [
      "C:\\Users\\dell\\anaconda3\\lib\\site-packages\\keras\\optimizer_v2\\optimizer_v2.py:355: UserWarning: The `lr` argument is deprecated, use `learning_rate` instead.\n",
      "  warnings.warn(\n"
     ]
    },
    {
     "name": "stdout",
     "output_type": "stream",
     "text": [
      "[CV 1/5; 11/15] END ...activation_function=tanh, init=normal; total time=   2.3s\n",
      "[CV 2/5; 11/15] START activation_function=tanh, init=normal.....................\n"
     ]
    },
    {
     "name": "stderr",
     "output_type": "stream",
     "text": [
      "C:\\Users\\dell\\anaconda3\\lib\\site-packages\\keras\\optimizer_v2\\optimizer_v2.py:355: UserWarning: The `lr` argument is deprecated, use `learning_rate` instead.\n",
      "  warnings.warn(\n"
     ]
    },
    {
     "name": "stdout",
     "output_type": "stream",
     "text": [
      "[CV 2/5; 11/15] END ...activation_function=tanh, init=normal; total time=   2.1s\n",
      "[CV 3/5; 11/15] START activation_function=tanh, init=normal.....................\n"
     ]
    },
    {
     "name": "stderr",
     "output_type": "stream",
     "text": [
      "C:\\Users\\dell\\anaconda3\\lib\\site-packages\\keras\\optimizer_v2\\optimizer_v2.py:355: UserWarning: The `lr` argument is deprecated, use `learning_rate` instead.\n",
      "  warnings.warn(\n"
     ]
    },
    {
     "name": "stdout",
     "output_type": "stream",
     "text": [
      "[CV 3/5; 11/15] END ...activation_function=tanh, init=normal; total time=   1.9s\n",
      "[CV 4/5; 11/15] START activation_function=tanh, init=normal.....................\n"
     ]
    },
    {
     "name": "stderr",
     "output_type": "stream",
     "text": [
      "C:\\Users\\dell\\anaconda3\\lib\\site-packages\\keras\\optimizer_v2\\optimizer_v2.py:355: UserWarning: The `lr` argument is deprecated, use `learning_rate` instead.\n",
      "  warnings.warn(\n"
     ]
    },
    {
     "name": "stdout",
     "output_type": "stream",
     "text": [
      "[CV 4/5; 11/15] END ...activation_function=tanh, init=normal; total time=   2.0s\n",
      "[CV 5/5; 11/15] START activation_function=tanh, init=normal.....................\n"
     ]
    },
    {
     "name": "stderr",
     "output_type": "stream",
     "text": [
      "C:\\Users\\dell\\anaconda3\\lib\\site-packages\\keras\\optimizer_v2\\optimizer_v2.py:355: UserWarning: The `lr` argument is deprecated, use `learning_rate` instead.\n",
      "  warnings.warn(\n"
     ]
    },
    {
     "name": "stdout",
     "output_type": "stream",
     "text": [
      "[CV 5/5; 11/15] END ...activation_function=tanh, init=normal; total time=   2.4s\n",
      "[CV 1/5; 12/15] START activation_function=tanh, init=zero.......................\n"
     ]
    },
    {
     "name": "stderr",
     "output_type": "stream",
     "text": [
      "C:\\Users\\dell\\anaconda3\\lib\\site-packages\\keras\\optimizer_v2\\optimizer_v2.py:355: UserWarning: The `lr` argument is deprecated, use `learning_rate` instead.\n",
      "  warnings.warn(\n"
     ]
    },
    {
     "name": "stdout",
     "output_type": "stream",
     "text": [
      "[CV 1/5; 12/15] END .....activation_function=tanh, init=zero; total time=   2.0s\n",
      "[CV 2/5; 12/15] START activation_function=tanh, init=zero.......................\n"
     ]
    },
    {
     "name": "stderr",
     "output_type": "stream",
     "text": [
      "C:\\Users\\dell\\anaconda3\\lib\\site-packages\\keras\\optimizer_v2\\optimizer_v2.py:355: UserWarning: The `lr` argument is deprecated, use `learning_rate` instead.\n",
      "  warnings.warn(\n"
     ]
    },
    {
     "name": "stdout",
     "output_type": "stream",
     "text": [
      "[CV 2/5; 12/15] END .....activation_function=tanh, init=zero; total time=   2.1s\n",
      "[CV 3/5; 12/15] START activation_function=tanh, init=zero.......................\n"
     ]
    },
    {
     "name": "stderr",
     "output_type": "stream",
     "text": [
      "C:\\Users\\dell\\anaconda3\\lib\\site-packages\\keras\\optimizer_v2\\optimizer_v2.py:355: UserWarning: The `lr` argument is deprecated, use `learning_rate` instead.\n",
      "  warnings.warn(\n"
     ]
    },
    {
     "name": "stdout",
     "output_type": "stream",
     "text": [
      "[CV 3/5; 12/15] END .....activation_function=tanh, init=zero; total time=   2.1s\n",
      "[CV 4/5; 12/15] START activation_function=tanh, init=zero.......................\n"
     ]
    },
    {
     "name": "stderr",
     "output_type": "stream",
     "text": [
      "C:\\Users\\dell\\anaconda3\\lib\\site-packages\\keras\\optimizer_v2\\optimizer_v2.py:355: UserWarning: The `lr` argument is deprecated, use `learning_rate` instead.\n",
      "  warnings.warn(\n"
     ]
    },
    {
     "name": "stdout",
     "output_type": "stream",
     "text": [
      "[CV 4/5; 12/15] END .....activation_function=tanh, init=zero; total time=   1.9s\n",
      "[CV 5/5; 12/15] START activation_function=tanh, init=zero.......................\n"
     ]
    },
    {
     "name": "stderr",
     "output_type": "stream",
     "text": [
      "C:\\Users\\dell\\anaconda3\\lib\\site-packages\\keras\\optimizer_v2\\optimizer_v2.py:355: UserWarning: The `lr` argument is deprecated, use `learning_rate` instead.\n",
      "  warnings.warn(\n"
     ]
    },
    {
     "name": "stdout",
     "output_type": "stream",
     "text": [
      "[CV 5/5; 12/15] END .....activation_function=tanh, init=zero; total time=   1.9s\n",
      "[CV 1/5; 13/15] START activation_function=sigmoid, init=uniform.................\n"
     ]
    },
    {
     "name": "stderr",
     "output_type": "stream",
     "text": [
      "C:\\Users\\dell\\anaconda3\\lib\\site-packages\\keras\\optimizer_v2\\optimizer_v2.py:355: UserWarning: The `lr` argument is deprecated, use `learning_rate` instead.\n",
      "  warnings.warn(\n"
     ]
    },
    {
     "name": "stdout",
     "output_type": "stream",
     "text": [
      "[CV 1/5; 13/15] END activation_function=sigmoid, init=uniform; total time=   1.9s\n",
      "[CV 2/5; 13/15] START activation_function=sigmoid, init=uniform.................\n"
     ]
    },
    {
     "name": "stderr",
     "output_type": "stream",
     "text": [
      "C:\\Users\\dell\\anaconda3\\lib\\site-packages\\keras\\optimizer_v2\\optimizer_v2.py:355: UserWarning: The `lr` argument is deprecated, use `learning_rate` instead.\n",
      "  warnings.warn(\n"
     ]
    },
    {
     "name": "stdout",
     "output_type": "stream",
     "text": [
      "[CV 2/5; 13/15] END activation_function=sigmoid, init=uniform; total time=   1.8s\n",
      "[CV 3/5; 13/15] START activation_function=sigmoid, init=uniform.................\n"
     ]
    },
    {
     "name": "stderr",
     "output_type": "stream",
     "text": [
      "C:\\Users\\dell\\anaconda3\\lib\\site-packages\\keras\\optimizer_v2\\optimizer_v2.py:355: UserWarning: The `lr` argument is deprecated, use `learning_rate` instead.\n",
      "  warnings.warn(\n"
     ]
    },
    {
     "name": "stdout",
     "output_type": "stream",
     "text": [
      "[CV 3/5; 13/15] END activation_function=sigmoid, init=uniform; total time=   1.9s\n",
      "[CV 4/5; 13/15] START activation_function=sigmoid, init=uniform.................\n"
     ]
    },
    {
     "name": "stderr",
     "output_type": "stream",
     "text": [
      "C:\\Users\\dell\\anaconda3\\lib\\site-packages\\keras\\optimizer_v2\\optimizer_v2.py:355: UserWarning: The `lr` argument is deprecated, use `learning_rate` instead.\n",
      "  warnings.warn(\n"
     ]
    },
    {
     "name": "stdout",
     "output_type": "stream",
     "text": [
      "[CV 4/5; 13/15] END activation_function=sigmoid, init=uniform; total time=   2.1s\n",
      "[CV 5/5; 13/15] START activation_function=sigmoid, init=uniform.................\n"
     ]
    },
    {
     "name": "stderr",
     "output_type": "stream",
     "text": [
      "C:\\Users\\dell\\anaconda3\\lib\\site-packages\\keras\\optimizer_v2\\optimizer_v2.py:355: UserWarning: The `lr` argument is deprecated, use `learning_rate` instead.\n",
      "  warnings.warn(\n"
     ]
    },
    {
     "name": "stdout",
     "output_type": "stream",
     "text": [
      "[CV 5/5; 13/15] END activation_function=sigmoid, init=uniform; total time=   2.0s\n",
      "[CV 1/5; 14/15] START activation_function=sigmoid, init=normal..................\n"
     ]
    },
    {
     "name": "stderr",
     "output_type": "stream",
     "text": [
      "C:\\Users\\dell\\anaconda3\\lib\\site-packages\\keras\\optimizer_v2\\optimizer_v2.py:355: UserWarning: The `lr` argument is deprecated, use `learning_rate` instead.\n",
      "  warnings.warn(\n"
     ]
    },
    {
     "name": "stdout",
     "output_type": "stream",
     "text": [
      "[CV 1/5; 14/15] END activation_function=sigmoid, init=normal; total time=   2.0s\n",
      "[CV 2/5; 14/15] START activation_function=sigmoid, init=normal..................\n"
     ]
    },
    {
     "name": "stderr",
     "output_type": "stream",
     "text": [
      "C:\\Users\\dell\\anaconda3\\lib\\site-packages\\keras\\optimizer_v2\\optimizer_v2.py:355: UserWarning: The `lr` argument is deprecated, use `learning_rate` instead.\n",
      "  warnings.warn(\n"
     ]
    },
    {
     "name": "stdout",
     "output_type": "stream",
     "text": [
      "[CV 2/5; 14/15] END activation_function=sigmoid, init=normal; total time=   1.8s\n",
      "[CV 3/5; 14/15] START activation_function=sigmoid, init=normal..................\n"
     ]
    },
    {
     "name": "stderr",
     "output_type": "stream",
     "text": [
      "C:\\Users\\dell\\anaconda3\\lib\\site-packages\\keras\\optimizer_v2\\optimizer_v2.py:355: UserWarning: The `lr` argument is deprecated, use `learning_rate` instead.\n",
      "  warnings.warn(\n"
     ]
    },
    {
     "name": "stdout",
     "output_type": "stream",
     "text": [
      "[CV 3/5; 14/15] END activation_function=sigmoid, init=normal; total time=   1.9s\n",
      "[CV 4/5; 14/15] START activation_function=sigmoid, init=normal..................\n"
     ]
    },
    {
     "name": "stderr",
     "output_type": "stream",
     "text": [
      "C:\\Users\\dell\\anaconda3\\lib\\site-packages\\keras\\optimizer_v2\\optimizer_v2.py:355: UserWarning: The `lr` argument is deprecated, use `learning_rate` instead.\n",
      "  warnings.warn(\n"
     ]
    },
    {
     "name": "stdout",
     "output_type": "stream",
     "text": [
      "[CV 4/5; 14/15] END activation_function=sigmoid, init=normal; total time=   1.8s\n",
      "[CV 5/5; 14/15] START activation_function=sigmoid, init=normal..................\n"
     ]
    },
    {
     "name": "stderr",
     "output_type": "stream",
     "text": [
      "C:\\Users\\dell\\anaconda3\\lib\\site-packages\\keras\\optimizer_v2\\optimizer_v2.py:355: UserWarning: The `lr` argument is deprecated, use `learning_rate` instead.\n",
      "  warnings.warn(\n"
     ]
    },
    {
     "name": "stdout",
     "output_type": "stream",
     "text": [
      "[CV 5/5; 14/15] END activation_function=sigmoid, init=normal; total time=   1.9s\n",
      "[CV 1/5; 15/15] START activation_function=sigmoid, init=zero....................\n"
     ]
    },
    {
     "name": "stderr",
     "output_type": "stream",
     "text": [
      "C:\\Users\\dell\\anaconda3\\lib\\site-packages\\keras\\optimizer_v2\\optimizer_v2.py:355: UserWarning: The `lr` argument is deprecated, use `learning_rate` instead.\n",
      "  warnings.warn(\n"
     ]
    },
    {
     "name": "stdout",
     "output_type": "stream",
     "text": [
      "[CV 1/5; 15/15] END ..activation_function=sigmoid, init=zero; total time=   1.9s\n",
      "[CV 2/5; 15/15] START activation_function=sigmoid, init=zero....................\n"
     ]
    },
    {
     "name": "stderr",
     "output_type": "stream",
     "text": [
      "C:\\Users\\dell\\anaconda3\\lib\\site-packages\\keras\\optimizer_v2\\optimizer_v2.py:355: UserWarning: The `lr` argument is deprecated, use `learning_rate` instead.\n",
      "  warnings.warn(\n"
     ]
    },
    {
     "name": "stdout",
     "output_type": "stream",
     "text": [
      "[CV 2/5; 15/15] END ..activation_function=sigmoid, init=zero; total time=   1.9s\n",
      "[CV 3/5; 15/15] START activation_function=sigmoid, init=zero....................\n"
     ]
    },
    {
     "name": "stderr",
     "output_type": "stream",
     "text": [
      "C:\\Users\\dell\\anaconda3\\lib\\site-packages\\keras\\optimizer_v2\\optimizer_v2.py:355: UserWarning: The `lr` argument is deprecated, use `learning_rate` instead.\n",
      "  warnings.warn(\n"
     ]
    },
    {
     "name": "stdout",
     "output_type": "stream",
     "text": [
      "[CV 3/5; 15/15] END ..activation_function=sigmoid, init=zero; total time=   2.3s\n",
      "[CV 4/5; 15/15] START activation_function=sigmoid, init=zero....................\n"
     ]
    },
    {
     "name": "stderr",
     "output_type": "stream",
     "text": [
      "C:\\Users\\dell\\anaconda3\\lib\\site-packages\\keras\\optimizer_v2\\optimizer_v2.py:355: UserWarning: The `lr` argument is deprecated, use `learning_rate` instead.\n",
      "  warnings.warn(\n"
     ]
    },
    {
     "name": "stdout",
     "output_type": "stream",
     "text": [
      "[CV 4/5; 15/15] END ..activation_function=sigmoid, init=zero; total time=   2.2s\n",
      "[CV 5/5; 15/15] START activation_function=sigmoid, init=zero....................\n"
     ]
    },
    {
     "name": "stderr",
     "output_type": "stream",
     "text": [
      "C:\\Users\\dell\\anaconda3\\lib\\site-packages\\keras\\optimizer_v2\\optimizer_v2.py:355: UserWarning: The `lr` argument is deprecated, use `learning_rate` instead.\n",
      "  warnings.warn(\n"
     ]
    },
    {
     "name": "stdout",
     "output_type": "stream",
     "text": [
      "[CV 5/5; 15/15] END ..activation_function=sigmoid, init=zero; total time=   1.9s\n"
     ]
    },
    {
     "name": "stderr",
     "output_type": "stream",
     "text": [
      "C:\\Users\\dell\\anaconda3\\lib\\site-packages\\sklearn\\model_selection\\_search.py:918: UserWarning: One or more of the test scores are non-finite: [-0.51803839 -0.52454467 -0.60487078         nan         nan         nan\n",
      " -0.43926092 -0.40568596 -0.6151599  -0.30335574 -0.31392214 -0.61568601\n",
      " -0.61212561 -0.61115689 -0.60835515]\n",
      "  warnings.warn(\n"
     ]
    },
    {
     "data": {
      "text/plain": [
       "GridSearchCV(cv=KFold(n_splits=5, random_state=None, shuffle=False),\n",
       "             estimator=<keras.wrappers.scikit_learn.KerasRegressor object at 0x00000214BD2C4790>,\n",
       "             param_grid={'activation_function': ['relu', 'maxout', 'elu',\n",
       "                                                 'tanh', 'sigmoid'],\n",
       "                         'init': ['uniform', 'normal', 'zero']},\n",
       "             verbose=10)"
      ]
     },
     "execution_count": 26,
     "metadata": {},
     "output_type": "execute_result"
    }
   ],
   "source": [
    "def create_model(activation_function,init):\n",
    "    model = Sequential()\n",
    "    model.add(Dense(15,input_dim = 28,kernel_initializer = init, activation = activation_function))\n",
    "    model.add(Dropout(0.5))\n",
    "    model.add(Dense(10,kernel_initializer = init, activation = activation_function))\n",
    "    model.add(Dropout(0.5))\n",
    "    model.add(Dense(1,kernel_initializer = 'uniform', activation = 'sigmoid'))\n",
    "    \n",
    "    adam = Adam(lr = 0.0001)\n",
    "    model.compile(loss = 'binary_crossentropy', optimizer = 'adam', metrics = ['accuracy'])\n",
    "    return model\n",
    "\n",
    "model = KerasRegressor(build_fn = create_model,batch_size = 30, epochs = 70, verbose = 0)\n",
    "\n",
    "activation_function = ['relu','maxout','elu','tanh','sigmoid']\n",
    "init = ['uniform','normal','zero']\n",
    "\n",
    "param_grid = dict(activation_function = activation_function, init = init)\n",
    "\n",
    "grid = GridSearchCV(estimator = model, param_grid = param_grid, cv = KFold(), verbose = 10)\n",
    "grid.fit(x_std,y)"
   ]
  },
  {
   "cell_type": "code",
   "execution_count": 27,
   "id": "9045ade8",
   "metadata": {},
   "outputs": [
    {
     "name": "stdout",
     "output_type": "stream",
     "text": [
      "Best: -0.3033557366579771 with: {'activation_function': 'tanh', 'init': 'uniform'}\n",
      "-0.5180383905768394 0.24752721404297118 with : {'activation_function': 'relu', 'init': 'uniform'}\n",
      "-0.5245446711778641 0.22128725568817859 with : {'activation_function': 'relu', 'init': 'normal'}\n",
      "-0.6048707783222198 0.09106864744384366 with : {'activation_function': 'relu', 'init': 'zero'}\n",
      "nan nan with : {'activation_function': 'maxout', 'init': 'uniform'}\n",
      "nan nan with : {'activation_function': 'maxout', 'init': 'normal'}\n",
      "nan nan with : {'activation_function': 'maxout', 'init': 'zero'}\n",
      "-0.43926092237234116 0.3077857913427234 with : {'activation_function': 'elu', 'init': 'uniform'}\n",
      "-0.4056859605014324 0.2490104610480714 with : {'activation_function': 'elu', 'init': 'normal'}\n",
      "-0.6151598989963531 0.13361344064942401 with : {'activation_function': 'elu', 'init': 'zero'}\n",
      "-0.3033557366579771 0.17921355375712386 with : {'activation_function': 'tanh', 'init': 'uniform'}\n",
      "-0.3139221385121346 0.16030685551282872 with : {'activation_function': 'tanh', 'init': 'normal'}\n",
      "-0.615686011314392 0.1346651385439309 with : {'activation_function': 'tanh', 'init': 'zero'}\n",
      "-0.6121256053447723 0.14317209608444736 with : {'activation_function': 'sigmoid', 'init': 'uniform'}\n",
      "-0.6111568927764892 0.14533273791005466 with : {'activation_function': 'sigmoid', 'init': 'normal'}\n",
      "-0.6083551526069642 0.1485581479203374 with : {'activation_function': 'sigmoid', 'init': 'zero'}\n"
     ]
    }
   ],
   "source": [
    "print('Best: {} with: {}'.format(grid.best_score_ , grid.best_params_))\n",
    "\n",
    "means = grid.cv_results_['mean_test_score']\n",
    "std = grid.cv_results_['std_test_score']\n",
    "params = grid.cv_results_['params']\n",
    "\n",
    "for mean,stdev,param in zip(means,std,params):\n",
    "       print('{} {} with : {}'.format(mean,stdev,param))"
   ]
  },
  {
   "cell_type": "markdown",
   "id": "06b2b076",
   "metadata": {},
   "source": [
    "##### Tuning for number of neurons"
   ]
  },
  {
   "cell_type": "code",
   "execution_count": 28,
   "id": "9cd25aff",
   "metadata": {},
   "outputs": [
    {
     "name": "stdout",
     "output_type": "stream",
     "text": [
      "Fitting 5 folds for each of 16 candidates, totalling 80 fits\n",
      "[CV 1/5; 1/16] START neuron1=10, neuron2=5......................................\n"
     ]
    },
    {
     "name": "stderr",
     "output_type": "stream",
     "text": [
      "C:\\Users\\dell\\anaconda3\\lib\\site-packages\\keras\\optimizer_v2\\optimizer_v2.py:355: UserWarning: The `lr` argument is deprecated, use `learning_rate` instead.\n",
      "  warnings.warn(\n"
     ]
    },
    {
     "name": "stdout",
     "output_type": "stream",
     "text": [
      "[CV 1/5; 1/16] END ....................neuron1=10, neuron2=5; total time=   2.3s\n",
      "[CV 2/5; 1/16] START neuron1=10, neuron2=5......................................\n"
     ]
    },
    {
     "name": "stderr",
     "output_type": "stream",
     "text": [
      "C:\\Users\\dell\\anaconda3\\lib\\site-packages\\keras\\optimizer_v2\\optimizer_v2.py:355: UserWarning: The `lr` argument is deprecated, use `learning_rate` instead.\n",
      "  warnings.warn(\n"
     ]
    },
    {
     "name": "stdout",
     "output_type": "stream",
     "text": [
      "[CV 2/5; 1/16] END ....................neuron1=10, neuron2=5; total time=   2.0s\n",
      "[CV 3/5; 1/16] START neuron1=10, neuron2=5......................................\n"
     ]
    },
    {
     "name": "stderr",
     "output_type": "stream",
     "text": [
      "C:\\Users\\dell\\anaconda3\\lib\\site-packages\\keras\\optimizer_v2\\optimizer_v2.py:355: UserWarning: The `lr` argument is deprecated, use `learning_rate` instead.\n",
      "  warnings.warn(\n"
     ]
    },
    {
     "name": "stdout",
     "output_type": "stream",
     "text": [
      "[CV 3/5; 1/16] END ....................neuron1=10, neuron2=5; total time=   1.9s\n",
      "[CV 4/5; 1/16] START neuron1=10, neuron2=5......................................\n"
     ]
    },
    {
     "name": "stderr",
     "output_type": "stream",
     "text": [
      "C:\\Users\\dell\\anaconda3\\lib\\site-packages\\keras\\optimizer_v2\\optimizer_v2.py:355: UserWarning: The `lr` argument is deprecated, use `learning_rate` instead.\n",
      "  warnings.warn(\n"
     ]
    },
    {
     "name": "stdout",
     "output_type": "stream",
     "text": [
      "[CV 4/5; 1/16] END ....................neuron1=10, neuron2=5; total time=   1.9s\n",
      "[CV 5/5; 1/16] START neuron1=10, neuron2=5......................................\n"
     ]
    },
    {
     "name": "stderr",
     "output_type": "stream",
     "text": [
      "C:\\Users\\dell\\anaconda3\\lib\\site-packages\\keras\\optimizer_v2\\optimizer_v2.py:355: UserWarning: The `lr` argument is deprecated, use `learning_rate` instead.\n",
      "  warnings.warn(\n"
     ]
    },
    {
     "name": "stdout",
     "output_type": "stream",
     "text": [
      "[CV 5/5; 1/16] END ....................neuron1=10, neuron2=5; total time=   2.0s\n",
      "[CV 1/5; 2/16] START neuron1=10, neuron2=8......................................\n"
     ]
    },
    {
     "name": "stderr",
     "output_type": "stream",
     "text": [
      "C:\\Users\\dell\\anaconda3\\lib\\site-packages\\keras\\optimizer_v2\\optimizer_v2.py:355: UserWarning: The `lr` argument is deprecated, use `learning_rate` instead.\n",
      "  warnings.warn(\n"
     ]
    },
    {
     "name": "stdout",
     "output_type": "stream",
     "text": [
      "[CV 1/5; 2/16] END ....................neuron1=10, neuron2=8; total time=   1.9s\n",
      "[CV 2/5; 2/16] START neuron1=10, neuron2=8......................................\n"
     ]
    },
    {
     "name": "stderr",
     "output_type": "stream",
     "text": [
      "C:\\Users\\dell\\anaconda3\\lib\\site-packages\\keras\\optimizer_v2\\optimizer_v2.py:355: UserWarning: The `lr` argument is deprecated, use `learning_rate` instead.\n",
      "  warnings.warn(\n"
     ]
    },
    {
     "name": "stdout",
     "output_type": "stream",
     "text": [
      "[CV 2/5; 2/16] END ....................neuron1=10, neuron2=8; total time=   1.9s\n",
      "[CV 3/5; 2/16] START neuron1=10, neuron2=8......................................\n"
     ]
    },
    {
     "name": "stderr",
     "output_type": "stream",
     "text": [
      "C:\\Users\\dell\\anaconda3\\lib\\site-packages\\keras\\optimizer_v2\\optimizer_v2.py:355: UserWarning: The `lr` argument is deprecated, use `learning_rate` instead.\n",
      "  warnings.warn(\n"
     ]
    },
    {
     "name": "stdout",
     "output_type": "stream",
     "text": [
      "[CV 3/5; 2/16] END ....................neuron1=10, neuron2=8; total time=   2.0s\n",
      "[CV 4/5; 2/16] START neuron1=10, neuron2=8......................................\n"
     ]
    },
    {
     "name": "stderr",
     "output_type": "stream",
     "text": [
      "C:\\Users\\dell\\anaconda3\\lib\\site-packages\\keras\\optimizer_v2\\optimizer_v2.py:355: UserWarning: The `lr` argument is deprecated, use `learning_rate` instead.\n",
      "  warnings.warn(\n"
     ]
    },
    {
     "name": "stdout",
     "output_type": "stream",
     "text": [
      "[CV 4/5; 2/16] END ....................neuron1=10, neuron2=8; total time=   2.2s\n",
      "[CV 5/5; 2/16] START neuron1=10, neuron2=8......................................\n"
     ]
    },
    {
     "name": "stderr",
     "output_type": "stream",
     "text": [
      "C:\\Users\\dell\\anaconda3\\lib\\site-packages\\keras\\optimizer_v2\\optimizer_v2.py:355: UserWarning: The `lr` argument is deprecated, use `learning_rate` instead.\n",
      "  warnings.warn(\n"
     ]
    },
    {
     "name": "stdout",
     "output_type": "stream",
     "text": [
      "[CV 5/5; 2/16] END ....................neuron1=10, neuron2=8; total time=   1.9s\n",
      "[CV 1/5; 3/16] START neuron1=10, neuron2=10.....................................\n"
     ]
    },
    {
     "name": "stderr",
     "output_type": "stream",
     "text": [
      "C:\\Users\\dell\\anaconda3\\lib\\site-packages\\keras\\optimizer_v2\\optimizer_v2.py:355: UserWarning: The `lr` argument is deprecated, use `learning_rate` instead.\n",
      "  warnings.warn(\n"
     ]
    },
    {
     "name": "stdout",
     "output_type": "stream",
     "text": [
      "[CV 1/5; 3/16] END ...................neuron1=10, neuron2=10; total time=   1.9s\n",
      "[CV 2/5; 3/16] START neuron1=10, neuron2=10.....................................\n"
     ]
    },
    {
     "name": "stderr",
     "output_type": "stream",
     "text": [
      "C:\\Users\\dell\\anaconda3\\lib\\site-packages\\keras\\optimizer_v2\\optimizer_v2.py:355: UserWarning: The `lr` argument is deprecated, use `learning_rate` instead.\n",
      "  warnings.warn(\n"
     ]
    },
    {
     "name": "stdout",
     "output_type": "stream",
     "text": [
      "[CV 2/5; 3/16] END ...................neuron1=10, neuron2=10; total time=   1.9s\n",
      "[CV 3/5; 3/16] START neuron1=10, neuron2=10.....................................\n"
     ]
    },
    {
     "name": "stderr",
     "output_type": "stream",
     "text": [
      "C:\\Users\\dell\\anaconda3\\lib\\site-packages\\keras\\optimizer_v2\\optimizer_v2.py:355: UserWarning: The `lr` argument is deprecated, use `learning_rate` instead.\n",
      "  warnings.warn(\n"
     ]
    },
    {
     "name": "stdout",
     "output_type": "stream",
     "text": [
      "[CV 3/5; 3/16] END ...................neuron1=10, neuron2=10; total time=   1.9s\n",
      "[CV 4/5; 3/16] START neuron1=10, neuron2=10.....................................\n"
     ]
    },
    {
     "name": "stderr",
     "output_type": "stream",
     "text": [
      "C:\\Users\\dell\\anaconda3\\lib\\site-packages\\keras\\optimizer_v2\\optimizer_v2.py:355: UserWarning: The `lr` argument is deprecated, use `learning_rate` instead.\n",
      "  warnings.warn(\n"
     ]
    },
    {
     "name": "stdout",
     "output_type": "stream",
     "text": [
      "[CV 4/5; 3/16] END ...................neuron1=10, neuron2=10; total time=   2.1s\n",
      "[CV 5/5; 3/16] START neuron1=10, neuron2=10.....................................\n"
     ]
    },
    {
     "name": "stderr",
     "output_type": "stream",
     "text": [
      "C:\\Users\\dell\\anaconda3\\lib\\site-packages\\keras\\optimizer_v2\\optimizer_v2.py:355: UserWarning: The `lr` argument is deprecated, use `learning_rate` instead.\n",
      "  warnings.warn(\n"
     ]
    },
    {
     "name": "stdout",
     "output_type": "stream",
     "text": [
      "[CV 5/5; 3/16] END ...................neuron1=10, neuron2=10; total time=   1.9s\n",
      "[CV 1/5; 4/16] START neuron1=10, neuron2=14.....................................\n"
     ]
    },
    {
     "name": "stderr",
     "output_type": "stream",
     "text": [
      "C:\\Users\\dell\\anaconda3\\lib\\site-packages\\keras\\optimizer_v2\\optimizer_v2.py:355: UserWarning: The `lr` argument is deprecated, use `learning_rate` instead.\n",
      "  warnings.warn(\n"
     ]
    },
    {
     "name": "stdout",
     "output_type": "stream",
     "text": [
      "[CV 1/5; 4/16] END ...................neuron1=10, neuron2=14; total time=   2.0s\n",
      "[CV 2/5; 4/16] START neuron1=10, neuron2=14.....................................\n"
     ]
    },
    {
     "name": "stderr",
     "output_type": "stream",
     "text": [
      "C:\\Users\\dell\\anaconda3\\lib\\site-packages\\keras\\optimizer_v2\\optimizer_v2.py:355: UserWarning: The `lr` argument is deprecated, use `learning_rate` instead.\n",
      "  warnings.warn(\n"
     ]
    },
    {
     "name": "stdout",
     "output_type": "stream",
     "text": [
      "[CV 2/5; 4/16] END ...................neuron1=10, neuron2=14; total time=   2.0s\n",
      "[CV 3/5; 4/16] START neuron1=10, neuron2=14.....................................\n"
     ]
    },
    {
     "name": "stderr",
     "output_type": "stream",
     "text": [
      "C:\\Users\\dell\\anaconda3\\lib\\site-packages\\keras\\optimizer_v2\\optimizer_v2.py:355: UserWarning: The `lr` argument is deprecated, use `learning_rate` instead.\n",
      "  warnings.warn(\n"
     ]
    },
    {
     "name": "stdout",
     "output_type": "stream",
     "text": [
      "[CV 3/5; 4/16] END ...................neuron1=10, neuron2=14; total time=   1.9s\n",
      "[CV 4/5; 4/16] START neuron1=10, neuron2=14.....................................\n"
     ]
    },
    {
     "name": "stderr",
     "output_type": "stream",
     "text": [
      "C:\\Users\\dell\\anaconda3\\lib\\site-packages\\keras\\optimizer_v2\\optimizer_v2.py:355: UserWarning: The `lr` argument is deprecated, use `learning_rate` instead.\n",
      "  warnings.warn(\n"
     ]
    },
    {
     "name": "stdout",
     "output_type": "stream",
     "text": [
      "[CV 4/5; 4/16] END ...................neuron1=10, neuron2=14; total time=   1.9s\n",
      "[CV 5/5; 4/16] START neuron1=10, neuron2=14.....................................\n"
     ]
    },
    {
     "name": "stderr",
     "output_type": "stream",
     "text": [
      "C:\\Users\\dell\\anaconda3\\lib\\site-packages\\keras\\optimizer_v2\\optimizer_v2.py:355: UserWarning: The `lr` argument is deprecated, use `learning_rate` instead.\n",
      "  warnings.warn(\n"
     ]
    },
    {
     "name": "stdout",
     "output_type": "stream",
     "text": [
      "[CV 5/5; 4/16] END ...................neuron1=10, neuron2=14; total time=   1.9s\n",
      "[CV 1/5; 5/16] START neuron1=12, neuron2=5......................................\n"
     ]
    },
    {
     "name": "stderr",
     "output_type": "stream",
     "text": [
      "C:\\Users\\dell\\anaconda3\\lib\\site-packages\\keras\\optimizer_v2\\optimizer_v2.py:355: UserWarning: The `lr` argument is deprecated, use `learning_rate` instead.\n",
      "  warnings.warn(\n"
     ]
    },
    {
     "name": "stdout",
     "output_type": "stream",
     "text": [
      "[CV 1/5; 5/16] END ....................neuron1=12, neuron2=5; total time=   1.9s\n",
      "[CV 2/5; 5/16] START neuron1=12, neuron2=5......................................\n"
     ]
    },
    {
     "name": "stderr",
     "output_type": "stream",
     "text": [
      "C:\\Users\\dell\\anaconda3\\lib\\site-packages\\keras\\optimizer_v2\\optimizer_v2.py:355: UserWarning: The `lr` argument is deprecated, use `learning_rate` instead.\n",
      "  warnings.warn(\n"
     ]
    },
    {
     "name": "stdout",
     "output_type": "stream",
     "text": [
      "[CV 2/5; 5/16] END ....................neuron1=12, neuron2=5; total time=   2.1s\n",
      "[CV 3/5; 5/16] START neuron1=12, neuron2=5......................................\n"
     ]
    },
    {
     "name": "stderr",
     "output_type": "stream",
     "text": [
      "C:\\Users\\dell\\anaconda3\\lib\\site-packages\\keras\\optimizer_v2\\optimizer_v2.py:355: UserWarning: The `lr` argument is deprecated, use `learning_rate` instead.\n",
      "  warnings.warn(\n"
     ]
    },
    {
     "name": "stdout",
     "output_type": "stream",
     "text": [
      "[CV 3/5; 5/16] END ....................neuron1=12, neuron2=5; total time=   1.9s\n",
      "[CV 4/5; 5/16] START neuron1=12, neuron2=5......................................\n"
     ]
    },
    {
     "name": "stderr",
     "output_type": "stream",
     "text": [
      "C:\\Users\\dell\\anaconda3\\lib\\site-packages\\keras\\optimizer_v2\\optimizer_v2.py:355: UserWarning: The `lr` argument is deprecated, use `learning_rate` instead.\n",
      "  warnings.warn(\n"
     ]
    },
    {
     "name": "stdout",
     "output_type": "stream",
     "text": [
      "[CV 4/5; 5/16] END ....................neuron1=12, neuron2=5; total time=   2.0s\n",
      "[CV 5/5; 5/16] START neuron1=12, neuron2=5......................................\n"
     ]
    },
    {
     "name": "stderr",
     "output_type": "stream",
     "text": [
      "C:\\Users\\dell\\anaconda3\\lib\\site-packages\\keras\\optimizer_v2\\optimizer_v2.py:355: UserWarning: The `lr` argument is deprecated, use `learning_rate` instead.\n",
      "  warnings.warn(\n"
     ]
    },
    {
     "name": "stdout",
     "output_type": "stream",
     "text": [
      "[CV 5/5; 5/16] END ....................neuron1=12, neuron2=5; total time=   1.9s\n",
      "[CV 1/5; 6/16] START neuron1=12, neuron2=8......................................\n"
     ]
    },
    {
     "name": "stderr",
     "output_type": "stream",
     "text": [
      "C:\\Users\\dell\\anaconda3\\lib\\site-packages\\keras\\optimizer_v2\\optimizer_v2.py:355: UserWarning: The `lr` argument is deprecated, use `learning_rate` instead.\n",
      "  warnings.warn(\n"
     ]
    },
    {
     "name": "stdout",
     "output_type": "stream",
     "text": [
      "[CV 1/5; 6/16] END ....................neuron1=12, neuron2=8; total time=   1.9s\n",
      "[CV 2/5; 6/16] START neuron1=12, neuron2=8......................................\n"
     ]
    },
    {
     "name": "stderr",
     "output_type": "stream",
     "text": [
      "C:\\Users\\dell\\anaconda3\\lib\\site-packages\\keras\\optimizer_v2\\optimizer_v2.py:355: UserWarning: The `lr` argument is deprecated, use `learning_rate` instead.\n",
      "  warnings.warn(\n"
     ]
    },
    {
     "name": "stdout",
     "output_type": "stream",
     "text": [
      "[CV 2/5; 6/16] END ....................neuron1=12, neuron2=8; total time=   1.9s\n",
      "[CV 3/5; 6/16] START neuron1=12, neuron2=8......................................\n"
     ]
    },
    {
     "name": "stderr",
     "output_type": "stream",
     "text": [
      "C:\\Users\\dell\\anaconda3\\lib\\site-packages\\keras\\optimizer_v2\\optimizer_v2.py:355: UserWarning: The `lr` argument is deprecated, use `learning_rate` instead.\n",
      "  warnings.warn(\n"
     ]
    },
    {
     "name": "stdout",
     "output_type": "stream",
     "text": [
      "[CV 3/5; 6/16] END ....................neuron1=12, neuron2=8; total time=   1.9s\n",
      "[CV 4/5; 6/16] START neuron1=12, neuron2=8......................................\n"
     ]
    },
    {
     "name": "stderr",
     "output_type": "stream",
     "text": [
      "C:\\Users\\dell\\anaconda3\\lib\\site-packages\\keras\\optimizer_v2\\optimizer_v2.py:355: UserWarning: The `lr` argument is deprecated, use `learning_rate` instead.\n",
      "  warnings.warn(\n"
     ]
    },
    {
     "name": "stdout",
     "output_type": "stream",
     "text": [
      "[CV 4/5; 6/16] END ....................neuron1=12, neuron2=8; total time=   1.9s\n",
      "[CV 5/5; 6/16] START neuron1=12, neuron2=8......................................\n"
     ]
    },
    {
     "name": "stderr",
     "output_type": "stream",
     "text": [
      "C:\\Users\\dell\\anaconda3\\lib\\site-packages\\keras\\optimizer_v2\\optimizer_v2.py:355: UserWarning: The `lr` argument is deprecated, use `learning_rate` instead.\n",
      "  warnings.warn(\n"
     ]
    },
    {
     "name": "stdout",
     "output_type": "stream",
     "text": [
      "[CV 5/5; 6/16] END ....................neuron1=12, neuron2=8; total time=   2.1s\n",
      "[CV 1/5; 7/16] START neuron1=12, neuron2=10.....................................\n"
     ]
    },
    {
     "name": "stderr",
     "output_type": "stream",
     "text": [
      "C:\\Users\\dell\\anaconda3\\lib\\site-packages\\keras\\optimizer_v2\\optimizer_v2.py:355: UserWarning: The `lr` argument is deprecated, use `learning_rate` instead.\n",
      "  warnings.warn(\n"
     ]
    },
    {
     "name": "stdout",
     "output_type": "stream",
     "text": [
      "[CV 1/5; 7/16] END ...................neuron1=12, neuron2=10; total time=   1.9s\n",
      "[CV 2/5; 7/16] START neuron1=12, neuron2=10.....................................\n"
     ]
    },
    {
     "name": "stderr",
     "output_type": "stream",
     "text": [
      "C:\\Users\\dell\\anaconda3\\lib\\site-packages\\keras\\optimizer_v2\\optimizer_v2.py:355: UserWarning: The `lr` argument is deprecated, use `learning_rate` instead.\n",
      "  warnings.warn(\n"
     ]
    },
    {
     "name": "stdout",
     "output_type": "stream",
     "text": [
      "[CV 2/5; 7/16] END ...................neuron1=12, neuron2=10; total time=   2.1s\n",
      "[CV 3/5; 7/16] START neuron1=12, neuron2=10.....................................\n"
     ]
    },
    {
     "name": "stderr",
     "output_type": "stream",
     "text": [
      "C:\\Users\\dell\\anaconda3\\lib\\site-packages\\keras\\optimizer_v2\\optimizer_v2.py:355: UserWarning: The `lr` argument is deprecated, use `learning_rate` instead.\n",
      "  warnings.warn(\n"
     ]
    },
    {
     "name": "stdout",
     "output_type": "stream",
     "text": [
      "[CV 3/5; 7/16] END ...................neuron1=12, neuron2=10; total time=   1.9s\n",
      "[CV 4/5; 7/16] START neuron1=12, neuron2=10.....................................\n"
     ]
    },
    {
     "name": "stderr",
     "output_type": "stream",
     "text": [
      "C:\\Users\\dell\\anaconda3\\lib\\site-packages\\keras\\optimizer_v2\\optimizer_v2.py:355: UserWarning: The `lr` argument is deprecated, use `learning_rate` instead.\n",
      "  warnings.warn(\n"
     ]
    },
    {
     "name": "stdout",
     "output_type": "stream",
     "text": [
      "[CV 4/5; 7/16] END ...................neuron1=12, neuron2=10; total time=   1.9s\n",
      "[CV 5/5; 7/16] START neuron1=12, neuron2=10.....................................\n"
     ]
    },
    {
     "name": "stderr",
     "output_type": "stream",
     "text": [
      "C:\\Users\\dell\\anaconda3\\lib\\site-packages\\keras\\optimizer_v2\\optimizer_v2.py:355: UserWarning: The `lr` argument is deprecated, use `learning_rate` instead.\n",
      "  warnings.warn(\n"
     ]
    },
    {
     "name": "stdout",
     "output_type": "stream",
     "text": [
      "[CV 5/5; 7/16] END ...................neuron1=12, neuron2=10; total time=   1.9s\n",
      "[CV 1/5; 8/16] START neuron1=12, neuron2=14.....................................\n"
     ]
    },
    {
     "name": "stderr",
     "output_type": "stream",
     "text": [
      "C:\\Users\\dell\\anaconda3\\lib\\site-packages\\keras\\optimizer_v2\\optimizer_v2.py:355: UserWarning: The `lr` argument is deprecated, use `learning_rate` instead.\n",
      "  warnings.warn(\n"
     ]
    },
    {
     "name": "stdout",
     "output_type": "stream",
     "text": [
      "[CV 1/5; 8/16] END ...................neuron1=12, neuron2=14; total time=   2.3s\n",
      "[CV 2/5; 8/16] START neuron1=12, neuron2=14.....................................\n"
     ]
    },
    {
     "name": "stderr",
     "output_type": "stream",
     "text": [
      "C:\\Users\\dell\\anaconda3\\lib\\site-packages\\keras\\optimizer_v2\\optimizer_v2.py:355: UserWarning: The `lr` argument is deprecated, use `learning_rate` instead.\n",
      "  warnings.warn(\n"
     ]
    },
    {
     "name": "stdout",
     "output_type": "stream",
     "text": [
      "[CV 2/5; 8/16] END ...................neuron1=12, neuron2=14; total time=   2.8s\n",
      "[CV 3/5; 8/16] START neuron1=12, neuron2=14.....................................\n"
     ]
    },
    {
     "name": "stderr",
     "output_type": "stream",
     "text": [
      "C:\\Users\\dell\\anaconda3\\lib\\site-packages\\keras\\optimizer_v2\\optimizer_v2.py:355: UserWarning: The `lr` argument is deprecated, use `learning_rate` instead.\n",
      "  warnings.warn(\n"
     ]
    },
    {
     "name": "stdout",
     "output_type": "stream",
     "text": [
      "[CV 3/5; 8/16] END ...................neuron1=12, neuron2=14; total time=   3.3s\n",
      "[CV 4/5; 8/16] START neuron1=12, neuron2=14.....................................\n"
     ]
    },
    {
     "name": "stderr",
     "output_type": "stream",
     "text": [
      "C:\\Users\\dell\\anaconda3\\lib\\site-packages\\keras\\optimizer_v2\\optimizer_v2.py:355: UserWarning: The `lr` argument is deprecated, use `learning_rate` instead.\n",
      "  warnings.warn(\n"
     ]
    },
    {
     "name": "stdout",
     "output_type": "stream",
     "text": [
      "[CV 4/5; 8/16] END ...................neuron1=12, neuron2=14; total time=   5.4s\n",
      "[CV 5/5; 8/16] START neuron1=12, neuron2=14.....................................\n"
     ]
    },
    {
     "name": "stderr",
     "output_type": "stream",
     "text": [
      "C:\\Users\\dell\\anaconda3\\lib\\site-packages\\keras\\optimizer_v2\\optimizer_v2.py:355: UserWarning: The `lr` argument is deprecated, use `learning_rate` instead.\n",
      "  warnings.warn(\n"
     ]
    },
    {
     "name": "stdout",
     "output_type": "stream",
     "text": [
      "[CV 5/5; 8/16] END ...................neuron1=12, neuron2=14; total time=   2.8s\n",
      "[CV 1/5; 9/16] START neuron1=15, neuron2=5......................................\n"
     ]
    },
    {
     "name": "stderr",
     "output_type": "stream",
     "text": [
      "C:\\Users\\dell\\anaconda3\\lib\\site-packages\\keras\\optimizer_v2\\optimizer_v2.py:355: UserWarning: The `lr` argument is deprecated, use `learning_rate` instead.\n",
      "  warnings.warn(\n"
     ]
    },
    {
     "name": "stdout",
     "output_type": "stream",
     "text": [
      "[CV 1/5; 9/16] END ....................neuron1=15, neuron2=5; total time=   2.3s\n",
      "[CV 2/5; 9/16] START neuron1=15, neuron2=5......................................\n"
     ]
    },
    {
     "name": "stderr",
     "output_type": "stream",
     "text": [
      "C:\\Users\\dell\\anaconda3\\lib\\site-packages\\keras\\optimizer_v2\\optimizer_v2.py:355: UserWarning: The `lr` argument is deprecated, use `learning_rate` instead.\n",
      "  warnings.warn(\n"
     ]
    },
    {
     "name": "stdout",
     "output_type": "stream",
     "text": [
      "[CV 2/5; 9/16] END ....................neuron1=15, neuron2=5; total time=   2.2s\n",
      "[CV 3/5; 9/16] START neuron1=15, neuron2=5......................................\n"
     ]
    },
    {
     "name": "stderr",
     "output_type": "stream",
     "text": [
      "C:\\Users\\dell\\anaconda3\\lib\\site-packages\\keras\\optimizer_v2\\optimizer_v2.py:355: UserWarning: The `lr` argument is deprecated, use `learning_rate` instead.\n",
      "  warnings.warn(\n"
     ]
    },
    {
     "name": "stdout",
     "output_type": "stream",
     "text": [
      "[CV 3/5; 9/16] END ....................neuron1=15, neuron2=5; total time=   2.5s\n",
      "[CV 4/5; 9/16] START neuron1=15, neuron2=5......................................\n"
     ]
    },
    {
     "name": "stderr",
     "output_type": "stream",
     "text": [
      "C:\\Users\\dell\\anaconda3\\lib\\site-packages\\keras\\optimizer_v2\\optimizer_v2.py:355: UserWarning: The `lr` argument is deprecated, use `learning_rate` instead.\n",
      "  warnings.warn(\n"
     ]
    },
    {
     "name": "stdout",
     "output_type": "stream",
     "text": [
      "[CV 4/5; 9/16] END ....................neuron1=15, neuron2=5; total time=   2.7s\n",
      "[CV 5/5; 9/16] START neuron1=15, neuron2=5......................................\n"
     ]
    },
    {
     "name": "stderr",
     "output_type": "stream",
     "text": [
      "C:\\Users\\dell\\anaconda3\\lib\\site-packages\\keras\\optimizer_v2\\optimizer_v2.py:355: UserWarning: The `lr` argument is deprecated, use `learning_rate` instead.\n",
      "  warnings.warn(\n"
     ]
    },
    {
     "name": "stdout",
     "output_type": "stream",
     "text": [
      "[CV 5/5; 9/16] END ....................neuron1=15, neuron2=5; total time=   2.0s\n",
      "[CV 1/5; 10/16] START neuron1=15, neuron2=8.....................................\n"
     ]
    },
    {
     "name": "stderr",
     "output_type": "stream",
     "text": [
      "C:\\Users\\dell\\anaconda3\\lib\\site-packages\\keras\\optimizer_v2\\optimizer_v2.py:355: UserWarning: The `lr` argument is deprecated, use `learning_rate` instead.\n",
      "  warnings.warn(\n"
     ]
    },
    {
     "name": "stdout",
     "output_type": "stream",
     "text": [
      "[CV 1/5; 10/16] END ...................neuron1=15, neuron2=8; total time=   2.1s\n",
      "[CV 2/5; 10/16] START neuron1=15, neuron2=8.....................................\n"
     ]
    },
    {
     "name": "stderr",
     "output_type": "stream",
     "text": [
      "C:\\Users\\dell\\anaconda3\\lib\\site-packages\\keras\\optimizer_v2\\optimizer_v2.py:355: UserWarning: The `lr` argument is deprecated, use `learning_rate` instead.\n",
      "  warnings.warn(\n"
     ]
    },
    {
     "name": "stdout",
     "output_type": "stream",
     "text": [
      "[CV 2/5; 10/16] END ...................neuron1=15, neuron2=8; total time=   2.5s\n",
      "[CV 3/5; 10/16] START neuron1=15, neuron2=8.....................................\n"
     ]
    },
    {
     "name": "stderr",
     "output_type": "stream",
     "text": [
      "C:\\Users\\dell\\anaconda3\\lib\\site-packages\\keras\\optimizer_v2\\optimizer_v2.py:355: UserWarning: The `lr` argument is deprecated, use `learning_rate` instead.\n",
      "  warnings.warn(\n"
     ]
    },
    {
     "name": "stdout",
     "output_type": "stream",
     "text": [
      "[CV 3/5; 10/16] END ...................neuron1=15, neuron2=8; total time=   2.5s\n",
      "[CV 4/5; 10/16] START neuron1=15, neuron2=8.....................................\n"
     ]
    },
    {
     "name": "stderr",
     "output_type": "stream",
     "text": [
      "C:\\Users\\dell\\anaconda3\\lib\\site-packages\\keras\\optimizer_v2\\optimizer_v2.py:355: UserWarning: The `lr` argument is deprecated, use `learning_rate` instead.\n",
      "  warnings.warn(\n"
     ]
    },
    {
     "name": "stdout",
     "output_type": "stream",
     "text": [
      "[CV 4/5; 10/16] END ...................neuron1=15, neuron2=8; total time=   2.1s\n",
      "[CV 5/5; 10/16] START neuron1=15, neuron2=8.....................................\n"
     ]
    },
    {
     "name": "stderr",
     "output_type": "stream",
     "text": [
      "C:\\Users\\dell\\anaconda3\\lib\\site-packages\\keras\\optimizer_v2\\optimizer_v2.py:355: UserWarning: The `lr` argument is deprecated, use `learning_rate` instead.\n",
      "  warnings.warn(\n"
     ]
    },
    {
     "name": "stdout",
     "output_type": "stream",
     "text": [
      "[CV 5/5; 10/16] END ...................neuron1=15, neuron2=8; total time=   2.2s\n",
      "[CV 1/5; 11/16] START neuron1=15, neuron2=10....................................\n"
     ]
    },
    {
     "name": "stderr",
     "output_type": "stream",
     "text": [
      "C:\\Users\\dell\\anaconda3\\lib\\site-packages\\keras\\optimizer_v2\\optimizer_v2.py:355: UserWarning: The `lr` argument is deprecated, use `learning_rate` instead.\n",
      "  warnings.warn(\n"
     ]
    },
    {
     "name": "stdout",
     "output_type": "stream",
     "text": [
      "[CV 1/5; 11/16] END ..................neuron1=15, neuron2=10; total time=   2.8s\n",
      "[CV 2/5; 11/16] START neuron1=15, neuron2=10....................................\n"
     ]
    },
    {
     "name": "stderr",
     "output_type": "stream",
     "text": [
      "C:\\Users\\dell\\anaconda3\\lib\\site-packages\\keras\\optimizer_v2\\optimizer_v2.py:355: UserWarning: The `lr` argument is deprecated, use `learning_rate` instead.\n",
      "  warnings.warn(\n"
     ]
    },
    {
     "name": "stdout",
     "output_type": "stream",
     "text": [
      "[CV 2/5; 11/16] END ..................neuron1=15, neuron2=10; total time=   2.3s\n",
      "[CV 3/5; 11/16] START neuron1=15, neuron2=10....................................\n"
     ]
    },
    {
     "name": "stderr",
     "output_type": "stream",
     "text": [
      "C:\\Users\\dell\\anaconda3\\lib\\site-packages\\keras\\optimizer_v2\\optimizer_v2.py:355: UserWarning: The `lr` argument is deprecated, use `learning_rate` instead.\n",
      "  warnings.warn(\n"
     ]
    },
    {
     "name": "stdout",
     "output_type": "stream",
     "text": [
      "[CV 3/5; 11/16] END ..................neuron1=15, neuron2=10; total time=   2.0s\n",
      "[CV 4/5; 11/16] START neuron1=15, neuron2=10....................................\n"
     ]
    },
    {
     "name": "stderr",
     "output_type": "stream",
     "text": [
      "C:\\Users\\dell\\anaconda3\\lib\\site-packages\\keras\\optimizer_v2\\optimizer_v2.py:355: UserWarning: The `lr` argument is deprecated, use `learning_rate` instead.\n",
      "  warnings.warn(\n"
     ]
    },
    {
     "name": "stdout",
     "output_type": "stream",
     "text": [
      "[CV 4/5; 11/16] END ..................neuron1=15, neuron2=10; total time=   2.0s\n",
      "[CV 5/5; 11/16] START neuron1=15, neuron2=10....................................\n"
     ]
    },
    {
     "name": "stderr",
     "output_type": "stream",
     "text": [
      "C:\\Users\\dell\\anaconda3\\lib\\site-packages\\keras\\optimizer_v2\\optimizer_v2.py:355: UserWarning: The `lr` argument is deprecated, use `learning_rate` instead.\n",
      "  warnings.warn(\n"
     ]
    },
    {
     "name": "stdout",
     "output_type": "stream",
     "text": [
      "[CV 5/5; 11/16] END ..................neuron1=15, neuron2=10; total time=   2.2s\n",
      "[CV 1/5; 12/16] START neuron1=15, neuron2=14....................................\n"
     ]
    },
    {
     "name": "stderr",
     "output_type": "stream",
     "text": [
      "C:\\Users\\dell\\anaconda3\\lib\\site-packages\\keras\\optimizer_v2\\optimizer_v2.py:355: UserWarning: The `lr` argument is deprecated, use `learning_rate` instead.\n",
      "  warnings.warn(\n"
     ]
    },
    {
     "name": "stdout",
     "output_type": "stream",
     "text": [
      "[CV 1/5; 12/16] END ..................neuron1=15, neuron2=14; total time=   2.4s\n",
      "[CV 2/5; 12/16] START neuron1=15, neuron2=14....................................\n"
     ]
    },
    {
     "name": "stderr",
     "output_type": "stream",
     "text": [
      "C:\\Users\\dell\\anaconda3\\lib\\site-packages\\keras\\optimizer_v2\\optimizer_v2.py:355: UserWarning: The `lr` argument is deprecated, use `learning_rate` instead.\n",
      "  warnings.warn(\n"
     ]
    },
    {
     "name": "stdout",
     "output_type": "stream",
     "text": [
      "[CV 2/5; 12/16] END ..................neuron1=15, neuron2=14; total time=   2.5s\n",
      "[CV 3/5; 12/16] START neuron1=15, neuron2=14....................................\n"
     ]
    },
    {
     "name": "stderr",
     "output_type": "stream",
     "text": [
      "C:\\Users\\dell\\anaconda3\\lib\\site-packages\\keras\\optimizer_v2\\optimizer_v2.py:355: UserWarning: The `lr` argument is deprecated, use `learning_rate` instead.\n",
      "  warnings.warn(\n"
     ]
    },
    {
     "name": "stdout",
     "output_type": "stream",
     "text": [
      "[CV 3/5; 12/16] END ..................neuron1=15, neuron2=14; total time=   2.0s\n",
      "[CV 4/5; 12/16] START neuron1=15, neuron2=14....................................\n"
     ]
    },
    {
     "name": "stderr",
     "output_type": "stream",
     "text": [
      "C:\\Users\\dell\\anaconda3\\lib\\site-packages\\keras\\optimizer_v2\\optimizer_v2.py:355: UserWarning: The `lr` argument is deprecated, use `learning_rate` instead.\n",
      "  warnings.warn(\n"
     ]
    },
    {
     "name": "stdout",
     "output_type": "stream",
     "text": [
      "[CV 4/5; 12/16] END ..................neuron1=15, neuron2=14; total time=   2.1s\n",
      "[CV 5/5; 12/16] START neuron1=15, neuron2=14....................................\n"
     ]
    },
    {
     "name": "stderr",
     "output_type": "stream",
     "text": [
      "C:\\Users\\dell\\anaconda3\\lib\\site-packages\\keras\\optimizer_v2\\optimizer_v2.py:355: UserWarning: The `lr` argument is deprecated, use `learning_rate` instead.\n",
      "  warnings.warn(\n"
     ]
    },
    {
     "name": "stdout",
     "output_type": "stream",
     "text": [
      "[CV 5/5; 12/16] END ..................neuron1=15, neuron2=14; total time=   2.2s\n",
      "[CV 1/5; 13/16] START neuron1=20, neuron2=5.....................................\n"
     ]
    },
    {
     "name": "stderr",
     "output_type": "stream",
     "text": [
      "C:\\Users\\dell\\anaconda3\\lib\\site-packages\\keras\\optimizer_v2\\optimizer_v2.py:355: UserWarning: The `lr` argument is deprecated, use `learning_rate` instead.\n",
      "  warnings.warn(\n"
     ]
    },
    {
     "name": "stdout",
     "output_type": "stream",
     "text": [
      "[CV 1/5; 13/16] END ...................neuron1=20, neuron2=5; total time=   2.3s\n",
      "[CV 2/5; 13/16] START neuron1=20, neuron2=5.....................................\n"
     ]
    },
    {
     "name": "stderr",
     "output_type": "stream",
     "text": [
      "C:\\Users\\dell\\anaconda3\\lib\\site-packages\\keras\\optimizer_v2\\optimizer_v2.py:355: UserWarning: The `lr` argument is deprecated, use `learning_rate` instead.\n",
      "  warnings.warn(\n"
     ]
    },
    {
     "name": "stdout",
     "output_type": "stream",
     "text": [
      "[CV 2/5; 13/16] END ...................neuron1=20, neuron2=5; total time=   2.1s\n",
      "[CV 3/5; 13/16] START neuron1=20, neuron2=5.....................................\n"
     ]
    },
    {
     "name": "stderr",
     "output_type": "stream",
     "text": [
      "C:\\Users\\dell\\anaconda3\\lib\\site-packages\\keras\\optimizer_v2\\optimizer_v2.py:355: UserWarning: The `lr` argument is deprecated, use `learning_rate` instead.\n",
      "  warnings.warn(\n"
     ]
    },
    {
     "name": "stdout",
     "output_type": "stream",
     "text": [
      "[CV 3/5; 13/16] END ...................neuron1=20, neuron2=5; total time=   2.1s\n",
      "[CV 4/5; 13/16] START neuron1=20, neuron2=5.....................................\n"
     ]
    },
    {
     "name": "stderr",
     "output_type": "stream",
     "text": [
      "C:\\Users\\dell\\anaconda3\\lib\\site-packages\\keras\\optimizer_v2\\optimizer_v2.py:355: UserWarning: The `lr` argument is deprecated, use `learning_rate` instead.\n",
      "  warnings.warn(\n"
     ]
    },
    {
     "name": "stdout",
     "output_type": "stream",
     "text": [
      "[CV 4/5; 13/16] END ...................neuron1=20, neuron2=5; total time=   2.8s\n",
      "[CV 5/5; 13/16] START neuron1=20, neuron2=5.....................................\n"
     ]
    },
    {
     "name": "stderr",
     "output_type": "stream",
     "text": [
      "C:\\Users\\dell\\anaconda3\\lib\\site-packages\\keras\\optimizer_v2\\optimizer_v2.py:355: UserWarning: The `lr` argument is deprecated, use `learning_rate` instead.\n",
      "  warnings.warn(\n"
     ]
    },
    {
     "name": "stdout",
     "output_type": "stream",
     "text": [
      "[CV 5/5; 13/16] END ...................neuron1=20, neuron2=5; total time=   2.6s\n",
      "[CV 1/5; 14/16] START neuron1=20, neuron2=8.....................................\n"
     ]
    },
    {
     "name": "stderr",
     "output_type": "stream",
     "text": [
      "C:\\Users\\dell\\anaconda3\\lib\\site-packages\\keras\\optimizer_v2\\optimizer_v2.py:355: UserWarning: The `lr` argument is deprecated, use `learning_rate` instead.\n",
      "  warnings.warn(\n"
     ]
    },
    {
     "name": "stdout",
     "output_type": "stream",
     "text": [
      "[CV 1/5; 14/16] END ...................neuron1=20, neuron2=8; total time=   2.1s\n",
      "[CV 2/5; 14/16] START neuron1=20, neuron2=8.....................................\n"
     ]
    },
    {
     "name": "stderr",
     "output_type": "stream",
     "text": [
      "C:\\Users\\dell\\anaconda3\\lib\\site-packages\\keras\\optimizer_v2\\optimizer_v2.py:355: UserWarning: The `lr` argument is deprecated, use `learning_rate` instead.\n",
      "  warnings.warn(\n"
     ]
    },
    {
     "name": "stdout",
     "output_type": "stream",
     "text": [
      "[CV 2/5; 14/16] END ...................neuron1=20, neuron2=8; total time=   2.1s\n",
      "[CV 3/5; 14/16] START neuron1=20, neuron2=8.....................................\n"
     ]
    },
    {
     "name": "stderr",
     "output_type": "stream",
     "text": [
      "C:\\Users\\dell\\anaconda3\\lib\\site-packages\\keras\\optimizer_v2\\optimizer_v2.py:355: UserWarning: The `lr` argument is deprecated, use `learning_rate` instead.\n",
      "  warnings.warn(\n"
     ]
    },
    {
     "name": "stdout",
     "output_type": "stream",
     "text": [
      "[CV 3/5; 14/16] END ...................neuron1=20, neuron2=8; total time=   2.5s\n",
      "[CV 4/5; 14/16] START neuron1=20, neuron2=8.....................................\n"
     ]
    },
    {
     "name": "stderr",
     "output_type": "stream",
     "text": [
      "C:\\Users\\dell\\anaconda3\\lib\\site-packages\\keras\\optimizer_v2\\optimizer_v2.py:355: UserWarning: The `lr` argument is deprecated, use `learning_rate` instead.\n",
      "  warnings.warn(\n"
     ]
    },
    {
     "name": "stdout",
     "output_type": "stream",
     "text": [
      "[CV 4/5; 14/16] END ...................neuron1=20, neuron2=8; total time=   2.3s\n",
      "[CV 5/5; 14/16] START neuron1=20, neuron2=8.....................................\n"
     ]
    },
    {
     "name": "stderr",
     "output_type": "stream",
     "text": [
      "C:\\Users\\dell\\anaconda3\\lib\\site-packages\\keras\\optimizer_v2\\optimizer_v2.py:355: UserWarning: The `lr` argument is deprecated, use `learning_rate` instead.\n",
      "  warnings.warn(\n"
     ]
    },
    {
     "name": "stdout",
     "output_type": "stream",
     "text": [
      "[CV 5/5; 14/16] END ...................neuron1=20, neuron2=8; total time=   2.2s\n",
      "[CV 1/5; 15/16] START neuron1=20, neuron2=10....................................\n"
     ]
    },
    {
     "name": "stderr",
     "output_type": "stream",
     "text": [
      "C:\\Users\\dell\\anaconda3\\lib\\site-packages\\keras\\optimizer_v2\\optimizer_v2.py:355: UserWarning: The `lr` argument is deprecated, use `learning_rate` instead.\n",
      "  warnings.warn(\n"
     ]
    },
    {
     "name": "stdout",
     "output_type": "stream",
     "text": [
      "[CV 1/5; 15/16] END ..................neuron1=20, neuron2=10; total time=   2.3s\n",
      "[CV 2/5; 15/16] START neuron1=20, neuron2=10....................................\n"
     ]
    },
    {
     "name": "stderr",
     "output_type": "stream",
     "text": [
      "C:\\Users\\dell\\anaconda3\\lib\\site-packages\\keras\\optimizer_v2\\optimizer_v2.py:355: UserWarning: The `lr` argument is deprecated, use `learning_rate` instead.\n",
      "  warnings.warn(\n"
     ]
    },
    {
     "name": "stdout",
     "output_type": "stream",
     "text": [
      "[CV 2/5; 15/16] END ..................neuron1=20, neuron2=10; total time=   2.5s\n",
      "[CV 3/5; 15/16] START neuron1=20, neuron2=10....................................\n"
     ]
    },
    {
     "name": "stderr",
     "output_type": "stream",
     "text": [
      "C:\\Users\\dell\\anaconda3\\lib\\site-packages\\keras\\optimizer_v2\\optimizer_v2.py:355: UserWarning: The `lr` argument is deprecated, use `learning_rate` instead.\n",
      "  warnings.warn(\n"
     ]
    },
    {
     "name": "stdout",
     "output_type": "stream",
     "text": [
      "[CV 3/5; 15/16] END ..................neuron1=20, neuron2=10; total time=   2.2s\n",
      "[CV 4/5; 15/16] START neuron1=20, neuron2=10....................................\n"
     ]
    },
    {
     "name": "stderr",
     "output_type": "stream",
     "text": [
      "C:\\Users\\dell\\anaconda3\\lib\\site-packages\\keras\\optimizer_v2\\optimizer_v2.py:355: UserWarning: The `lr` argument is deprecated, use `learning_rate` instead.\n",
      "  warnings.warn(\n"
     ]
    },
    {
     "name": "stdout",
     "output_type": "stream",
     "text": [
      "[CV 4/5; 15/16] END ..................neuron1=20, neuron2=10; total time=   2.3s\n",
      "[CV 5/5; 15/16] START neuron1=20, neuron2=10....................................\n"
     ]
    },
    {
     "name": "stderr",
     "output_type": "stream",
     "text": [
      "C:\\Users\\dell\\anaconda3\\lib\\site-packages\\keras\\optimizer_v2\\optimizer_v2.py:355: UserWarning: The `lr` argument is deprecated, use `learning_rate` instead.\n",
      "  warnings.warn(\n"
     ]
    },
    {
     "name": "stdout",
     "output_type": "stream",
     "text": [
      "[CV 5/5; 15/16] END ..................neuron1=20, neuron2=10; total time=   2.1s\n",
      "[CV 1/5; 16/16] START neuron1=20, neuron2=14....................................\n"
     ]
    },
    {
     "name": "stderr",
     "output_type": "stream",
     "text": [
      "C:\\Users\\dell\\anaconda3\\lib\\site-packages\\keras\\optimizer_v2\\optimizer_v2.py:355: UserWarning: The `lr` argument is deprecated, use `learning_rate` instead.\n",
      "  warnings.warn(\n"
     ]
    },
    {
     "name": "stdout",
     "output_type": "stream",
     "text": [
      "[CV 1/5; 16/16] END ..................neuron1=20, neuron2=14; total time=   2.2s\n",
      "[CV 2/5; 16/16] START neuron1=20, neuron2=14....................................\n"
     ]
    },
    {
     "name": "stderr",
     "output_type": "stream",
     "text": [
      "C:\\Users\\dell\\anaconda3\\lib\\site-packages\\keras\\optimizer_v2\\optimizer_v2.py:355: UserWarning: The `lr` argument is deprecated, use `learning_rate` instead.\n",
      "  warnings.warn(\n"
     ]
    },
    {
     "name": "stdout",
     "output_type": "stream",
     "text": [
      "[CV 2/5; 16/16] END ..................neuron1=20, neuron2=14; total time=   2.4s\n",
      "[CV 3/5; 16/16] START neuron1=20, neuron2=14....................................\n"
     ]
    },
    {
     "name": "stderr",
     "output_type": "stream",
     "text": [
      "C:\\Users\\dell\\anaconda3\\lib\\site-packages\\keras\\optimizer_v2\\optimizer_v2.py:355: UserWarning: The `lr` argument is deprecated, use `learning_rate` instead.\n",
      "  warnings.warn(\n"
     ]
    },
    {
     "name": "stdout",
     "output_type": "stream",
     "text": [
      "[CV 3/5; 16/16] END ..................neuron1=20, neuron2=14; total time=   2.4s\n",
      "[CV 4/5; 16/16] START neuron1=20, neuron2=14....................................\n"
     ]
    },
    {
     "name": "stderr",
     "output_type": "stream",
     "text": [
      "C:\\Users\\dell\\anaconda3\\lib\\site-packages\\keras\\optimizer_v2\\optimizer_v2.py:355: UserWarning: The `lr` argument is deprecated, use `learning_rate` instead.\n",
      "  warnings.warn(\n"
     ]
    },
    {
     "name": "stdout",
     "output_type": "stream",
     "text": [
      "[CV 4/5; 16/16] END ..................neuron1=20, neuron2=14; total time=   2.0s\n",
      "[CV 5/5; 16/16] START neuron1=20, neuron2=14....................................\n"
     ]
    },
    {
     "name": "stderr",
     "output_type": "stream",
     "text": [
      "C:\\Users\\dell\\anaconda3\\lib\\site-packages\\keras\\optimizer_v2\\optimizer_v2.py:355: UserWarning: The `lr` argument is deprecated, use `learning_rate` instead.\n",
      "  warnings.warn(\n"
     ]
    },
    {
     "name": "stdout",
     "output_type": "stream",
     "text": [
      "[CV 5/5; 16/16] END ..................neuron1=20, neuron2=14; total time=   2.2s\n"
     ]
    },
    {
     "data": {
      "text/plain": [
       "GridSearchCV(cv=KFold(n_splits=5, random_state=None, shuffle=False),\n",
       "             estimator=<keras.wrappers.scikit_learn.KerasRegressor object at 0x00000214C1BBACD0>,\n",
       "             param_grid={'neuron1': [10, 12, 15, 20],\n",
       "                         'neuron2': [5, 8, 10, 14]},\n",
       "             verbose=10)"
      ]
     },
     "execution_count": 28,
     "metadata": {},
     "output_type": "execute_result"
    }
   ],
   "source": [
    "def create_model(neuron1,neuron2):\n",
    "    model = Sequential()\n",
    "    model.add(Dense(neuron1,input_dim = 28,kernel_initializer = 'uniform', activation = 'tanh'))\n",
    "    model.add(Dropout(0.5))\n",
    "    model.add(Dense(neuron2,kernel_initializer = 'uniform', activation = 'tanh'))\n",
    "    model.add(Dropout(0.5))\n",
    "    model.add(Dense(1,kernel_initializer = 'uniform', activation = 'sigmoid'))\n",
    "    \n",
    "    adam = Adam(lr = 0.0001)\n",
    "    model.compile(loss = 'binary_crossentropy', optimizer = 'adam', metrics = ['accuracy'])\n",
    "    return model\n",
    "\n",
    "model = KerasRegressor(build_fn = create_model,batch_size = 30, epochs = 70, verbose = 0)\n",
    "\n",
    "neuron1 = [10,12,15,20]\n",
    "neuron2 = [5,8,10,14]\n",
    "\n",
    "param_grid = dict(neuron1 = neuron1, neuron2 = neuron2)\n",
    "\n",
    "grid = GridSearchCV(estimator = model, param_grid = param_grid, cv = KFold(), verbose = 10)\n",
    "grid.fit(x_std,y)"
   ]
  },
  {
   "cell_type": "code",
   "execution_count": 29,
   "id": "fe30622a",
   "metadata": {},
   "outputs": [
    {
     "name": "stdout",
     "output_type": "stream",
     "text": [
      "Best: -0.28386979810893537 with: {'neuron1': 20, 'neuron2': 14}\n",
      "-0.3438359022140503 0.13142178212950711 with : {'neuron1': 10, 'neuron2': 5}\n",
      "-0.3342728026211262 0.15612313833701572 with : {'neuron1': 10, 'neuron2': 8}\n",
      "-0.3252052828669548 0.16587506263959298 with : {'neuron1': 10, 'neuron2': 10}\n",
      "-0.3178505964577198 0.19713036499877895 with : {'neuron1': 10, 'neuron2': 14}\n",
      "-0.325211001932621 0.12817338671722364 with : {'neuron1': 12, 'neuron2': 5}\n",
      "-0.3270144030451775 0.16100947885758365 with : {'neuron1': 12, 'neuron2': 8}\n",
      "-0.3190512739121914 0.16850956897565827 with : {'neuron1': 12, 'neuron2': 10}\n",
      "-0.31296044029295444 0.20411704225153862 with : {'neuron1': 12, 'neuron2': 14}\n",
      "-0.2948486849665642 0.11954999697429546 with : {'neuron1': 15, 'neuron2': 5}\n",
      "-0.31331661641597747 0.16141595224957336 with : {'neuron1': 15, 'neuron2': 8}\n",
      "-0.2942019313573837 0.17038631292886242 with : {'neuron1': 15, 'neuron2': 10}\n",
      "-0.2868425041437149 0.19814796582528824 with : {'neuron1': 15, 'neuron2': 14}\n",
      "-0.2940807923674583 0.12397244270082983 with : {'neuron1': 20, 'neuron2': 5}\n",
      "-0.28944182135164737 0.15517069762634755 with : {'neuron1': 20, 'neuron2': 8}\n",
      "-0.2872894674539566 0.17191679507746263 with : {'neuron1': 20, 'neuron2': 10}\n",
      "-0.28386979810893537 0.2049889686619133 with : {'neuron1': 20, 'neuron2': 14}\n"
     ]
    }
   ],
   "source": [
    "print('Best: {} with: {}'.format(grid.best_score_ , grid.best_params_))\n",
    "\n",
    "means = grid.cv_results_['mean_test_score']\n",
    "std = grid.cv_results_['std_test_score']\n",
    "params = grid.cv_results_['params']\n",
    "\n",
    "for mean,stdev,param in zip(means,std,params):\n",
    "       print('{} {} with : {}'.format(mean,stdev,param))"
   ]
  },
  {
   "cell_type": "markdown",
   "id": "32d58ca7",
   "metadata": {},
   "source": [
    "##### Building the final model with optimum values "
   ]
  },
  {
   "cell_type": "code",
   "execution_count": 76,
   "id": "c76e723b",
   "metadata": {},
   "outputs": [],
   "source": [
    "from sklearn.model_selection import cross_val_score\n",
    "import warnings\n",
    "warnings.filterwarnings(\"ignore\")"
   ]
  },
  {
   "cell_type": "code",
   "execution_count": 78,
   "id": "4e7def7e",
   "metadata": {},
   "outputs": [
    {
     "name": "stdout",
     "output_type": "stream",
     "text": [
      "Epoch 1/70\n",
      "Epoch 2/70\n",
      "Epoch 3/70\n",
      "Epoch 4/70\n",
      "Epoch 5/70\n",
      "Epoch 6/70\n",
      "Epoch 7/70\n",
      "Epoch 8/70\n",
      "Epoch 9/70\n",
      "Epoch 10/70\n",
      "Epoch 11/70\n",
      "Epoch 12/70\n",
      "Epoch 13/70\n",
      "Epoch 14/70\n",
      "Epoch 15/70\n",
      "Epoch 16/70\n",
      "Epoch 17/70\n",
      "Epoch 18/70\n",
      "Epoch 19/70\n",
      "Epoch 20/70\n",
      "Epoch 21/70\n",
      "Epoch 22/70\n",
      "Epoch 23/70\n",
      "Epoch 24/70\n",
      "Epoch 25/70\n",
      "Epoch 26/70\n",
      "Epoch 27/70\n",
      "Epoch 28/70\n",
      "Epoch 29/70\n",
      "Epoch 30/70\n",
      "Epoch 31/70\n",
      "Epoch 32/70\n",
      "Epoch 33/70\n",
      "Epoch 34/70\n",
      "Epoch 35/70\n",
      "Epoch 36/70\n",
      "Epoch 37/70\n",
      "Epoch 38/70\n",
      "Epoch 39/70\n",
      "Epoch 40/70\n",
      "Epoch 41/70\n",
      "Epoch 42/70\n",
      "Epoch 43/70\n",
      "Epoch 44/70\n",
      "Epoch 45/70\n",
      "Epoch 46/70\n",
      "Epoch 47/70\n",
      "Epoch 48/70\n",
      "Epoch 49/70\n",
      "Epoch 50/70\n",
      "Epoch 51/70\n",
      "Epoch 52/70\n",
      "Epoch 53/70\n",
      "Epoch 54/70\n",
      "Epoch 55/70\n",
      "Epoch 56/70\n",
      "Epoch 57/70\n",
      "Epoch 58/70\n",
      "Epoch 59/70\n",
      "Epoch 60/70\n",
      "Epoch 61/70\n",
      "Epoch 62/70\n",
      "Epoch 63/70\n",
      "Epoch 64/70\n",
      "Epoch 65/70\n",
      "Epoch 66/70\n",
      "Epoch 67/70\n",
      "Epoch 68/70\n",
      "Epoch 69/70\n",
      "Epoch 70/70\n",
      "Epoch 1/70\n",
      "Epoch 2/70\n",
      "Epoch 3/70\n",
      "Epoch 4/70\n",
      "Epoch 5/70\n",
      "Epoch 6/70\n",
      "Epoch 7/70\n",
      "Epoch 8/70\n",
      "Epoch 9/70\n",
      "Epoch 10/70\n",
      "Epoch 11/70\n",
      "Epoch 12/70\n",
      "Epoch 13/70\n",
      "Epoch 14/70\n",
      "Epoch 15/70\n",
      "Epoch 16/70\n",
      "Epoch 17/70\n",
      "Epoch 18/70\n",
      "Epoch 19/70\n",
      "Epoch 20/70\n",
      "Epoch 21/70\n",
      "Epoch 22/70\n",
      "Epoch 23/70\n",
      "Epoch 24/70\n",
      "Epoch 25/70\n",
      "Epoch 26/70\n",
      "Epoch 27/70\n",
      "Epoch 28/70\n",
      "Epoch 29/70\n",
      "Epoch 30/70\n",
      "Epoch 31/70\n",
      "Epoch 32/70\n",
      "Epoch 33/70\n",
      "Epoch 34/70\n",
      "Epoch 35/70\n",
      "Epoch 36/70\n",
      "Epoch 37/70\n",
      "Epoch 38/70\n",
      "Epoch 39/70\n",
      "Epoch 40/70\n",
      "Epoch 41/70\n",
      "Epoch 42/70\n",
      "Epoch 43/70\n",
      "Epoch 44/70\n",
      "Epoch 45/70\n",
      "Epoch 46/70\n",
      "Epoch 47/70\n",
      "Epoch 48/70\n",
      "Epoch 49/70\n",
      "Epoch 50/70\n",
      "Epoch 51/70\n",
      "Epoch 52/70\n",
      "Epoch 53/70\n",
      "Epoch 54/70\n",
      "Epoch 55/70\n",
      "Epoch 56/70\n",
      "Epoch 57/70\n",
      "Epoch 58/70\n",
      "Epoch 59/70\n",
      "Epoch 60/70\n",
      "Epoch 61/70\n",
      "Epoch 62/70\n",
      "Epoch 63/70\n",
      "Epoch 64/70\n",
      "Epoch 65/70\n",
      "Epoch 66/70\n",
      "Epoch 67/70\n",
      "Epoch 68/70\n",
      "Epoch 69/70\n",
      "Epoch 70/70\n",
      "Epoch 1/70\n",
      "Epoch 2/70\n",
      "Epoch 3/70\n",
      "Epoch 4/70\n",
      "Epoch 5/70\n",
      "Epoch 6/70\n",
      "Epoch 7/70\n",
      "Epoch 8/70\n",
      "Epoch 9/70\n",
      "Epoch 10/70\n",
      "Epoch 11/70\n",
      "Epoch 12/70\n",
      "Epoch 13/70\n",
      "Epoch 14/70\n",
      "Epoch 15/70\n",
      "Epoch 16/70\n",
      "Epoch 17/70\n",
      "Epoch 18/70\n",
      "Epoch 19/70\n",
      "Epoch 20/70\n",
      "Epoch 21/70\n",
      "Epoch 22/70\n",
      "Epoch 23/70\n",
      "Epoch 24/70\n",
      "Epoch 25/70\n",
      "Epoch 26/70\n",
      "Epoch 27/70\n",
      "Epoch 28/70\n",
      "Epoch 29/70\n",
      "Epoch 30/70\n",
      "Epoch 31/70\n",
      "Epoch 32/70\n",
      "Epoch 33/70\n",
      "Epoch 34/70\n",
      "Epoch 35/70\n",
      "Epoch 36/70\n",
      "Epoch 37/70\n",
      "Epoch 38/70\n",
      "Epoch 39/70\n",
      "Epoch 40/70\n",
      "Epoch 41/70\n",
      "Epoch 42/70\n",
      "Epoch 43/70\n",
      "Epoch 44/70\n",
      "Epoch 45/70\n",
      "Epoch 46/70\n",
      "Epoch 47/70\n",
      "Epoch 48/70\n",
      "Epoch 49/70\n",
      "Epoch 50/70\n",
      "Epoch 51/70\n",
      "Epoch 52/70\n",
      "Epoch 53/70\n",
      "Epoch 54/70\n",
      "Epoch 55/70\n",
      "Epoch 56/70\n",
      "Epoch 57/70\n",
      "Epoch 58/70\n",
      "Epoch 59/70\n",
      "Epoch 60/70\n",
      "Epoch 61/70\n",
      "Epoch 62/70\n",
      "Epoch 63/70\n",
      "Epoch 64/70\n",
      "Epoch 65/70\n",
      "Epoch 66/70\n",
      "Epoch 67/70\n",
      "Epoch 68/70\n",
      "Epoch 69/70\n",
      "Epoch 70/70\n",
      "Epoch 1/70\n",
      "Epoch 2/70\n",
      "Epoch 3/70\n",
      "Epoch 4/70\n",
      "Epoch 5/70\n",
      "Epoch 6/70\n",
      "Epoch 7/70\n",
      "Epoch 8/70\n",
      "Epoch 9/70\n",
      "Epoch 10/70\n",
      "Epoch 11/70\n",
      "Epoch 12/70\n",
      "Epoch 13/70\n",
      "Epoch 14/70\n",
      "Epoch 15/70\n",
      "Epoch 16/70\n",
      "Epoch 17/70\n",
      "Epoch 18/70\n",
      "Epoch 19/70\n",
      "Epoch 20/70\n",
      "Epoch 21/70\n",
      "Epoch 22/70\n",
      "Epoch 23/70\n",
      "Epoch 24/70\n",
      "Epoch 25/70\n",
      "Epoch 26/70\n",
      "Epoch 27/70\n",
      "Epoch 28/70\n",
      "Epoch 29/70\n",
      "Epoch 30/70\n",
      "Epoch 31/70\n",
      "Epoch 32/70\n",
      "Epoch 33/70\n",
      "Epoch 34/70\n",
      "Epoch 35/70\n",
      "Epoch 36/70\n",
      "Epoch 37/70\n",
      "Epoch 38/70\n",
      "Epoch 39/70\n",
      "Epoch 40/70\n",
      "Epoch 41/70\n",
      "Epoch 42/70\n",
      "Epoch 43/70\n",
      "Epoch 44/70\n",
      "Epoch 45/70\n",
      "Epoch 46/70\n",
      "Epoch 47/70\n",
      "Epoch 48/70\n",
      "Epoch 49/70\n",
      "Epoch 50/70\n",
      "Epoch 51/70\n",
      "Epoch 52/70\n",
      "Epoch 53/70\n",
      "Epoch 54/70\n",
      "Epoch 55/70\n",
      "Epoch 56/70\n",
      "Epoch 57/70\n",
      "Epoch 58/70\n",
      "Epoch 59/70\n",
      "Epoch 60/70\n",
      "Epoch 61/70\n",
      "Epoch 62/70\n",
      "Epoch 63/70\n",
      "Epoch 64/70\n",
      "Epoch 65/70\n",
      "Epoch 66/70\n",
      "Epoch 67/70\n",
      "Epoch 68/70\n",
      "Epoch 69/70\n",
      "Epoch 70/70\n",
      "Epoch 1/70\n",
      "Epoch 2/70\n",
      "Epoch 3/70\n",
      "Epoch 4/70\n",
      "Epoch 5/70\n",
      "Epoch 6/70\n",
      "Epoch 7/70\n",
      "Epoch 8/70\n",
      "Epoch 9/70\n",
      "Epoch 10/70\n",
      "Epoch 11/70\n",
      "Epoch 12/70\n",
      "Epoch 13/70\n",
      "Epoch 14/70\n",
      "Epoch 15/70\n",
      "Epoch 16/70\n",
      "Epoch 17/70\n",
      "Epoch 18/70\n",
      "Epoch 19/70\n",
      "Epoch 20/70\n",
      "Epoch 21/70\n",
      "Epoch 22/70\n",
      "Epoch 23/70\n",
      "Epoch 24/70\n",
      "Epoch 25/70\n",
      "Epoch 26/70\n",
      "Epoch 27/70\n",
      "Epoch 28/70\n",
      "Epoch 29/70\n",
      "Epoch 30/70\n",
      "Epoch 31/70\n",
      "Epoch 32/70\n",
      "Epoch 33/70\n",
      "Epoch 34/70\n",
      "Epoch 35/70\n",
      "Epoch 36/70\n",
      "Epoch 37/70\n",
      "Epoch 38/70\n",
      "Epoch 39/70\n",
      "Epoch 40/70\n",
      "Epoch 41/70\n",
      "Epoch 42/70\n",
      "Epoch 43/70\n",
      "Epoch 44/70\n",
      "Epoch 45/70\n",
      "Epoch 46/70\n",
      "Epoch 47/70\n",
      "Epoch 48/70\n",
      "Epoch 49/70\n",
      "Epoch 50/70\n",
      "Epoch 51/70\n",
      "Epoch 52/70\n",
      "Epoch 53/70\n",
      "Epoch 54/70\n",
      "Epoch 55/70\n",
      "Epoch 56/70\n",
      "Epoch 57/70\n",
      "Epoch 58/70\n",
      "Epoch 59/70\n",
      "Epoch 60/70\n",
      "Epoch 61/70\n",
      "Epoch 62/70\n",
      "Epoch 63/70\n",
      "Epoch 64/70\n",
      "Epoch 65/70\n",
      "Epoch 66/70\n",
      "Epoch 67/70\n",
      "Epoch 68/70\n",
      "Epoch 69/70\n",
      "Epoch 70/70\n",
      "Epoch 1/70\n",
      "Epoch 2/70\n",
      "Epoch 3/70\n",
      "Epoch 4/70\n",
      "Epoch 5/70\n",
      "Epoch 6/70\n",
      "Epoch 7/70\n",
      "Epoch 8/70\n",
      "Epoch 9/70\n",
      "Epoch 10/70\n",
      "Epoch 11/70\n",
      "Epoch 12/70\n",
      "Epoch 13/70\n",
      "Epoch 14/70\n",
      "Epoch 15/70\n",
      "Epoch 16/70\n",
      "Epoch 17/70\n",
      "Epoch 18/70\n",
      "Epoch 19/70\n",
      "Epoch 20/70\n",
      "Epoch 21/70\n",
      "Epoch 22/70\n",
      "Epoch 23/70\n",
      "Epoch 24/70\n",
      "Epoch 25/70\n",
      "Epoch 26/70\n",
      "Epoch 27/70\n",
      "Epoch 28/70\n",
      "Epoch 29/70\n",
      "Epoch 30/70\n",
      "Epoch 31/70\n",
      "Epoch 32/70\n",
      "Epoch 33/70\n",
      "Epoch 34/70\n",
      "Epoch 35/70\n",
      "Epoch 36/70\n",
      "Epoch 37/70\n",
      "Epoch 38/70\n",
      "Epoch 39/70\n",
      "Epoch 40/70\n",
      "Epoch 41/70\n",
      "Epoch 42/70\n",
      "Epoch 43/70\n",
      "Epoch 44/70\n",
      "Epoch 45/70\n",
      "Epoch 46/70\n",
      "Epoch 47/70\n",
      "Epoch 48/70\n",
      "Epoch 49/70\n",
      "Epoch 50/70\n",
      "Epoch 51/70\n",
      "Epoch 52/70\n",
      "Epoch 53/70\n",
      "Epoch 54/70\n",
      "Epoch 55/70\n",
      "Epoch 56/70\n",
      "Epoch 57/70\n",
      "Epoch 58/70\n",
      "Epoch 59/70\n",
      "Epoch 60/70\n",
      "Epoch 61/70\n",
      "Epoch 62/70\n",
      "Epoch 63/70\n",
      "Epoch 64/70\n",
      "Epoch 65/70\n",
      "Epoch 66/70\n",
      "Epoch 67/70\n",
      "Epoch 68/70\n",
      "Epoch 69/70\n",
      "Epoch 70/70\n",
      "Epoch 1/70\n",
      "Epoch 2/70\n",
      "Epoch 3/70\n",
      "Epoch 4/70\n",
      "Epoch 5/70\n",
      "Epoch 6/70\n",
      "Epoch 7/70\n",
      "Epoch 8/70\n",
      "Epoch 9/70\n",
      "Epoch 10/70\n",
      "Epoch 11/70\n",
      "Epoch 12/70\n",
      "Epoch 13/70\n",
      "Epoch 14/70\n",
      "Epoch 15/70\n",
      "Epoch 16/70\n",
      "Epoch 17/70\n",
      "Epoch 18/70\n",
      "Epoch 19/70\n",
      "Epoch 20/70\n",
      "Epoch 21/70\n",
      "Epoch 22/70\n",
      "Epoch 23/70\n",
      "Epoch 24/70\n",
      "Epoch 25/70\n",
      "Epoch 26/70\n",
      "Epoch 27/70\n",
      "Epoch 28/70\n",
      "Epoch 29/70\n",
      "Epoch 30/70\n",
      "Epoch 31/70\n",
      "Epoch 32/70\n",
      "Epoch 33/70\n",
      "Epoch 34/70\n",
      "Epoch 35/70\n",
      "Epoch 36/70\n",
      "Epoch 37/70\n",
      "Epoch 38/70\n",
      "Epoch 39/70\n",
      "Epoch 40/70\n",
      "Epoch 41/70\n",
      "Epoch 42/70\n",
      "Epoch 43/70\n",
      "Epoch 44/70\n",
      "Epoch 45/70\n",
      "Epoch 46/70\n",
      "Epoch 47/70\n",
      "Epoch 48/70\n",
      "Epoch 49/70\n",
      "Epoch 50/70\n",
      "Epoch 51/70\n",
      "Epoch 52/70\n",
      "Epoch 53/70\n",
      "Epoch 54/70\n",
      "Epoch 55/70\n",
      "Epoch 56/70\n",
      "Epoch 57/70\n",
      "Epoch 58/70\n",
      "Epoch 59/70\n",
      "Epoch 60/70\n",
      "Epoch 61/70\n",
      "Epoch 62/70\n",
      "Epoch 63/70\n",
      "Epoch 64/70\n",
      "Epoch 65/70\n",
      "Epoch 66/70\n",
      "Epoch 67/70\n",
      "Epoch 68/70\n",
      "Epoch 69/70\n",
      "Epoch 70/70\n",
      "Epoch 1/70\n",
      "Epoch 2/70\n",
      "Epoch 3/70\n",
      "Epoch 4/70\n",
      "Epoch 5/70\n",
      "Epoch 6/70\n",
      "Epoch 7/70\n",
      "Epoch 8/70\n",
      "Epoch 9/70\n",
      "Epoch 10/70\n",
      "Epoch 11/70\n",
      "Epoch 12/70\n",
      "Epoch 13/70\n",
      "Epoch 14/70\n",
      "Epoch 15/70\n",
      "Epoch 16/70\n",
      "Epoch 17/70\n",
      "Epoch 18/70\n",
      "Epoch 19/70\n",
      "Epoch 20/70\n",
      "Epoch 21/70\n",
      "Epoch 22/70\n",
      "Epoch 23/70\n",
      "Epoch 24/70\n",
      "Epoch 25/70\n",
      "Epoch 26/70\n",
      "Epoch 27/70\n",
      "Epoch 28/70\n",
      "Epoch 29/70\n",
      "Epoch 30/70\n",
      "Epoch 31/70\n",
      "Epoch 32/70\n",
      "Epoch 33/70\n",
      "Epoch 34/70\n",
      "Epoch 35/70\n",
      "Epoch 36/70\n",
      "Epoch 37/70\n",
      "Epoch 38/70\n",
      "Epoch 39/70\n",
      "Epoch 40/70\n",
      "Epoch 41/70\n",
      "Epoch 42/70\n",
      "Epoch 43/70\n",
      "Epoch 44/70\n",
      "Epoch 45/70\n",
      "Epoch 46/70\n",
      "Epoch 47/70\n",
      "Epoch 48/70\n",
      "Epoch 49/70\n",
      "Epoch 50/70\n",
      "Epoch 51/70\n",
      "Epoch 52/70\n",
      "Epoch 53/70\n",
      "Epoch 54/70\n",
      "Epoch 55/70\n",
      "Epoch 56/70\n",
      "Epoch 57/70\n",
      "Epoch 58/70\n",
      "Epoch 59/70\n",
      "Epoch 60/70\n",
      "Epoch 61/70\n",
      "Epoch 62/70\n",
      "Epoch 63/70\n",
      "Epoch 64/70\n",
      "Epoch 65/70\n",
      "Epoch 66/70\n",
      "Epoch 67/70\n",
      "Epoch 68/70\n",
      "Epoch 69/70\n",
      "Epoch 70/70\n",
      "Epoch 1/70\n",
      "Epoch 2/70\n",
      "Epoch 3/70\n",
      "Epoch 4/70\n",
      "Epoch 5/70\n",
      "Epoch 6/70\n",
      "Epoch 7/70\n",
      "Epoch 8/70\n",
      "Epoch 9/70\n",
      "Epoch 10/70\n",
      "Epoch 11/70\n",
      "Epoch 12/70\n",
      "Epoch 13/70\n",
      "Epoch 14/70\n",
      "Epoch 15/70\n",
      "Epoch 16/70\n",
      "Epoch 17/70\n",
      "Epoch 18/70\n",
      "Epoch 19/70\n",
      "Epoch 20/70\n",
      "Epoch 21/70\n",
      "Epoch 22/70\n",
      "Epoch 23/70\n",
      "Epoch 24/70\n",
      "Epoch 25/70\n",
      "Epoch 26/70\n",
      "Epoch 27/70\n",
      "Epoch 28/70\n",
      "Epoch 29/70\n",
      "Epoch 30/70\n",
      "Epoch 31/70\n",
      "Epoch 32/70\n",
      "Epoch 33/70\n",
      "Epoch 34/70\n",
      "Epoch 35/70\n",
      "Epoch 36/70\n",
      "Epoch 37/70\n",
      "Epoch 38/70\n",
      "Epoch 39/70\n",
      "Epoch 40/70\n",
      "Epoch 41/70\n",
      "Epoch 42/70\n",
      "Epoch 43/70\n",
      "Epoch 44/70\n",
      "Epoch 45/70\n",
      "Epoch 46/70\n",
      "Epoch 47/70\n",
      "Epoch 48/70\n",
      "Epoch 49/70\n",
      "Epoch 50/70\n",
      "Epoch 51/70\n",
      "Epoch 52/70\n",
      "Epoch 53/70\n",
      "Epoch 54/70\n",
      "Epoch 55/70\n",
      "Epoch 56/70\n",
      "Epoch 57/70\n",
      "Epoch 58/70\n",
      "Epoch 59/70\n",
      "Epoch 60/70\n",
      "Epoch 61/70\n",
      "Epoch 62/70\n",
      "Epoch 63/70\n",
      "Epoch 64/70\n",
      "Epoch 65/70\n",
      "Epoch 66/70\n",
      "Epoch 67/70\n",
      "Epoch 68/70\n",
      "Epoch 69/70\n",
      "Epoch 70/70\n",
      "Epoch 1/70\n",
      "Epoch 2/70\n",
      "Epoch 3/70\n",
      "Epoch 4/70\n",
      "Epoch 5/70\n",
      "Epoch 6/70\n",
      "Epoch 7/70\n",
      "Epoch 8/70\n",
      "Epoch 9/70\n",
      "Epoch 10/70\n",
      "Epoch 11/70\n",
      "Epoch 12/70\n",
      "Epoch 13/70\n",
      "Epoch 14/70\n",
      "Epoch 15/70\n",
      "Epoch 16/70\n",
      "Epoch 17/70\n",
      "Epoch 18/70\n",
      "Epoch 19/70\n",
      "Epoch 20/70\n",
      "Epoch 21/70\n",
      "Epoch 22/70\n",
      "Epoch 23/70\n",
      "Epoch 24/70\n",
      "Epoch 25/70\n",
      "Epoch 26/70\n",
      "Epoch 27/70\n",
      "Epoch 28/70\n",
      "Epoch 29/70\n",
      "Epoch 30/70\n",
      "Epoch 31/70\n",
      "Epoch 32/70\n",
      "Epoch 33/70\n",
      "Epoch 34/70\n",
      "Epoch 35/70\n",
      "Epoch 36/70\n",
      "Epoch 37/70\n",
      "Epoch 38/70\n",
      "Epoch 39/70\n",
      "Epoch 40/70\n",
      "Epoch 41/70\n",
      "Epoch 42/70\n",
      "Epoch 43/70\n",
      "Epoch 44/70\n",
      "Epoch 45/70\n",
      "Epoch 46/70\n",
      "Epoch 47/70\n",
      "Epoch 48/70\n",
      "Epoch 49/70\n",
      "Epoch 50/70\n",
      "Epoch 51/70\n",
      "Epoch 52/70\n",
      "Epoch 53/70\n",
      "Epoch 54/70\n",
      "Epoch 55/70\n",
      "Epoch 56/70\n",
      "Epoch 57/70\n",
      "Epoch 58/70\n",
      "Epoch 59/70\n",
      "Epoch 60/70\n",
      "Epoch 61/70\n",
      "Epoch 62/70\n",
      "Epoch 63/70\n",
      "Epoch 64/70\n"
     ]
    },
    {
     "name": "stdout",
     "output_type": "stream",
     "text": [
      "Epoch 65/70\n",
      "Epoch 66/70\n",
      "Epoch 67/70\n",
      "Epoch 68/70\n",
      "Epoch 69/70\n",
      "Epoch 70/70\n",
      "Epoch 1/70\n",
      "Epoch 2/70\n",
      "Epoch 3/70\n",
      "Epoch 4/70\n",
      "Epoch 5/70\n",
      "Epoch 6/70\n",
      "Epoch 7/70\n",
      "Epoch 8/70\n",
      "Epoch 9/70\n",
      "Epoch 10/70\n",
      "Epoch 11/70\n",
      "Epoch 12/70\n",
      "Epoch 13/70\n",
      "Epoch 14/70\n",
      "Epoch 15/70\n",
      "Epoch 16/70\n",
      "Epoch 17/70\n",
      "Epoch 18/70\n",
      "Epoch 19/70\n",
      "Epoch 20/70\n",
      "Epoch 21/70\n",
      "Epoch 22/70\n",
      "Epoch 23/70\n",
      "Epoch 24/70\n",
      "Epoch 25/70\n",
      "Epoch 26/70\n",
      "Epoch 27/70\n",
      "Epoch 28/70\n",
      "Epoch 29/70\n",
      "Epoch 30/70\n",
      "Epoch 31/70\n",
      "Epoch 32/70\n",
      "Epoch 33/70\n",
      "Epoch 34/70\n",
      "Epoch 35/70\n",
      "Epoch 36/70\n",
      "Epoch 37/70\n",
      "Epoch 38/70\n",
      "Epoch 39/70\n",
      "Epoch 40/70\n",
      "Epoch 41/70\n",
      "Epoch 42/70\n",
      "Epoch 43/70\n",
      "Epoch 44/70\n",
      "Epoch 45/70\n",
      "Epoch 46/70\n",
      "Epoch 47/70\n",
      "Epoch 48/70\n",
      "Epoch 49/70\n",
      "Epoch 50/70\n",
      "Epoch 51/70\n",
      "Epoch 52/70\n",
      "Epoch 53/70\n",
      "Epoch 54/70\n",
      "Epoch 55/70\n",
      "Epoch 56/70\n",
      "Epoch 57/70\n",
      "Epoch 58/70\n",
      "Epoch 59/70\n",
      "Epoch 60/70\n",
      "Epoch 61/70\n",
      "Epoch 62/70\n",
      "Epoch 63/70\n",
      "Epoch 64/70\n",
      "Epoch 65/70\n",
      "Epoch 66/70\n",
      "Epoch 67/70\n",
      "Epoch 68/70\n",
      "Epoch 69/70\n",
      "Epoch 70/70\n",
      "Epoch 1/70\n",
      "Epoch 2/70\n",
      "Epoch 3/70\n",
      "Epoch 4/70\n",
      "Epoch 5/70\n",
      "Epoch 6/70\n",
      "Epoch 7/70\n",
      "Epoch 8/70\n",
      "Epoch 9/70\n",
      "Epoch 10/70\n",
      "Epoch 11/70\n",
      "Epoch 12/70\n",
      "Epoch 13/70\n",
      "Epoch 14/70\n",
      "Epoch 15/70\n",
      "Epoch 16/70\n",
      "Epoch 17/70\n",
      "Epoch 18/70\n",
      "Epoch 19/70\n",
      "Epoch 20/70\n",
      "Epoch 21/70\n",
      "Epoch 22/70\n",
      "Epoch 23/70\n",
      "Epoch 24/70\n",
      "Epoch 25/70\n",
      "Epoch 26/70\n",
      "Epoch 27/70\n",
      "Epoch 28/70\n",
      "Epoch 29/70\n",
      "Epoch 30/70\n",
      "Epoch 31/70\n",
      "Epoch 32/70\n",
      "Epoch 33/70\n",
      "Epoch 34/70\n",
      "Epoch 35/70\n",
      "Epoch 36/70\n",
      "Epoch 37/70\n",
      "Epoch 38/70\n",
      "Epoch 39/70\n",
      "Epoch 40/70\n",
      "Epoch 41/70\n",
      "Epoch 42/70\n",
      "Epoch 43/70\n",
      "Epoch 44/70\n",
      "Epoch 45/70\n",
      "Epoch 46/70\n",
      "Epoch 47/70\n",
      "Epoch 48/70\n",
      "Epoch 49/70\n",
      "Epoch 50/70\n",
      "Epoch 51/70\n",
      "Epoch 52/70\n",
      "Epoch 53/70\n",
      "Epoch 54/70\n",
      "Epoch 55/70\n",
      "Epoch 56/70\n",
      "Epoch 57/70\n",
      "Epoch 58/70\n",
      "Epoch 59/70\n",
      "Epoch 60/70\n",
      "Epoch 61/70\n",
      "Epoch 62/70\n",
      "Epoch 63/70\n",
      "Epoch 64/70\n",
      "Epoch 65/70\n",
      "Epoch 66/70\n",
      "Epoch 67/70\n",
      "Epoch 68/70\n",
      "Epoch 69/70\n",
      "Epoch 70/70\n",
      "Epoch 1/70\n",
      "Epoch 2/70\n",
      "Epoch 3/70\n",
      "Epoch 4/70\n",
      "Epoch 5/70\n",
      "Epoch 6/70\n",
      "Epoch 7/70\n",
      "Epoch 8/70\n",
      "Epoch 9/70\n",
      "Epoch 10/70\n",
      "Epoch 11/70\n",
      "Epoch 12/70\n",
      "Epoch 13/70\n",
      "Epoch 14/70\n",
      "Epoch 15/70\n",
      "Epoch 16/70\n",
      "Epoch 17/70\n",
      "Epoch 18/70\n",
      "Epoch 19/70\n",
      "Epoch 20/70\n",
      "Epoch 21/70\n",
      "Epoch 22/70\n",
      "Epoch 23/70\n",
      "Epoch 24/70\n",
      "Epoch 25/70\n",
      "Epoch 26/70\n",
      "Epoch 27/70\n",
      "Epoch 28/70\n",
      "Epoch 29/70\n",
      "Epoch 30/70\n",
      "Epoch 31/70\n",
      "Epoch 32/70\n",
      "Epoch 33/70\n",
      "Epoch 34/70\n",
      "Epoch 35/70\n",
      "Epoch 36/70\n",
      "Epoch 37/70\n",
      "Epoch 38/70\n",
      "Epoch 39/70\n",
      "Epoch 40/70\n",
      "Epoch 41/70\n",
      "Epoch 42/70\n",
      "Epoch 43/70\n",
      "Epoch 44/70\n",
      "Epoch 45/70\n",
      "Epoch 46/70\n",
      "Epoch 47/70\n",
      "Epoch 48/70\n",
      "Epoch 49/70\n",
      "Epoch 50/70\n",
      "Epoch 51/70\n",
      "Epoch 52/70\n",
      "Epoch 53/70\n",
      "Epoch 54/70\n",
      "Epoch 55/70\n",
      "Epoch 56/70\n",
      "Epoch 57/70\n",
      "Epoch 58/70\n",
      "Epoch 59/70\n",
      "Epoch 60/70\n",
      "Epoch 61/70\n",
      "Epoch 62/70\n",
      "Epoch 63/70\n",
      "Epoch 64/70\n",
      "Epoch 65/70\n",
      "Epoch 66/70\n",
      "Epoch 67/70\n",
      "Epoch 68/70\n",
      "Epoch 69/70\n",
      "Epoch 70/70\n",
      "Epoch 1/70\n",
      "Epoch 2/70\n",
      "Epoch 3/70\n",
      "Epoch 4/70\n",
      "Epoch 5/70\n",
      "Epoch 6/70\n",
      "Epoch 7/70\n",
      "Epoch 8/70\n",
      "Epoch 9/70\n",
      "Epoch 10/70\n",
      "Epoch 11/70\n",
      "Epoch 12/70\n",
      "Epoch 13/70\n",
      "Epoch 14/70\n",
      "Epoch 15/70\n",
      "Epoch 16/70\n",
      "Epoch 17/70\n",
      "Epoch 18/70\n",
      "Epoch 19/70\n",
      "Epoch 20/70\n",
      "Epoch 21/70\n",
      "Epoch 22/70\n",
      "Epoch 23/70\n",
      "Epoch 24/70\n",
      "Epoch 25/70\n",
      "Epoch 26/70\n",
      "Epoch 27/70\n",
      "Epoch 28/70\n",
      "Epoch 29/70\n",
      "Epoch 30/70\n",
      "Epoch 31/70\n",
      "Epoch 32/70\n",
      "Epoch 33/70\n",
      "Epoch 34/70\n",
      "Epoch 35/70\n",
      "Epoch 36/70\n",
      "Epoch 37/70\n",
      "Epoch 38/70\n",
      "Epoch 39/70\n",
      "Epoch 40/70\n",
      "Epoch 41/70\n",
      "Epoch 42/70\n",
      "Epoch 43/70\n",
      "Epoch 44/70\n",
      "Epoch 45/70\n",
      "Epoch 46/70\n",
      "Epoch 47/70\n",
      "Epoch 48/70\n",
      "Epoch 49/70\n",
      "Epoch 50/70\n",
      "Epoch 51/70\n",
      "Epoch 52/70\n",
      "Epoch 53/70\n",
      "Epoch 54/70\n",
      "Epoch 55/70\n",
      "Epoch 56/70\n",
      "Epoch 57/70\n",
      "Epoch 58/70\n",
      "Epoch 59/70\n",
      "Epoch 60/70\n",
      "Epoch 61/70\n",
      "Epoch 62/70\n",
      "Epoch 63/70\n",
      "Epoch 64/70\n",
      "Epoch 65/70\n",
      "Epoch 66/70\n",
      "Epoch 67/70\n",
      "Epoch 68/70\n",
      "Epoch 69/70\n",
      "Epoch 70/70\n",
      "Epoch 1/70\n",
      "Epoch 2/70\n",
      "Epoch 3/70\n",
      "Epoch 4/70\n",
      "Epoch 5/70\n",
      "Epoch 6/70\n",
      "Epoch 7/70\n",
      "Epoch 8/70\n",
      "Epoch 9/70\n",
      "Epoch 10/70\n",
      "Epoch 11/70\n",
      "Epoch 12/70\n",
      "Epoch 13/70\n",
      "Epoch 14/70\n",
      "Epoch 15/70\n",
      "Epoch 16/70\n",
      "Epoch 17/70\n",
      "Epoch 18/70\n",
      "Epoch 19/70\n",
      "Epoch 20/70\n",
      "Epoch 21/70\n",
      "Epoch 22/70\n",
      "Epoch 23/70\n",
      "Epoch 24/70\n",
      "Epoch 25/70\n",
      "Epoch 26/70\n",
      "Epoch 27/70\n",
      "Epoch 28/70\n",
      "Epoch 29/70\n",
      "Epoch 30/70\n",
      "Epoch 31/70\n",
      "Epoch 32/70\n",
      "Epoch 33/70\n",
      "Epoch 34/70\n",
      "Epoch 35/70\n",
      "Epoch 36/70\n",
      "Epoch 37/70\n",
      "Epoch 38/70\n",
      "Epoch 39/70\n",
      "Epoch 40/70\n",
      "Epoch 41/70\n",
      "Epoch 42/70\n",
      "Epoch 43/70\n",
      "Epoch 44/70\n",
      "Epoch 45/70\n",
      "Epoch 46/70\n",
      "Epoch 47/70\n",
      "Epoch 48/70\n",
      "Epoch 49/70\n",
      "Epoch 50/70\n",
      "Epoch 51/70\n",
      "Epoch 52/70\n",
      "Epoch 53/70\n",
      "Epoch 54/70\n",
      "Epoch 55/70\n",
      "Epoch 56/70\n",
      "Epoch 57/70\n",
      "Epoch 58/70\n",
      "Epoch 59/70\n",
      "Epoch 60/70\n",
      "Epoch 61/70\n",
      "Epoch 62/70\n",
      "Epoch 63/70\n",
      "Epoch 64/70\n",
      "Epoch 65/70\n",
      "Epoch 66/70\n",
      "Epoch 67/70\n",
      "Epoch 68/70\n",
      "Epoch 69/70\n",
      "Epoch 70/70\n",
      "Epoch 1/70\n",
      "Epoch 2/70\n",
      "Epoch 3/70\n",
      "Epoch 4/70\n",
      "Epoch 5/70\n",
      "Epoch 6/70\n",
      "Epoch 7/70\n",
      "Epoch 8/70\n",
      "Epoch 9/70\n",
      "Epoch 10/70\n",
      "Epoch 11/70\n",
      "Epoch 12/70\n",
      "Epoch 13/70\n",
      "Epoch 14/70\n",
      "Epoch 15/70\n",
      "Epoch 16/70\n",
      "Epoch 17/70\n",
      "Epoch 18/70\n",
      "Epoch 19/70\n",
      "Epoch 20/70\n",
      "Epoch 21/70\n",
      "Epoch 22/70\n",
      "Epoch 23/70\n",
      "Epoch 24/70\n",
      "Epoch 25/70\n",
      "Epoch 26/70\n",
      "Epoch 27/70\n",
      "Epoch 28/70\n",
      "Epoch 29/70\n",
      "Epoch 30/70\n",
      "Epoch 31/70\n",
      "Epoch 32/70\n",
      "Epoch 33/70\n",
      "Epoch 34/70\n",
      "Epoch 35/70\n",
      "Epoch 36/70\n",
      "Epoch 37/70\n",
      "Epoch 38/70\n",
      "Epoch 39/70\n",
      "Epoch 40/70\n",
      "Epoch 41/70\n",
      "Epoch 42/70\n",
      "Epoch 43/70\n",
      "Epoch 44/70\n",
      "Epoch 45/70\n",
      "Epoch 46/70\n",
      "Epoch 47/70\n",
      "Epoch 48/70\n",
      "Epoch 49/70\n",
      "Epoch 50/70\n",
      "Epoch 51/70\n",
      "Epoch 52/70\n",
      "Epoch 53/70\n",
      "Epoch 54/70\n",
      "Epoch 55/70\n",
      "Epoch 56/70\n",
      "Epoch 57/70\n",
      "Epoch 58/70\n",
      "Epoch 59/70\n",
      "Epoch 60/70\n",
      "Epoch 61/70\n",
      "Epoch 62/70\n",
      "Epoch 63/70\n",
      "Epoch 64/70\n",
      "Epoch 65/70\n",
      "Epoch 66/70\n",
      "Epoch 67/70\n",
      "Epoch 68/70\n",
      "Epoch 69/70\n",
      "Epoch 70/70\n",
      "Epoch 1/70\n",
      "Epoch 2/70\n",
      "Epoch 3/70\n",
      "Epoch 4/70\n",
      "Epoch 5/70\n",
      "Epoch 6/70\n",
      "Epoch 7/70\n",
      "Epoch 8/70\n",
      "Epoch 9/70\n",
      "Epoch 10/70\n",
      "Epoch 11/70\n",
      "Epoch 12/70\n",
      "Epoch 13/70\n",
      "Epoch 14/70\n",
      "Epoch 15/70\n",
      "Epoch 16/70\n",
      "Epoch 17/70\n",
      "Epoch 18/70\n",
      "Epoch 19/70\n",
      "Epoch 20/70\n",
      "Epoch 21/70\n",
      "Epoch 22/70\n",
      "Epoch 23/70\n",
      "Epoch 24/70\n",
      "Epoch 25/70\n",
      "Epoch 26/70\n",
      "Epoch 27/70\n",
      "Epoch 28/70\n",
      "Epoch 29/70\n",
      "Epoch 30/70\n",
      "Epoch 31/70\n",
      "Epoch 32/70\n",
      "Epoch 33/70\n",
      "Epoch 34/70\n",
      "Epoch 35/70\n",
      "Epoch 36/70\n",
      "Epoch 37/70\n",
      "Epoch 38/70\n",
      "Epoch 39/70\n",
      "Epoch 40/70\n",
      "Epoch 41/70\n",
      "Epoch 42/70\n",
      "Epoch 43/70\n",
      "Epoch 44/70\n",
      "Epoch 45/70\n",
      "Epoch 46/70\n",
      "Epoch 47/70\n",
      "Epoch 48/70\n",
      "Epoch 49/70\n",
      "Epoch 50/70\n",
      "Epoch 51/70\n",
      "Epoch 52/70\n",
      "Epoch 53/70\n",
      "Epoch 54/70\n",
      "Epoch 55/70\n",
      "Epoch 56/70\n",
      "Epoch 57/70\n",
      "Epoch 58/70\n",
      "Epoch 59/70\n",
      "Epoch 60/70\n",
      "Epoch 61/70\n",
      "Epoch 62/70\n",
      "Epoch 63/70\n",
      "Epoch 64/70\n",
      "Epoch 65/70\n",
      "Epoch 66/70\n",
      "Epoch 67/70\n",
      "Epoch 68/70\n",
      "Epoch 69/70\n",
      "Epoch 70/70\n",
      "Epoch 1/70\n",
      "Epoch 2/70\n",
      "Epoch 3/70\n",
      "Epoch 4/70\n",
      "Epoch 5/70\n",
      "Epoch 6/70\n",
      "Epoch 7/70\n",
      "Epoch 8/70\n",
      "Epoch 9/70\n",
      "Epoch 10/70\n",
      "Epoch 11/70\n",
      "Epoch 12/70\n",
      "Epoch 13/70\n",
      "Epoch 14/70\n",
      "Epoch 15/70\n",
      "Epoch 16/70\n",
      "Epoch 17/70\n",
      "Epoch 18/70\n",
      "Epoch 19/70\n",
      "Epoch 20/70\n",
      "Epoch 21/70\n",
      "Epoch 22/70\n",
      "Epoch 23/70\n",
      "Epoch 24/70\n",
      "Epoch 25/70\n",
      "Epoch 26/70\n",
      "Epoch 27/70\n",
      "Epoch 28/70\n",
      "Epoch 29/70\n",
      "Epoch 30/70\n",
      "Epoch 31/70\n",
      "Epoch 32/70\n",
      "Epoch 33/70\n",
      "Epoch 34/70\n",
      "Epoch 35/70\n",
      "Epoch 36/70\n",
      "Epoch 37/70\n",
      "Epoch 38/70\n",
      "Epoch 39/70\n",
      "Epoch 40/70\n",
      "Epoch 41/70\n",
      "Epoch 42/70\n",
      "Epoch 43/70\n",
      "Epoch 44/70\n",
      "Epoch 45/70\n",
      "Epoch 46/70\n",
      "Epoch 47/70\n",
      "Epoch 48/70\n",
      "Epoch 49/70\n",
      "Epoch 50/70\n",
      "Epoch 51/70\n",
      "Epoch 52/70\n",
      "Epoch 53/70\n",
      "Epoch 54/70\n",
      "Epoch 55/70\n",
      "Epoch 56/70\n",
      "Epoch 57/70\n",
      "Epoch 58/70\n",
      "Epoch 59/70\n",
      "Epoch 60/70\n",
      "Epoch 61/70\n",
      "Epoch 62/70\n",
      "Epoch 63/70\n",
      "Epoch 64/70\n",
      "Epoch 65/70\n",
      "Epoch 66/70\n",
      "Epoch 67/70\n",
      "Epoch 68/70\n",
      "Epoch 69/70\n",
      "Epoch 70/70\n",
      "Epoch 1/70\n",
      "Epoch 2/70\n",
      "Epoch 3/70\n",
      "Epoch 4/70\n",
      "Epoch 5/70\n",
      "Epoch 6/70\n",
      "Epoch 7/70\n",
      "Epoch 8/70\n",
      "Epoch 9/70\n",
      "Epoch 10/70\n",
      "Epoch 11/70\n",
      "Epoch 12/70\n",
      "Epoch 13/70\n",
      "Epoch 14/70\n",
      "Epoch 15/70\n",
      "Epoch 16/70\n",
      "Epoch 17/70\n",
      "Epoch 18/70\n",
      "Epoch 19/70\n",
      "Epoch 20/70\n",
      "Epoch 21/70\n",
      "Epoch 22/70\n",
      "Epoch 23/70\n",
      "Epoch 24/70\n",
      "Epoch 25/70\n",
      "Epoch 26/70\n",
      "Epoch 27/70\n",
      "Epoch 28/70\n",
      "Epoch 29/70\n",
      "Epoch 30/70\n",
      "Epoch 31/70\n",
      "Epoch 32/70\n",
      "Epoch 33/70\n",
      "Epoch 34/70\n",
      "Epoch 35/70\n",
      "Epoch 36/70\n",
      "Epoch 37/70\n",
      "Epoch 38/70\n",
      "Epoch 39/70\n",
      "Epoch 40/70\n",
      "Epoch 41/70\n",
      "Epoch 42/70\n",
      "Epoch 43/70\n",
      "Epoch 44/70\n",
      "Epoch 45/70\n",
      "Epoch 46/70\n",
      "Epoch 47/70\n",
      "Epoch 48/70\n",
      "Epoch 49/70\n",
      "Epoch 50/70\n",
      "Epoch 51/70\n",
      "Epoch 52/70\n",
      "Epoch 53/70\n",
      "Epoch 54/70\n",
      "Epoch 55/70\n",
      "Epoch 56/70\n",
      "Epoch 57/70\n",
      "Epoch 58/70\n",
      "Epoch 59/70\n",
      "Epoch 60/70\n",
      "Epoch 61/70\n",
      "Epoch 62/70\n",
      "Epoch 63/70\n",
      "Epoch 64/70\n",
      "Epoch 65/70\n",
      "Epoch 66/70\n",
      "Epoch 67/70\n",
      "Epoch 68/70\n",
      "Epoch 69/70\n",
      "Epoch 70/70\n",
      "Epoch 1/70\n",
      "Epoch 2/70\n",
      "Epoch 3/70\n",
      "Epoch 4/70\n",
      "Epoch 5/70\n",
      "Epoch 6/70\n",
      "Epoch 7/70\n",
      "Epoch 8/70\n",
      "Epoch 9/70\n",
      "Epoch 10/70\n",
      "Epoch 11/70\n",
      "Epoch 12/70\n",
      "Epoch 13/70\n",
      "Epoch 14/70\n",
      "Epoch 15/70\n",
      "Epoch 16/70\n",
      "Epoch 17/70\n",
      "Epoch 18/70\n",
      "Epoch 19/70\n",
      "Epoch 20/70\n",
      "Epoch 21/70\n",
      "Epoch 22/70\n",
      "Epoch 23/70\n",
      "Epoch 24/70\n",
      "Epoch 25/70\n",
      "Epoch 26/70\n",
      "Epoch 27/70\n",
      "Epoch 28/70\n",
      "Epoch 29/70\n",
      "Epoch 30/70\n",
      "Epoch 31/70\n",
      "Epoch 32/70\n",
      "Epoch 33/70\n",
      "Epoch 34/70\n",
      "Epoch 35/70\n",
      "Epoch 36/70\n",
      "Epoch 37/70\n",
      "Epoch 38/70\n",
      "Epoch 39/70\n",
      "Epoch 40/70\n",
      "Epoch 41/70\n",
      "Epoch 42/70\n",
      "Epoch 43/70\n",
      "Epoch 44/70\n",
      "Epoch 45/70\n",
      "Epoch 46/70\n",
      "Epoch 47/70\n",
      "Epoch 48/70\n",
      "Epoch 49/70\n",
      "Epoch 50/70\n",
      "Epoch 51/70\n",
      "Epoch 52/70\n",
      "Epoch 53/70\n",
      "Epoch 54/70\n",
      "Epoch 55/70\n",
      "Epoch 56/70\n",
      "Epoch 57/70\n",
      "Epoch 58/70\n",
      "Epoch 59/70\n",
      "Epoch 60/70\n",
      "Epoch 61/70\n"
     ]
    },
    {
     "name": "stdout",
     "output_type": "stream",
     "text": [
      "Epoch 62/70\n",
      "Epoch 63/70\n",
      "Epoch 64/70\n",
      "Epoch 65/70\n",
      "Epoch 66/70\n",
      "Epoch 67/70\n",
      "Epoch 68/70\n",
      "Epoch 69/70\n",
      "Epoch 70/70\n",
      "Epoch 1/70\n",
      "Epoch 2/70\n",
      "Epoch 3/70\n",
      "Epoch 4/70\n",
      "Epoch 5/70\n",
      "Epoch 6/70\n",
      "Epoch 7/70\n",
      "Epoch 8/70\n",
      "Epoch 9/70\n",
      "Epoch 10/70\n",
      "Epoch 11/70\n",
      "Epoch 12/70\n",
      "Epoch 13/70\n",
      "Epoch 14/70\n",
      "Epoch 15/70\n",
      "Epoch 16/70\n",
      "Epoch 17/70\n",
      "Epoch 18/70\n",
      "Epoch 19/70\n",
      "Epoch 20/70\n",
      "Epoch 21/70\n",
      "Epoch 22/70\n",
      "Epoch 23/70\n",
      "Epoch 24/70\n",
      "Epoch 25/70\n",
      "Epoch 26/70\n",
      "Epoch 27/70\n",
      "Epoch 28/70\n",
      "Epoch 29/70\n",
      "Epoch 30/70\n",
      "Epoch 31/70\n",
      "Epoch 32/70\n",
      "Epoch 33/70\n",
      "Epoch 34/70\n",
      "Epoch 35/70\n",
      "Epoch 36/70\n",
      "Epoch 37/70\n",
      "Epoch 38/70\n",
      "Epoch 39/70\n",
      "Epoch 40/70\n",
      "Epoch 41/70\n",
      "Epoch 42/70\n",
      "Epoch 43/70\n",
      "Epoch 44/70\n",
      "Epoch 45/70\n",
      "Epoch 46/70\n",
      "Epoch 47/70\n",
      "Epoch 48/70\n",
      "Epoch 49/70\n",
      "Epoch 50/70\n",
      "Epoch 51/70\n",
      "Epoch 52/70\n",
      "Epoch 53/70\n",
      "Epoch 54/70\n",
      "Epoch 55/70\n",
      "Epoch 56/70\n",
      "Epoch 57/70\n",
      "Epoch 58/70\n",
      "Epoch 59/70\n",
      "Epoch 60/70\n",
      "Epoch 61/70\n",
      "Epoch 62/70\n",
      "Epoch 63/70\n",
      "Epoch 64/70\n",
      "Epoch 65/70\n",
      "Epoch 66/70\n",
      "Epoch 67/70\n",
      "Epoch 68/70\n",
      "Epoch 69/70\n",
      "Epoch 70/70\n",
      "Epoch 1/70\n",
      "Epoch 2/70\n",
      "Epoch 3/70\n",
      "Epoch 4/70\n",
      "Epoch 5/70\n",
      "Epoch 6/70\n",
      "Epoch 7/70\n",
      "Epoch 8/70\n",
      "Epoch 9/70\n",
      "Epoch 10/70\n",
      "Epoch 11/70\n",
      "Epoch 12/70\n",
      "Epoch 13/70\n",
      "Epoch 14/70\n",
      "Epoch 15/70\n",
      "Epoch 16/70\n",
      "Epoch 17/70\n",
      "Epoch 18/70\n",
      "Epoch 19/70\n",
      "Epoch 20/70\n",
      "Epoch 21/70\n",
      "Epoch 22/70\n",
      "Epoch 23/70\n",
      "Epoch 24/70\n",
      "Epoch 25/70\n",
      "Epoch 26/70\n",
      "Epoch 27/70\n",
      "Epoch 28/70\n",
      "Epoch 29/70\n",
      "Epoch 30/70\n",
      "Epoch 31/70\n",
      "Epoch 32/70\n",
      "Epoch 33/70\n",
      "Epoch 34/70\n",
      "Epoch 35/70\n",
      "Epoch 36/70\n",
      "Epoch 37/70\n",
      "Epoch 38/70\n",
      "Epoch 39/70\n",
      "Epoch 40/70\n",
      "Epoch 41/70\n",
      "Epoch 42/70\n",
      "Epoch 43/70\n",
      "Epoch 44/70\n",
      "Epoch 45/70\n",
      "Epoch 46/70\n",
      "Epoch 47/70\n",
      "Epoch 48/70\n",
      "Epoch 49/70\n",
      "Epoch 50/70\n",
      "Epoch 51/70\n",
      "Epoch 52/70\n",
      "Epoch 53/70\n",
      "Epoch 54/70\n",
      "Epoch 55/70\n",
      "Epoch 56/70\n",
      "Epoch 57/70\n",
      "Epoch 58/70\n",
      "Epoch 59/70\n",
      "Epoch 60/70\n",
      "Epoch 61/70\n",
      "Epoch 62/70\n",
      "Epoch 63/70\n",
      "Epoch 64/70\n",
      "Epoch 65/70\n",
      "Epoch 66/70\n",
      "Epoch 67/70\n",
      "Epoch 68/70\n",
      "Epoch 69/70\n",
      "Epoch 70/70\n",
      "Epoch 1/70\n",
      "Epoch 2/70\n",
      "Epoch 3/70\n",
      "Epoch 4/70\n",
      "Epoch 5/70\n",
      "Epoch 6/70\n",
      "Epoch 7/70\n",
      "Epoch 8/70\n",
      "Epoch 9/70\n",
      "Epoch 10/70\n",
      "Epoch 11/70\n",
      "Epoch 12/70\n",
      "Epoch 13/70\n",
      "Epoch 14/70\n",
      "Epoch 15/70\n",
      "Epoch 16/70\n",
      "Epoch 17/70\n",
      "Epoch 18/70\n",
      "Epoch 19/70\n",
      "Epoch 20/70\n",
      "Epoch 21/70\n",
      "Epoch 22/70\n",
      "Epoch 23/70\n",
      "Epoch 24/70\n",
      "Epoch 25/70\n",
      "Epoch 26/70\n",
      "Epoch 27/70\n",
      "Epoch 28/70\n",
      "Epoch 29/70\n",
      "Epoch 30/70\n",
      "Epoch 31/70\n",
      "Epoch 32/70\n",
      "Epoch 33/70\n",
      "Epoch 34/70\n",
      "Epoch 35/70\n",
      "Epoch 36/70\n",
      "Epoch 37/70\n",
      "Epoch 38/70\n",
      "Epoch 39/70\n",
      "Epoch 40/70\n",
      "Epoch 41/70\n",
      "Epoch 42/70\n",
      "Epoch 43/70\n",
      "Epoch 44/70\n",
      "Epoch 45/70\n",
      "Epoch 46/70\n",
      "Epoch 47/70\n",
      "Epoch 48/70\n",
      "Epoch 49/70\n",
      "Epoch 50/70\n",
      "Epoch 51/70\n",
      "Epoch 52/70\n",
      "Epoch 53/70\n",
      "Epoch 54/70\n",
      "Epoch 55/70\n",
      "Epoch 56/70\n",
      "Epoch 57/70\n",
      "Epoch 58/70\n",
      "Epoch 59/70\n",
      "Epoch 60/70\n",
      "Epoch 61/70\n",
      "Epoch 62/70\n",
      "Epoch 63/70\n",
      "Epoch 64/70\n",
      "Epoch 65/70\n",
      "Epoch 66/70\n",
      "Epoch 67/70\n",
      "Epoch 68/70\n",
      "Epoch 69/70\n",
      "Epoch 70/70\n",
      "Epoch 1/70\n",
      "Epoch 2/70\n",
      "Epoch 3/70\n",
      "Epoch 4/70\n",
      "Epoch 5/70\n",
      "Epoch 6/70\n",
      "Epoch 7/70\n",
      "Epoch 8/70\n",
      "Epoch 9/70\n",
      "Epoch 10/70\n",
      "Epoch 11/70\n",
      "Epoch 12/70\n",
      "Epoch 13/70\n",
      "Epoch 14/70\n",
      "Epoch 15/70\n",
      "Epoch 16/70\n",
      "Epoch 17/70\n",
      "Epoch 18/70\n",
      "Epoch 19/70\n",
      "Epoch 20/70\n",
      "Epoch 21/70\n",
      "Epoch 22/70\n",
      "Epoch 23/70\n",
      "Epoch 24/70\n",
      "Epoch 25/70\n",
      "Epoch 26/70\n",
      "Epoch 27/70\n",
      "Epoch 28/70\n",
      "Epoch 29/70\n",
      "Epoch 30/70\n",
      "Epoch 31/70\n",
      "Epoch 32/70\n",
      "Epoch 33/70\n",
      "Epoch 34/70\n",
      "Epoch 35/70\n",
      "Epoch 36/70\n",
      "Epoch 37/70\n",
      "Epoch 38/70\n",
      "Epoch 39/70\n",
      "Epoch 40/70\n",
      "Epoch 41/70\n",
      "Epoch 42/70\n",
      "Epoch 43/70\n",
      "Epoch 44/70\n",
      "Epoch 45/70\n",
      "Epoch 46/70\n",
      "Epoch 47/70\n",
      "Epoch 48/70\n",
      "Epoch 49/70\n",
      "Epoch 50/70\n",
      "Epoch 51/70\n",
      "Epoch 52/70\n",
      "Epoch 53/70\n",
      "Epoch 54/70\n",
      "Epoch 55/70\n",
      "Epoch 56/70\n",
      "Epoch 57/70\n",
      "Epoch 58/70\n",
      "Epoch 59/70\n",
      "Epoch 60/70\n",
      "Epoch 61/70\n",
      "Epoch 62/70\n",
      "Epoch 63/70\n",
      "Epoch 64/70\n",
      "Epoch 65/70\n",
      "Epoch 66/70\n",
      "Epoch 67/70\n",
      "Epoch 68/70\n",
      "Epoch 69/70\n",
      "Epoch 70/70\n",
      "Epoch 1/70\n",
      "Epoch 2/70\n",
      "Epoch 3/70\n",
      "Epoch 4/70\n",
      "Epoch 5/70\n",
      "Epoch 6/70\n",
      "Epoch 7/70\n",
      "Epoch 8/70\n",
      "Epoch 9/70\n",
      "Epoch 10/70\n",
      "Epoch 11/70\n",
      "Epoch 12/70\n",
      "Epoch 13/70\n",
      "Epoch 14/70\n",
      "Epoch 15/70\n",
      "Epoch 16/70\n",
      "Epoch 17/70\n",
      "Epoch 18/70\n",
      "Epoch 19/70\n",
      "Epoch 20/70\n",
      "Epoch 21/70\n",
      "Epoch 22/70\n",
      "Epoch 23/70\n",
      "Epoch 24/70\n",
      "Epoch 25/70\n",
      "Epoch 26/70\n",
      "Epoch 27/70\n",
      "Epoch 28/70\n",
      "Epoch 29/70\n",
      "Epoch 30/70\n",
      "Epoch 31/70\n",
      "Epoch 32/70\n",
      "Epoch 33/70\n",
      "Epoch 34/70\n",
      "Epoch 35/70\n",
      "Epoch 36/70\n",
      "Epoch 37/70\n",
      "Epoch 38/70\n",
      "Epoch 39/70\n",
      "Epoch 40/70\n",
      "Epoch 41/70\n",
      "Epoch 42/70\n",
      "Epoch 43/70\n",
      "Epoch 44/70\n",
      "Epoch 45/70\n",
      "Epoch 46/70\n",
      "Epoch 47/70\n",
      "Epoch 48/70\n",
      "Epoch 49/70\n",
      "Epoch 50/70\n",
      "Epoch 51/70\n",
      "Epoch 52/70\n",
      "Epoch 53/70\n",
      "Epoch 54/70\n",
      "Epoch 55/70\n",
      "Epoch 56/70\n",
      "Epoch 57/70\n",
      "Epoch 58/70\n",
      "Epoch 59/70\n",
      "Epoch 60/70\n",
      "Epoch 61/70\n",
      "Epoch 62/70\n",
      "Epoch 63/70\n",
      "Epoch 64/70\n",
      "Epoch 65/70\n",
      "Epoch 66/70\n",
      "Epoch 67/70\n",
      "Epoch 68/70\n",
      "Epoch 69/70\n",
      "Epoch 70/70\n",
      "Epoch 1/70\n",
      "Epoch 2/70\n",
      "Epoch 3/70\n",
      "Epoch 4/70\n",
      "Epoch 5/70\n",
      "Epoch 6/70\n",
      "Epoch 7/70\n",
      "Epoch 8/70\n",
      "Epoch 9/70\n",
      "Epoch 10/70\n",
      "Epoch 11/70\n",
      "Epoch 12/70\n",
      "Epoch 13/70\n",
      "Epoch 14/70\n",
      "Epoch 15/70\n",
      "Epoch 16/70\n",
      "Epoch 17/70\n",
      "Epoch 18/70\n",
      "Epoch 19/70\n",
      "Epoch 20/70\n",
      "Epoch 21/70\n",
      "Epoch 22/70\n",
      "Epoch 23/70\n",
      "Epoch 24/70\n",
      "Epoch 25/70\n",
      "Epoch 26/70\n",
      "Epoch 27/70\n",
      "Epoch 28/70\n",
      "Epoch 29/70\n",
      "Epoch 30/70\n",
      "Epoch 31/70\n",
      "Epoch 32/70\n",
      "Epoch 33/70\n",
      "Epoch 34/70\n",
      "Epoch 35/70\n",
      "Epoch 36/70\n",
      "Epoch 37/70\n",
      "Epoch 38/70\n",
      "Epoch 39/70\n",
      "Epoch 40/70\n",
      "Epoch 41/70\n",
      "Epoch 42/70\n",
      "Epoch 43/70\n",
      "Epoch 44/70\n",
      "Epoch 45/70\n",
      "Epoch 46/70\n",
      "Epoch 47/70\n",
      "Epoch 48/70\n",
      "Epoch 49/70\n",
      "Epoch 50/70\n",
      "Epoch 51/70\n",
      "Epoch 52/70\n",
      "Epoch 53/70\n",
      "Epoch 54/70\n",
      "Epoch 55/70\n",
      "Epoch 56/70\n",
      "Epoch 57/70\n",
      "Epoch 58/70\n",
      "Epoch 59/70\n",
      "Epoch 60/70\n",
      "Epoch 61/70\n",
      "Epoch 62/70\n",
      "Epoch 63/70\n",
      "Epoch 64/70\n",
      "Epoch 65/70\n",
      "Epoch 66/70\n",
      "Epoch 67/70\n",
      "Epoch 68/70\n",
      "Epoch 69/70\n",
      "Epoch 70/70\n",
      "Epoch 1/70\n",
      "Epoch 2/70\n",
      "Epoch 3/70\n",
      "Epoch 4/70\n",
      "Epoch 5/70\n",
      "Epoch 6/70\n",
      "Epoch 7/70\n",
      "Epoch 8/70\n",
      "Epoch 9/70\n",
      "Epoch 10/70\n",
      "Epoch 11/70\n",
      "Epoch 12/70\n",
      "Epoch 13/70\n",
      "Epoch 14/70\n",
      "Epoch 15/70\n",
      "Epoch 16/70\n",
      "Epoch 17/70\n",
      "Epoch 18/70\n",
      "Epoch 19/70\n",
      "Epoch 20/70\n",
      "Epoch 21/70\n",
      "Epoch 22/70\n",
      "Epoch 23/70\n",
      "Epoch 24/70\n",
      "Epoch 25/70\n",
      "Epoch 26/70\n",
      "Epoch 27/70\n",
      "Epoch 28/70\n",
      "Epoch 29/70\n",
      "Epoch 30/70\n",
      "Epoch 31/70\n",
      "Epoch 32/70\n",
      "Epoch 33/70\n",
      "Epoch 34/70\n",
      "Epoch 35/70\n",
      "Epoch 36/70\n",
      "Epoch 37/70\n",
      "Epoch 38/70\n",
      "Epoch 39/70\n",
      "Epoch 40/70\n",
      "Epoch 41/70\n",
      "Epoch 42/70\n",
      "Epoch 43/70\n",
      "Epoch 44/70\n",
      "Epoch 45/70\n",
      "Epoch 46/70\n",
      "Epoch 47/70\n",
      "Epoch 48/70\n",
      "Epoch 49/70\n",
      "Epoch 50/70\n",
      "Epoch 51/70\n",
      "Epoch 52/70\n",
      "Epoch 53/70\n",
      "Epoch 54/70\n",
      "Epoch 55/70\n",
      "Epoch 56/70\n",
      "Epoch 57/70\n",
      "Epoch 58/70\n",
      "Epoch 59/70\n",
      "Epoch 60/70\n",
      "Epoch 61/70\n",
      "Epoch 62/70\n",
      "Epoch 63/70\n",
      "Epoch 64/70\n",
      "Epoch 65/70\n",
      "Epoch 66/70\n",
      "Epoch 67/70\n",
      "Epoch 68/70\n",
      "Epoch 69/70\n",
      "Epoch 70/70\n",
      "Epoch 1/70\n",
      "Epoch 2/70\n",
      "Epoch 3/70\n",
      "Epoch 4/70\n",
      "Epoch 5/70\n",
      "Epoch 6/70\n",
      "Epoch 7/70\n",
      "Epoch 8/70\n",
      "Epoch 9/70\n",
      "Epoch 10/70\n",
      "Epoch 11/70\n",
      "Epoch 12/70\n",
      "Epoch 13/70\n",
      "Epoch 14/70\n",
      "Epoch 15/70\n",
      "Epoch 16/70\n",
      "Epoch 17/70\n",
      "Epoch 18/70\n",
      "Epoch 19/70\n",
      "Epoch 20/70\n",
      "Epoch 21/70\n",
      "Epoch 22/70\n",
      "Epoch 23/70\n",
      "Epoch 24/70\n",
      "Epoch 25/70\n",
      "Epoch 26/70\n",
      "Epoch 27/70\n",
      "Epoch 28/70\n",
      "Epoch 29/70\n",
      "Epoch 30/70\n",
      "Epoch 31/70\n",
      "Epoch 32/70\n",
      "Epoch 33/70\n",
      "Epoch 34/70\n",
      "Epoch 35/70\n",
      "Epoch 36/70\n",
      "Epoch 37/70\n",
      "Epoch 38/70\n",
      "Epoch 39/70\n",
      "Epoch 40/70\n",
      "Epoch 41/70\n",
      "Epoch 42/70\n",
      "Epoch 43/70\n",
      "Epoch 44/70\n",
      "Epoch 45/70\n",
      "Epoch 46/70\n",
      "Epoch 47/70\n",
      "Epoch 48/70\n",
      "Epoch 49/70\n",
      "Epoch 50/70\n",
      "Epoch 51/70\n",
      "Epoch 52/70\n",
      "Epoch 53/70\n",
      "Epoch 54/70\n",
      "Epoch 55/70\n",
      "Epoch 56/70\n",
      "Epoch 57/70\n",
      "Epoch 58/70\n",
      "Epoch 59/70\n",
      "Epoch 60/70\n",
      "Epoch 61/70\n",
      "Epoch 62/70\n",
      "Epoch 63/70\n",
      "Epoch 64/70\n",
      "Epoch 65/70\n",
      "Epoch 66/70\n",
      "Epoch 67/70\n",
      "Epoch 68/70\n",
      "Epoch 69/70\n",
      "Epoch 70/70\n",
      "Epoch 1/70\n",
      "Epoch 2/70\n",
      "Epoch 3/70\n",
      "Epoch 4/70\n",
      "Epoch 5/70\n",
      "Epoch 6/70\n",
      "Epoch 7/70\n",
      "Epoch 8/70\n",
      "Epoch 9/70\n",
      "Epoch 10/70\n",
      "Epoch 11/70\n",
      "Epoch 12/70\n",
      "Epoch 13/70\n",
      "Epoch 14/70\n",
      "Epoch 15/70\n",
      "Epoch 16/70\n",
      "Epoch 17/70\n",
      "Epoch 18/70\n",
      "Epoch 19/70\n",
      "Epoch 20/70\n",
      "Epoch 21/70\n",
      "Epoch 22/70\n",
      "Epoch 23/70\n",
      "Epoch 24/70\n",
      "Epoch 25/70\n",
      "Epoch 26/70\n",
      "Epoch 27/70\n",
      "Epoch 28/70\n",
      "Epoch 29/70\n",
      "Epoch 30/70\n",
      "Epoch 31/70\n",
      "Epoch 32/70\n",
      "Epoch 33/70\n",
      "Epoch 34/70\n",
      "Epoch 35/70\n",
      "Epoch 36/70\n",
      "Epoch 37/70\n",
      "Epoch 38/70\n",
      "Epoch 39/70\n",
      "Epoch 40/70\n",
      "Epoch 41/70\n",
      "Epoch 42/70\n",
      "Epoch 43/70\n",
      "Epoch 44/70\n",
      "Epoch 45/70\n",
      "Epoch 46/70\n",
      "Epoch 47/70\n",
      "Epoch 48/70\n",
      "Epoch 49/70\n",
      "Epoch 50/70\n",
      "Epoch 51/70\n",
      "Epoch 52/70\n",
      "Epoch 53/70\n",
      "Epoch 54/70\n",
      "Epoch 55/70\n",
      "Epoch 56/70\n",
      "Epoch 57/70\n",
      "Epoch 58/70\n",
      "Epoch 59/70\n",
      "Epoch 60/70\n",
      "Epoch 61/70\n",
      "Epoch 62/70\n",
      "Epoch 63/70\n",
      "Epoch 64/70\n",
      "Epoch 65/70\n",
      "Epoch 66/70\n",
      "Epoch 67/70\n",
      "Epoch 68/70\n",
      "Epoch 69/70\n",
      "Epoch 70/70\n",
      "Epoch 1/70\n",
      "Epoch 2/70\n",
      "Epoch 3/70\n",
      "Epoch 4/70\n",
      "Epoch 5/70\n",
      "Epoch 6/70\n",
      "Epoch 7/70\n",
      "Epoch 8/70\n",
      "Epoch 9/70\n",
      "Epoch 10/70\n",
      "Epoch 11/70\n",
      "Epoch 12/70\n",
      "Epoch 13/70\n",
      "Epoch 14/70\n",
      "Epoch 15/70\n",
      "Epoch 16/70\n",
      "Epoch 17/70\n",
      "Epoch 18/70\n",
      "Epoch 19/70\n",
      "Epoch 20/70\n",
      "Epoch 21/70\n",
      "Epoch 22/70\n",
      "Epoch 23/70\n",
      "Epoch 24/70\n",
      "Epoch 25/70\n",
      "Epoch 26/70\n",
      "Epoch 27/70\n",
      "Epoch 28/70\n",
      "Epoch 29/70\n",
      "Epoch 30/70\n",
      "Epoch 31/70\n",
      "Epoch 32/70\n",
      "Epoch 33/70\n",
      "Epoch 34/70\n",
      "Epoch 35/70\n",
      "Epoch 36/70\n",
      "Epoch 37/70\n",
      "Epoch 38/70\n",
      "Epoch 39/70\n",
      "Epoch 40/70\n",
      "Epoch 41/70\n",
      "Epoch 42/70\n",
      "Epoch 43/70\n",
      "Epoch 44/70\n",
      "Epoch 45/70\n",
      "Epoch 46/70\n",
      "Epoch 47/70\n",
      "Epoch 48/70\n",
      "Epoch 49/70\n",
      "Epoch 50/70\n",
      "Epoch 51/70\n",
      "Epoch 52/70\n",
      "Epoch 53/70\n",
      "Epoch 54/70\n",
      "Epoch 55/70\n",
      "Epoch 56/70\n"
     ]
    },
    {
     "name": "stdout",
     "output_type": "stream",
     "text": [
      "Epoch 57/70\n",
      "Epoch 58/70\n",
      "Epoch 59/70\n",
      "Epoch 60/70\n",
      "Epoch 61/70\n",
      "Epoch 62/70\n",
      "Epoch 63/70\n",
      "Epoch 64/70\n",
      "Epoch 65/70\n",
      "Epoch 66/70\n",
      "Epoch 67/70\n",
      "Epoch 68/70\n",
      "Epoch 69/70\n",
      "Epoch 70/70\n",
      "Epoch 1/70\n",
      "Epoch 2/70\n",
      "Epoch 3/70\n",
      "Epoch 4/70\n",
      "Epoch 5/70\n",
      "Epoch 6/70\n",
      "Epoch 7/70\n",
      "Epoch 8/70\n",
      "Epoch 9/70\n",
      "Epoch 10/70\n",
      "Epoch 11/70\n",
      "Epoch 12/70\n",
      "Epoch 13/70\n",
      "Epoch 14/70\n",
      "Epoch 15/70\n",
      "Epoch 16/70\n",
      "Epoch 17/70\n",
      "Epoch 18/70\n",
      "Epoch 19/70\n",
      "Epoch 20/70\n",
      "Epoch 21/70\n",
      "Epoch 22/70\n",
      "Epoch 23/70\n",
      "Epoch 24/70\n",
      "Epoch 25/70\n",
      "Epoch 26/70\n",
      "Epoch 27/70\n",
      "Epoch 28/70\n",
      "Epoch 29/70\n",
      "Epoch 30/70\n",
      "Epoch 31/70\n",
      "Epoch 32/70\n",
      "Epoch 33/70\n",
      "Epoch 34/70\n",
      "Epoch 35/70\n",
      "Epoch 36/70\n",
      "Epoch 37/70\n",
      "Epoch 38/70\n",
      "Epoch 39/70\n",
      "Epoch 40/70\n",
      "Epoch 41/70\n",
      "Epoch 42/70\n",
      "Epoch 43/70\n",
      "Epoch 44/70\n",
      "Epoch 45/70\n",
      "Epoch 46/70\n",
      "Epoch 47/70\n",
      "Epoch 48/70\n",
      "Epoch 49/70\n",
      "Epoch 50/70\n",
      "Epoch 51/70\n",
      "Epoch 52/70\n",
      "Epoch 53/70\n",
      "Epoch 54/70\n",
      "Epoch 55/70\n",
      "Epoch 56/70\n",
      "Epoch 57/70\n",
      "Epoch 58/70\n",
      "Epoch 59/70\n",
      "Epoch 60/70\n",
      "Epoch 61/70\n",
      "Epoch 62/70\n",
      "Epoch 63/70\n",
      "Epoch 64/70\n",
      "Epoch 65/70\n",
      "Epoch 66/70\n",
      "Epoch 67/70\n",
      "Epoch 68/70\n",
      "Epoch 69/70\n",
      "Epoch 70/70\n",
      "Results: -0.05 (0.08) MSE\n"
     ]
    }
   ],
   "source": [
    "def create_model():\n",
    "    model = Sequential()\n",
    "    model.add(Dense(20,input_dim = 28,kernel_initializer = 'uniform', activation = 'tanh'))\n",
    "    model.add(Dropout(0.5))\n",
    "    model.add(Dense(14,kernel_initializer = 'uniform', activation = 'tanh'))\n",
    "    model.add(Dropout(0.5))\n",
    "    model.add(Dense(1,kernel_initializer = 'uniform', activation = 'sigmoid'))\n",
    "    \n",
    "    adam = Adam(lr = 0.0001)\n",
    "    model.compile(loss = 'mean_squared_error', optimizer = 'adam', metrics = ['accuracy'])\n",
    "    return model\n",
    "\n",
    "model = KerasRegressor(build_fn = create_model,batch_size = 30, epochs = 70, verbose = 10)\n",
    "\n",
    "model.fit(x_std,y)\n",
    "\n",
    "kfold = KFold(n_splits=30)\n",
    "results = cross_val_score(model, x_std, y, cv=kfold)\n",
    "print(\"Results: %.2f (%.2f) MSE\" % (results.mean(), results.std()))\n"
   ]
  },
  {
   "cell_type": "markdown",
   "id": "ef9921b0",
   "metadata": {},
   "source": [
    "Mean squared error is 0.08"
   ]
  },
  {
   "cell_type": "code",
   "execution_count": null,
   "id": "7ac13998",
   "metadata": {},
   "outputs": [],
   "source": []
  }
 ],
 "metadata": {
  "kernelspec": {
   "display_name": "Python 3",
   "language": "python",
   "name": "python3"
  },
  "language_info": {
   "codemirror_mode": {
    "name": "ipython",
    "version": 3
   },
   "file_extension": ".py",
   "mimetype": "text/x-python",
   "name": "python",
   "nbconvert_exporter": "python",
   "pygments_lexer": "ipython3",
   "version": "3.8.8"
  },
  "toc": {
   "base_numbering": 1,
   "nav_menu": {},
   "number_sections": true,
   "sideBar": true,
   "skip_h1_title": false,
   "title_cell": "Table of Contents",
   "title_sidebar": "Contents",
   "toc_cell": false,
   "toc_position": {},
   "toc_section_display": true,
   "toc_window_display": false
  }
 },
 "nbformat": 4,
 "nbformat_minor": 5
}

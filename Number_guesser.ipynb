{
  "nbformat": 4,
  "nbformat_minor": 0,
  "metadata": {
    "colab": {
      "name": "Number_guesser",
      "provenance": [],
      "collapsed_sections": [],
      "authorship_tag": "ABX9TyNLRmS9KyIy2eC31D4zY4Ix",
      "include_colab_link": true
    },
    "kernelspec": {
      "name": "python3",
      "display_name": "Python 3"
    },
    "language_info": {
      "name": "python"
    }
  },
  "cells": [
    {
      "cell_type": "markdown",
      "metadata": {
        "id": "view-in-github",
        "colab_type": "text"
      },
      "source": [
        "<a href=\"https://colab.research.google.com/github/anagha0397/ANN/blob/main/Number_guesser.ipynb\" target=\"_parent\"><img src=\"https://colab.research.google.com/assets/colab-badge.svg\" alt=\"Open In Colab\"/></a>"
      ]
    },
    {
      "cell_type": "code",
      "execution_count": 2,
      "metadata": {
        "colab": {
          "base_uri": "https://localhost:8080/"
        },
        "id": "h41bx5zCK2gd",
        "outputId": "73a8be19-1f39-40bc-e996-1d9d015ff7d4"
      },
      "outputs": [
        {
          "output_type": "stream",
          "name": "stdout",
          "text": [
            "Hi! What is your name?\n",
            "Anagha\n",
            "Well Anagha, I was thinking of a random number between 1 and 15. Can you guess that number? If you are interested: \n",
            "Please guess a number.\n",
            "5\n",
            "The number is too low.\n",
            "Please guess a number.\n",
            "8\n",
            "The number is too low.\n",
            "Please guess a number.\n",
            "17\n",
            "The number is too high.\n",
            "Please guess a number.\n",
            "14\n",
            "The number is too high.\n",
            "Please guess a number.\n",
            "10\n",
            "The number is too high.\n",
            "Please guess a number.\n",
            "1\n",
            "The number is too low.\n",
            "Nope! The number I was thinking of was 9.\n"
          ]
        }
      ],
      "source": [
        "import random\n",
        "print('Hi! What is your name?')\n",
        "name= input()\n",
        "print('Well ' + str(name) + ', I was thinking of a random number between 1 and 15. Can you guess that number? If you are interested: ')\n",
        "\n",
        "computerNumber= random.randint(1, 15)\n",
        "\n",
        "for guessedNumber in range(1, 7):\n",
        "    print('Please guess a number.')\n",
        "    guess= input()\n",
        "    if int(guess) < computerNumber:\n",
        "        print('The number is too low.')\n",
        "    elif int(guess) > computerNumber:\n",
        "        print('The number is too high.')\n",
        "    else:25\n",
        "    \n",
        "        break # If the guess is correct.\n",
        "if int(guess) == computerNumber:\n",
        "    print('Great job, ' + str(name) + '! You made the right guess.')\n",
        "    print('You guessed my number in ' + str(guessedNumber) + ' guesses.')\n",
        "else:\n",
        "    print('Nope! The number I was thinking of was ' + str(computerNumber) + '.')"
      ]
    },
    {
      "cell_type": "code",
      "source": [
        ""
      ],
      "metadata": {
        "id": "H1vrfjTKK5SZ"
      },
      "execution_count": null,
      "outputs": []
    }
  ]
}